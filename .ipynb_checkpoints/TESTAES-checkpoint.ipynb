{
 "cells": [
  {
   "cell_type": "code",
   "execution_count": 6,
   "metadata": {},
   "outputs": [],
   "source": [
    "def shiftRows(state, Nb=10):\n",
    "    tmp = [[0 for i in range(Nb)] for i in range(Nb)]\n",
    "    for i in range(Nb):\n",
    "        for j in range(Nb):\n",
    "            tmp[i][j] = state[i][(j + i) % Nb]\n",
    "    return tmp"
   ]
  },
  {
   "cell_type": "code",
   "execution_count": 4,
   "metadata": {},
   "outputs": [],
   "source": [
    "from numpy import matrix\n",
    "A=[[2,3,1,1],\n",
    "  [1,2,3,1],\n",
    "  [1,1,2,3],\n",
    "  [3,1,1,2]]"
   ]
  },
  {
   "cell_type": "code",
   "execution_count": 8,
   "metadata": {},
   "outputs": [],
   "source": [
    "def mixColumns(state, Nb):\n",
    "    tmp = [[0 for i in xrange(Nb)] for i in xrange(Nb)]\n",
    "    for i in xrange(Nb):\n",
    "        tmp[0][i] = int2hex(gMult(state[0][i], '02') ^\n",
    "            gMult(state[1][i], '03') ^\n",
    "            gMult(state[2][i], '01') ^\n",
    "            gMult(state[3][i], '01'))\n",
    "        tmp[1][i] = int2hex(gMult(state[0][i], '01') ^\n",
    "            gMult(state[1][i], '02') ^\n",
    "            gMult(state[2][i], '03') ^\n",
    "            gMult(state[3][i], '01'))\n",
    "        tmp[2][i] = int2hex(gMult(state[0][i], '01') ^\n",
    "            gMult(state[1][i], '01') ^\n",
    "            gMult(state[2][i], '02') ^\n",
    "            gMult(state[3][i], '03'))\n",
    "        tmp[3][i] = int2hex(gMult(state[0][i], '03') ^\n",
    "            gMult(state[1][i], '01') ^\n",
    "            gMult(state[2][i], '01') ^\n",
    "            gMult(state[3][i], '02'))\n",
    "    return tmp"
   ]
  },
  {
   "cell_type": "code",
   "execution_count": 9,
   "metadata": {},
   "outputs": [],
   "source": [
    "def generateWord(num:int()):\n",
    "    if (num < 4):\n",
    "        w = generateGenericWord(wordSize*num, 'x')\n",
    "    elif (num >= 4):\n",
    "        if ((num % 4) == 0):\n",
    "            w = generateWord(3)\n",
    "            w = rotWord(w)\n",
    "            w = subWord(w, rconList[(num/4)-1])\n",
    "            w = xorWords(w, generateWord(0))\n",
    "    else:\n",
    "        w = generateWord(num-1)\n",
    "        w = xorWords(w, generateWord(num%4))\n",
    "    return w"
   ]
  },
  {
   "cell_type": "code",
   "execution_count": 8,
   "metadata": {},
   "outputs": [],
   "source": [
    "def shift_rows(s):\n",
    "    s[0][1], s[1][1], s[2][1], s[3][1] = s[1][1], s[2][1], s[3][1], s[0][1]\n",
    "    s[0][2], s[1][2], s[2][2], s[3][2] = s[2][2], s[3][2], s[0][2], s[1][2]\n",
    "    s[0][3], s[1][3], s[2][3], s[3][3] = s[3][3], s[0][3], s[1][3], s[2][3]\n",
    "    return s"
   ]
  },
  {
   "cell_type": "code",
   "execution_count": 9,
   "metadata": {},
   "outputs": [
    {
     "name": "stdout",
     "output_type": "stream",
     "text": [
      "[[2, 1, 2, 1], [1, 3, 1, 3], [1, 2, 1, 2], [3, 1, 3, 1]]\n"
     ]
    }
   ],
   "source": [
    "print(shift_rows(A))"
   ]
  },
  {
   "cell_type": "markdown",
   "metadata": {},
   "source": [
    "## Algorithme de chiffrement"
   ]
  },
  {
   "cell_type": "raw",
   "metadata": {},
   "source": [
    "Cipher(byte in[4*Nb], byte out[4*Nb], word w[Nb*(Nr+1)])\n",
    "begin\n",
    "    byte state[4,Nb]\n",
    "    state = in\n",
    "    AddRoundKey(state, w[0, Nb-1])// See Sec. 5.1.4\n",
    "    for round = 1 step 1 to Nr–1\n",
    "    SubBytes(state)// See Sec. 5.1.1\n",
    "    ShiftRows(state)// See Sec. 5.1.2\n",
    "    MixColumns(state) // See Sec. 5.1.3\n",
    "    AddRoundKey(state, w[round*Nb, (round+1)*Nb-1])\n",
    "    end for\n",
    "    SubBytes(state)\n",
    "    ShiftRows(state)\n",
    "    AddRoundKey(state, w[Nr*Nb, (Nr+1)*Nb-1])\n",
    "    out = state\n",
    "end"
   ]
  },
  {
   "cell_type": "code",
   "execution_count": null,
   "metadata": {},
   "outputs": [],
   "source": [
    "def ciperAES(byte in[4*nb],out[4*nb],word w[nb*(nr+1)]):\n",
    "    byte s[4,nb]\n",
    "    s=in\n",
    "    "
   ]
  },
  {
   "cell_type": "code",
   "execution_count": 4,
   "metadata": {},
   "outputs": [],
   "source": [
    "p=19\n",
    "a=5\n",
    "ga=13\n",
    "Hm=12\n",
    "k=5"
   ]
  },
  {
   "cell_type": "code",
   "execution_count": null,
   "metadata": {},
   "outputs": [],
   "source": [
    "r="
   ]
  }
 ],
 "metadata": {
  "kernelspec": {
   "display_name": "Python 3",
   "language": "python",
   "name": "python3"
  },
  "language_info": {
   "codemirror_mode": {
    "name": "ipython",
    "version": 3
   },
   "file_extension": ".py",
   "mimetype": "text/x-python",
   "name": "python",
   "nbconvert_exporter": "python",
   "pygments_lexer": "ipython3",
   "version": "3.7.6"
  }
 },
 "nbformat": 4,
 "nbformat_minor": 2
}
