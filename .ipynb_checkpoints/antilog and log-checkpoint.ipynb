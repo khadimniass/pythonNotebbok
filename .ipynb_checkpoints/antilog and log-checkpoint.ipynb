{
 "cells": [
  {
   "cell_type": "markdown",
   "metadata": {},
   "source": [
    "## IMPLEMENTATION DES TABLES LOGARITHMIQUES "
   ]
  },
  {
   "cell_type": "markdown",
   "metadata": {},
   "source": [
    "#### MULTIPLICATION DE DEUX POLYNOMES  DANS LA BASE 2 "
   ]
  },
  {
   "cell_type": "code",
   "execution_count": 1,
   "metadata": {},
   "outputs": [],
   "source": [
    "from sympy.polys.domains import ZZ\n",
    "import numpy as np\n",
    "from sympy.polys.galoistools import gf_mul, gf_div, gf_add_mul"
   ]
  },
  {
   "cell_type": "code",
   "execution_count": 2,
   "metadata": {},
   "outputs": [
    {
     "data": {
      "text/plain": [
       "[1, 1, 0]"
      ]
     },
     "execution_count": 2,
     "metadata": {},
     "output_type": "execute_result"
    }
   ],
   "source": [
    "#initialisation de deux polynome pour le test\n",
    "p1 = np.poly1d([1,1])\n",
    "x = np.poly1d([1,0])\n",
    "#cette fonction permet de multiplier deux fonctions dans la base 2 {0,1} la particularité de cette fonction\n",
    "#est que aprés le calcul le modulo(2) est appliquer a tous les coéfficients\n",
    "\n",
    "def mul_poly_mod2(p1,p2):\n",
    "    list_mpz = gf_mul(p1, p2, 2, ZZ)\n",
    "    list_int = [int(i) for i in list_mpz] #permet de convertir les éléments de la liste en entier \n",
    "    return list_int\n",
    "\n",
    "#test de la fonction\n",
    "mul_poly_mod2(p1.coeffs,x.coeffs)"
   ]
  },
  {
   "cell_type": "markdown",
   "metadata": {},
   "source": [
    "#### MODULO DE DEUX POLYNOME"
   ]
  },
  {
   "cell_type": "code",
   "execution_count": 3,
   "metadata": {},
   "outputs": [
    {
     "data": {
      "text/plain": [
       "[1, 0, 1, 1]"
      ]
     },
     "execution_count": 3,
     "metadata": {},
     "output_type": "execute_result"
    }
   ],
   "source": [
    "from sympy.polys.domains import ZZ\n",
    "from sympy.polys.galoistools import gf_div\n",
    "#initialisation de deux polynome pour le test\n",
    "p1 = [1,1, 0, 0, 0]#équivaut à x^4 + x^3\n",
    "p2 = [1, 0,0, 1, 1]#équivaut à x^4 + x + 1\n",
    "\n",
    "#cette fonction permet de calculer le modulo de deux polynomes dans la base 2 : f(x) mod(p(x))\n",
    "#exemple:  x^4 + x^3 mod (x^4 + x + 1)=x^3 + X + 1\n",
    "\n",
    "def poly_mod_poly(p1, p2): \n",
    "    f = gf_div(ZZ.map(p1), ZZ.map(p2), 2, ZZ)[1]#renvoi le reste et le modulo on recupère le modulo [1]\n",
    "    f = [int(i) for i in f] #permet de convertir les éléments de la liste en entier \n",
    "    return f\n",
    "\n",
    "#test de la fonction\n",
    "poly_mod_poly(p1, p2)    "
   ]
  },
  {
   "cell_type": "markdown",
   "metadata": {},
   "source": [
    "### FONCTION TABLE EXPONENTIELLE(antilog) "
   ]
  },
  {
   "cell_type": "code",
   "execution_count": 4,
   "metadata": {
    "scrolled": false
   },
   "outputs": [
    {
     "data": {
      "text/plain": [
       "[1, 2, 4, 8, 3, 6, 12, 11, 5, 10, 7, 14, 15, 13, 9, 1]"
      ]
     },
     "execution_count": 4,
     "metadata": {},
     "output_type": "execute_result"
    }
   ],
   "source": [
    "#initialisation du polynome et des constante\n",
    "poly_ini = list(np.poly1d([1,1]).coeffs)\n",
    "poly = list(np.poly1d([1,0,0,1,1]).coeffs)\n",
    "poly = [int(i) for i in poly]\n",
    "p=4 #le plus grand exposant\n",
    "numeric_poly_value = list()\n",
    "\n",
    "\n",
    "def gf_antilog(poly_ini, poly, p):\n",
    "    x = list(np.poly1d([1, 0]).coeffs)\n",
    "    for i in range(p):\n",
    "        numeric_poly_value.append(2**i)\n",
    "    i=p\n",
    "    numeric_poly_value.append(np.poly1d(poly_ini)(2))\n",
    "    while i != 1:\n",
    "        prod = mul_poly_mod2(x, poly_ini)\n",
    "        if len(prod) >= 5:        \n",
    "            prod = poly_mod_poly(prod, poly)\n",
    "        prod = np.poly1d(prod)\n",
    "        i=prod(2)\n",
    "        numeric_poly_value.append(i)\n",
    "        poly_ini=list(prod.coeffs)\n",
    "    return numeric_poly_value\n",
    "\n",
    "gf_antilog(poly_ini, poly, p)"
   ]
  },
  {
   "cell_type": "markdown",
   "metadata": {},
   "source": [
    "### FONCTION  TABLE LOG"
   ]
  },
  {
   "cell_type": "code",
   "execution_count": 5,
   "metadata": {},
   "outputs": [
    {
     "data": {
      "text/plain": [
       "{1: 0,\n",
       " 2: 1,\n",
       " 4: 2,\n",
       " 8: 3,\n",
       " 3: 4,\n",
       " 6: 5,\n",
       " 12: 6,\n",
       " 11: 7,\n",
       " 5: 8,\n",
       " 10: 9,\n",
       " 7: 10,\n",
       " 14: 11,\n",
       " 15: 12,\n",
       " 13: 13,\n",
       " 9: 14}"
      ]
     },
     "execution_count": 5,
     "metadata": {},
     "output_type": "execute_result"
    }
   ],
   "source": [
    "def gf_log_all():\n",
    "    return {key: value for (key, value) in zip(gf_antilog(poly_ini, poly, p), range(15))}\n",
    "gf_log_all()"
   ]
  },
  {
   "cell_type": "code",
   "execution_count": 6,
   "metadata": {},
   "outputs": [
    {
     "data": {
      "text/plain": [
       "9"
      ]
     },
     "execution_count": 6,
     "metadata": {},
     "output_type": "execute_result"
    }
   ],
   "source": [
    "def gf_log(i):\n",
    "    return {key: value for (key, value) in zip(gf_antilog(poly_ini, poly, p), range(15))}[i]\n",
    "gf_log(10)"
   ]
  }
 ],
 "metadata": {
  "kernelspec": {
   "display_name": "Python 3",
   "language": "python",
   "name": "python3"
  },
  "language_info": {
   "codemirror_mode": {
    "name": "ipython",
    "version": 3
   },
   "file_extension": ".py",
   "mimetype": "text/x-python",
   "name": "python",
   "nbconvert_exporter": "python",
   "pygments_lexer": "ipython3",
   "version": "3.7.6"
  }
 },
 "nbformat": 4,
 "nbformat_minor": 2
}
