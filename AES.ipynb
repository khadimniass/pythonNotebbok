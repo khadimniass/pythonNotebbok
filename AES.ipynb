{
 "cells": [
  {
   "cell_type": "markdown",
   "metadata": {},
   "source": [
    "output   :: $b=a^{m}$"
   ]
  },
  {
   "cell_type": "code",
   "execution_count": 87,
   "metadata": {},
   "outputs": [],
   "source": []
  },
  {
   "cell_type": "markdown",
   "metadata": {},
   "source": [
    "# AES"
   ]
  },
  {
   "cell_type": "markdown",
   "metadata": {},
   "source": [
    "<img src=\"LenkeyAES.png\" alt=\"Image Des tailles des cles\" title=\"Taille des cles de l'AES\"/>"
   ]
  },
  {
   "cell_type": "markdown",
   "metadata": {},
   "source": [
    "## AES-128-192-256"
   ]
  },
  {
   "cell_type": "markdown",
   "metadata": {},
   "source": [
    "***\n",
    "- SubBytes()\n",
    "- ShiftRows()\n",
    "- MixColumns()\n",
    "- AddRoundKey()\n",
    "***"
   ]
  },
  {
   "cell_type": "markdown",
   "metadata": {},
   "source": [
    "Les algorithmes de chiffrement et de déchiffrement sont les suivants:"
   ]
  },
  {
   "cell_type": "markdown",
   "metadata": {},
   "source": [
    "$C_ {i} = E_ {K} (P_ {i} \\oplus P_ {i-1} \\oplus C_ {i-1}), P_ {0} \\oplus C_ {0} = IV$\n",
    "\n",
    "\n",
    "$P_ {i}=D_ {K}(C_{i})\\oplus P_ {i-1} \\oplus C_ {i-1}, P_ {0} \\oplus C_ {0} = IV$"
   ]
  },
  {
   "cell_type": "markdown",
   "metadata": {},
   "source": [
    "$0 \\to f$ * $0 \\to f$"
   ]
  },
  {
   "cell_type": "markdown",
   "metadata": {},
   "source": [
    "## Génération des clé"
   ]
  },
  {
   "cell_type": "code",
   "execution_count": 18,
   "metadata": {},
   "outputs": [
    {
     "data": {
      "text/plain": [
       "'0x415a11c69dd0e5bae53d0c61c7292e0b'"
      ]
     },
     "execution_count": 18,
     "metadata": {},
     "output_type": "execute_result"
    }
   ],
   "source": [
    "import random\n",
    "def genkey_system(key):\n",
    "    clef=hex( random . randrange (2**128))\n",
    "    return clef\n",
    "k=\"\"\n",
    "genkey_system(k)"
   ]
  },
  {
   "cell_type": "code",
   "execution_count": 23,
   "metadata": {},
   "outputs": [],
   "source": [
    "Sbox=(\n",
    "  0x63 , 0x7C , 0x77 , 0x7B , 0xF2 , 0x6B , 0x6F , 0xC5 , 0x30 , 0x01 , 0x67 , 0x2B , 0xFE , 0xD7 , 0xAB , 0x76 ,\n",
    "  0xCA , 0x82 , 0xC9 , 0x7D , 0xFA , 0x59 , 0x47 , 0xF0 , 0xAD , 0xD4 , 0xA2 , 0xAF , 0x9C , 0xA4 , 0x72 , 0xC0 ,\n",
    "  0xB7 , 0xFD , 0x93 , 0x26 , 0x36 , 0x3F , 0xF7 , 0xCC , 0x34 , 0xA5 , 0xE5 , 0xF1 , 0x71 , 0xD8 , 0x31 , 0x15 ,\n",
    "  0x04 , 0xC7 , 0x23 , 0xC3 , 0x18 , 0x96 , 0x05 , 0x9A , 0x07 , 0x12 , 0x80 , 0xE2 , 0xEB , 0x27 , 0xB2 , 0x75 ,\n",
    "  0x09 , 0x83 , 0x2C , 0x1A , 0x1B , 0x6E , 0x5A , 0xA0 , 0x52 , 0x3B , 0xD6 , 0xB3 , 0x29 , 0xE3 , 0x2F , 0x84 ,\n",
    "  0x53 , 0xD1 , 0x00 , 0xED , 0x20 , 0xFC , 0xB1 , 0x5B , 0x6A , 0xCB , 0xBE , 0x39 , 0x4A , 0x4C , 0x58 , 0xCF ,\n",
    "  0xD0 , 0xEF , 0xAA , 0xFB , 0x43 , 0x4D , 0x33 , 0x85 , 0x45 , 0xF9 , 0x02 , 0x7F , 0x50 , 0x3C , 0x9F , 0xA8 ,\n",
    "  0x51 , 0xA3 , 0x40 , 0x8F , 0x92 , 0x9D , 0x38 , 0xF5 , 0xBC , 0xB6 , 0xDA , 0x21 , 0x10 , 0xFF , 0xF3 , 0xD2 ,\n",
    "  0xCD , 0x0C , 0x13 , 0xEC , 0x5F , 0x97 , 0x44 , 0x17 , 0xC4 , 0xA7 , 0x7E , 0x3D , 0x64 , 0x5D , 0x19 , 0x73 ,\n",
    "  0x60 , 0x81 , 0x4F , 0xDC , 0x22 , 0x2A , 0x90 , 0x88 , 0x46 , 0xEE , 0xB8 , 0x14 , 0xDE , 0x5E , 0x0B , 0xDB ,\n",
    "  0xE0 , 0x32 , 0x3A , 0x0A , 0x49 , 0x06 , 0x24 , 0x5C , 0xC2 , 0xD3 , 0xAC , 0x62 , 0x91 , 0x95 , 0xE4 , 0x79 ,\n",
    "  0xE7 , 0xC8 , 0x37 , 0x6D , 0x8D , 0xD5 , 0x4E , 0xA9 , 0x6C , 0x56 , 0xF4 , 0xEA , 0x65 , 0x7A , 0xAE , 0x08 ,\n",
    "  0xBA , 0x78 , 0x25 , 0x2E , 0x1C , 0xA6 , 0xB4 , 0xC6 , 0xE8 , 0xDD , 0x74 , 0x1F , 0x4B , 0xBD , 0x8B , 0x8A ,\n",
    "  0x70 , 0x3E , 0xB5 , 0x66 , 0x48 , 0x03 , 0xF6 , 0x0E , 0x61 , 0x35 , 0x57 , 0xB9 , 0x86 , 0xC1 , 0x1D , 0x9E ,\n",
    "  0xE1 , 0xF8 , 0x98 , 0x11 , 0x69 , 0xD9 , 0x8E , 0x94 , 0x9B , 0x1E , 0x87 , 0xE9 , 0xCE , 0x55 , 0x28 , 0xDF ,\n",
    "  0x8C , 0xA1 , 0x89 , 0x0D , 0xBF , 0xE6 , 0x42 , 0x68 , 0x41 , 0x99 , 0x2D , 0x0F , 0xB0 , 0x54 , 0xBB , 0x16 ,\n",
    ")\n",
    "InvSBox=(\n",
    "  0x52 , 0x09 , 0x6A , 0xD5 , 0x30 , 0x36 , 0xA5 , 0x38 , 0xBF , 0x40 , 0xA3 , 0x9E , 0x81 , 0xF3 , 0xD7 , 0xFB ,\n",
    "  0x7C , 0xE3 , 0x39 , 0x82 , 0x9B , 0x2F , 0xFF , 0x87 , 0x34 , 0x8E , 0x43 , 0x44 , 0xC4 , 0xDE , 0xE9 , 0xCB ,\n",
    "  0x54 , 0x7B , 0x94 , 0x32 , 0xA6 , 0xC2 , 0x23 , 0x3D , 0xEE , 0x4C , 0x95 , 0x0B , 0x42 , 0xFA , 0xC3 , 0x4E ,\n",
    "  0x08 , 0x2E , 0xA1 , 0x66 , 0x28 , 0xD9 , 0x24 , 0xB2 , 0x76 , 0x5B , 0xA2 , 0x49 , 0x6D , 0x8B , 0xD1 , 0x25 ,\n",
    "  0x72 , 0xF8 , 0xF6 , 0x64 , 0x86 , 0x68 , 0x98 , 0x16 , 0xD4 , 0xA4 , 0x5C , 0xCC , 0x5D , 0x65 , 0xB6 , 0x92 ,\n",
    "  0x6C , 0x70 , 0x48 , 0x50 , 0xFD , 0xED , 0xB9 , 0xDA , 0x5E , 0x15 , 0x46 , 0x57 , 0xA7 , 0x8D , 0x9D , 0x84 ,\n",
    "  0x90 , 0xD8 , 0xAB , 0x00 , 0x8C , 0xBC , 0xD3 , 0x0A , 0xF7 , 0xE4 , 0x58 , 0x05 , 0xB8 , 0xB3 , 0x45 , 0x06 ,\n",
    "  0xD0 , 0x2C , 0x1E , 0x8F , 0xCA , 0x3F , 0x0F , 0x02 , 0xC1 , 0xAF , 0xBD , 0x03 , 0x01 , 0x13 , 0x8A , 0x6B ,\n",
    "  0x3A , 0x91 , 0x11 , 0x41 , 0x4F , 0x67 , 0xDC , 0xEA , 0x97 , 0xF2 , 0xCF , 0xCE , 0xF0 , 0xB4 , 0xE6 , 0x73 ,\n",
    "  0x96 , 0xAC , 0x74 , 0x22 , 0xE7 , 0xAD , 0x35 , 0x85 , 0xE2 , 0xF9 , 0x37 , 0xE8 , 0x1C , 0x75 , 0xDF , 0x6E ,\n",
    "  0x47 , 0xF1 , 0x1A , 0x71 , 0x1D , 0x29 , 0xC5 , 0x89 , 0x6F , 0xB7 , 0x62 , 0x0E , 0xAA , 0x18 , 0xBE , 0x1B ,\n",
    "  0xFC , 0x56 , 0x3E , 0x4B , 0xC6 , 0xD2 , 0x79 , 0x20 , 0x9A , 0xDB , 0xC0 , 0xFE , 0x78 , 0xCD , 0x5A , 0xF4 ,\n",
    "  0x1F , 0xDD , 0xA8 , 0x33 , 0x88 , 0x07 , 0xC7 , 0x31 , 0xB1 , 0x12 , 0x10 , 0x59 , 0x27 , 0x80 , 0xEC , 0x5F ,\n",
    "  0x60 , 0x51 , 0x7F , 0xA9 , 0x19 , 0xB5 , 0x4A , 0x0D , 0x2D , 0xE5 , 0x7A , 0x9F , 0x93 , 0xC9 , 0x9C , 0xEF ,\n",
    "  0xA0 , 0xE0 , 0x3B , 0x4D , 0xAE , 0x2A , 0xF5 , 0xB0 , 0xC8 , 0xEB , 0xBB , 0x3C , 0x83 , 0x53 , 0x99 , 0x61 ,\n",
    "  0x17 , 0x2B , 0x04 , 0x7E , 0xBA , 0x77 , 0xD6 , 0x26 , 0xE1 , 0x69 , 0x14 , 0x63 , 0x55 , 0x21 , 0x0C , 0x7D ,\n",
    ")"
   ]
  },
  {
   "cell_type": "markdown",
   "metadata": {},
   "source": [
    " <a href=\"https://en.wikipedia.org/wiki/Rijndael_S-box\" title=\"Rijndael S-box - Wikipedia\">Source des tableau Sbox et InvSBox  ...</a>"
   ]
  },
  {
   "cell_type": "markdown",
   "metadata": {},
   "source": [
    "- $SubBytes()$"
   ]
  },
  {
   "cell_type": "code",
   "execution_count": 30,
   "metadata": {},
   "outputs": [],
   "source": [
    "def SubBytes(state):\n",
    "    for i in range(4):\n",
    "        for j in range(4):\n",
    "            state[i][j] = Sbox[state[i][j]]\n",
    "    return state"
   ]
  },
  {
   "cell_type": "code",
   "execution_count": 31,
   "metadata": {},
   "outputs": [],
   "source": [
    "B=SubBytes(A)"
   ]
  },
  {
   "cell_type": "code",
   "execution_count": 32,
   "metadata": {},
   "outputs": [
    {
     "ename": "NameError",
     "evalue": "name 'InvSubBytes' is not defined",
     "output_type": "error",
     "traceback": [
      "\u001b[1;31m---------------------------------------------------------------------------\u001b[0m",
      "\u001b[1;31mNameError\u001b[0m                                 Traceback (most recent call last)",
      "\u001b[1;32m<ipython-input-32-335571e9b2d5>\u001b[0m in \u001b[0;36m<module>\u001b[1;34m\u001b[0m\n\u001b[1;32m----> 1\u001b[1;33m \u001b[0mInvSubBytes\u001b[0m\u001b[1;33m(\u001b[0m\u001b[0mB\u001b[0m\u001b[1;33m)\u001b[0m\u001b[1;33m\u001b[0m\u001b[1;33m\u001b[0m\u001b[0m\n\u001b[0m\u001b[0;32m      2\u001b[0m \u001b[1;31m#InvSubBytes(B)=A\u001b[0m\u001b[1;33m\u001b[0m\u001b[1;33m\u001b[0m\u001b[1;33m\u001b[0m\u001b[0m\n",
      "\u001b[1;31mNameError\u001b[0m: name 'InvSubBytes' is not defined"
     ]
    }
   ],
   "source": [
    "InvSubBytes(B)\n",
    "#InvSubBytes(B)=A"
   ]
  },
  {
   "cell_type": "markdown",
   "metadata": {},
   "source": [
    "- $ShiftRows()$"
   ]
  },
  {
   "cell_type": "code",
   "execution_count": 170,
   "metadata": {},
   "outputs": [],
   "source": [
    "def ShiftRows(s):\n",
    "    s[0][1]=s[1][1]\n",
    "    s[1][1]=s[2][1]\n",
    "    s[2][1]=s[3][1]\n",
    "    s[3][1]=s[0][1]\n",
    "    \n",
    "    s[0][2]=s[2][2]\n",
    "    s[1][2]=s[3][2]\n",
    "    s[2][2]=s[0][2]\n",
    "    s[3][2]=s[1][2]\n",
    "    \n",
    "    s[0][3]=s[3][3]\n",
    "    s[1][3]=s[0][3] \n",
    "    s[3][3]=s[2][3]\n",
    "    return s"
   ]
  },
  {
   "cell_type": "code",
   "execution_count": 186,
   "metadata": {},
   "outputs": [
    {
     "name": "stdout",
     "output_type": "stream",
     "text": [
      "[[2, 2, 2, 3], [1, 2, 1, 3], [1, 2, 2, 3], [3, 2, 1, 3]]\n"
     ]
    }
   ],
   "source": [
    "print(ShiftRows(A))"
   ]
  },
  {
   "cell_type": "code",
   "execution_count": 187,
   "metadata": {},
   "outputs": [
    {
     "name": "stdout",
     "output_type": "stream",
     "text": [
      "[[2, 2, 2, 3], [1, 2, 1, 3], [1, 2, 2, 3], [3, 2, 1, 3]]\n"
     ]
    }
   ],
   "source": [
    "print(InvShiftSows(A))"
   ]
  },
  {
   "cell_type": "markdown",
   "metadata": {},
   "source": [
    "- $MixColumns()$\n",
    "\n",
    "\n",
    "$GF(2^8)$ : L'origine de la matrice $A$"
   ]
  },
  {
   "cell_type": "code",
   "execution_count": 26,
   "metadata": {},
   "outputs": [],
   "source": [
    "from numpy import matrix\n",
    "#np.matrix(np.arange(9).reshape((3,3)))\n",
    "A=([[2,3,1,1],[1,2,3,1],[1,1,2,3],[3,1,1,2]])"
   ]
  },
  {
   "cell_type": "code",
   "execution_count": 201,
   "metadata": {},
   "outputs": [],
   "source": [
    "#mix_single_column=MixSingleColumn\n",
    "xtime = lambda a:(((a << 1) ^ 0x1B) & 0xFF) if (a & 0x80) else (a << 1)\n",
    "def MixSingleColumn(m):\n",
    "    \n",
    "    t = m[0] ^ m[1] ^ m[2] ^ m[3]\n",
    "    u = m[0]\n",
    "    m[0] ^= t ^ xtime(m[0] ^ m[1])\n",
    "    m[1] ^= t ^ xtime(m[1] ^ m[2])\n",
    "    m[2] ^= t ^ xtime(m[2] ^ m[3])\n",
    "    m[3] ^= t ^ xtime(m[3] ^ u)\n",
    "    return m\n",
    "\n",
    "\n",
    "def MixColumns(s):\n",
    "    for i in range(4):\n",
    "            S=MixSingleColumn(s[i])\n",
    "    return S"
   ]
  },
  {
   "cell_type": "code",
   "execution_count": 202,
   "metadata": {},
   "outputs": [
    {
     "data": {
      "text/plain": [
       "[2, 7, 6, 0]"
      ]
     },
     "execution_count": 202,
     "metadata": {},
     "output_type": "execute_result"
    }
   ],
   "source": [
    "MixColumns(A)"
   ]
  },
  {
   "cell_type": "markdown",
   "metadata": {},
   "source": [
    "- $AddRoundKey()$"
   ]
  },
  {
   "cell_type": "code",
   "execution_count": 99,
   "metadata": {},
   "outputs": [],
   "source": [
    "def AddRoundKey(s,k):\n",
    "    for i in range(4):\n",
    "        for j in range(4):\n",
    "#            s[i][j]^= hex(k[i][j])\n",
    "            s[i][j]^=(k[i][j])\n",
    "    return s"
   ]
  },
  {
   "cell_type": "code",
   "execution_count": null,
   "metadata": {},
   "outputs": [],
   "source": []
  },
  {
   "cell_type": "markdown",
   "metadata": {},
   "source": [
    "## AES cipher 128"
   ]
  },
  {
   "cell_type": "code",
   "execution_count": 84,
   "metadata": {},
   "outputs": [],
   "source": [
    "def cipher(block, key, Nb=4, Nr=10):\n",
    "    state = createState(block, Nb)\n",
    "    roundKey = \"\".join(key[0:Nb])\n",
    "    state = AddRoundKey(state, createState(roundKey, Nb), Nb)\n",
    "    for round in xrange(1,Nr):\n",
    "        state = SubBytes(state, Nb)\n",
    "        state = ShiftRows(state, Nb)\n",
    "        state = MixColumns(state, Nb)\n",
    "        roundKey = \"\".join(key[round*Nb:(round*Nb)+Nb])\n",
    "        state = AddRoundKey(state, createState(roundKey, Nb), Nb)\n",
    "        state = SubBytes(state, Nb)\n",
    "        state = ShiftRows(state, Nb)\n",
    "        roundKey = \"\".join(key[Nr*Nb:(Nr*Nb)+Nb])\n",
    "        state = AddRoundKey(state, createState(roundKey, Nb), Nb)\n",
    "    return createBlock(state, Nb)"
   ]
  },
  {
   "cell_type": "markdown",
   "metadata": {},
   "source": [
    "## X_OR"
   ]
  },
  {
   "cell_type": "code",
   "execution_count": 152,
   "metadata": {},
   "outputs": [],
   "source": [
    "def xor(t1, t2):\n",
    "    result = ''\n",
    "    for i in range(len(t1)):\n",
    "        result += str(int(t1[i])^int(t2[i]))\n",
    "    return int(result)"
   ]
  },
  {
   "cell_type": "code",
   "execution_count": 153,
   "metadata": {},
   "outputs": [
    {
     "data": {
      "text/plain": [
       "100110"
      ]
     },
     "execution_count": 153,
     "metadata": {},
     "output_type": "execute_result"
    }
   ],
   "source": [
    "xor(\"010011\",\"110101\")"
   ]
  },
  {
   "cell_type": "markdown",
   "metadata": {},
   "source": [
    "## decipher AES"
   ]
  },
  {
   "cell_type": "code",
   "execution_count": null,
   "metadata": {},
   "outputs": [],
   "source": [
    "def InvShiftSows(s):\n",
    "    s[0][1]=s[3][1]\n",
    "    s[1][1]=s[0][1]\n",
    "    s[2][1]=s[1][1]\n",
    "    s[3][1]=s[2][1]\n",
    "    \n",
    "    s[0][2]=s[2][2]\n",
    "    s[1][2]=s[3][2]\n",
    "    s[2][2]=s[0][2]\n",
    "    s[3][2]=s[1][2]\n",
    "    \n",
    "    s[0][3]=s[1][3]\n",
    "    s[1][3]=s[2][3]\n",
    "    s[2][3]=s[3][3]\n",
    "    s[3][3]=s[0][3]\n",
    "    return s"
   ]
  },
  {
   "cell_type": "code",
   "execution_count": null,
   "metadata": {},
   "outputs": [],
   "source": [
    "def InvSubBytes(s):\n",
    "    for i in range(4):\n",
    "        for j in range(4):\n",
    "            s[i][j] = InvSBox[s[i][j]]\n",
    "    return s"
   ]
  },
  {
   "cell_type": "code",
   "execution_count": null,
   "metadata": {},
   "outputs": [],
   "source": [
    "def InvMixColumns(s):\n",
    "    for i in range(4):\n",
    "        u = xtime(xtime(s[i][0] ^ s[i][2]))\n",
    "        v = xtime(xtime(s[i][1] ^ s[i][3]))\n",
    "        s[i][0] ^= u\n",
    "        s[i][1] ^= v\n",
    "        s[i][2] ^= u\n",
    "        s[i][3] ^= v\n",
    "    return MixColumns(s)"
   ]
  },
  {
   "cell_type": "code",
   "execution_count": 34,
   "metadata": {},
   "outputs": [],
   "source": [
    "def matrix2bytes(M):\n",
    "    return bytes(sum(M,[]))"
   ]
  },
  {
   "cell_type": "code",
   "execution_count": 33,
   "metadata": {},
   "outputs": [],
   "source": [
    "    def decrypt(chipher_text):\n",
    "        assert len(chipher_text) == 16\n",
    "\n",
    "        cipher_state = bytes2matrix(chipher_text)\n",
    "\n",
    "        (cipher_state, key_matrices[-1])\n",
    "        InvShiftSows(cipher_state)\n",
    "        InvSubBytes(cipher_state)\n",
    "\n",
    "        for i in range(round-1, 0, -1):\n",
    "            add_round_key(cipher_state,key_matrices[i])\n",
    "            InvMixColumns(cipher_state)\n",
    "            InvShiftSows(cipher_state)\n",
    "            InvSubBytes(cipher_state)\n",
    "\n",
    "        AddRoundKey(cipher_state, self._key_matrices[0])\n",
    "\n",
    "        return matrix2bytes(cipher_state)"
   ]
  }
 ],
 "metadata": {
  "kernelspec": {
   "display_name": "Python 3",
   "language": "python",
   "name": "python3"
  },
  "language_info": {
   "codemirror_mode": {
    "name": "ipython",
    "version": 3
   },
   "file_extension": ".py",
   "mimetype": "text/x-python",
   "name": "python",
   "nbconvert_exporter": "python",
   "pygments_lexer": "ipython3",
   "version": "3.7.6"
  },
  "widgets": {
   "application/vnd.jupyter.widget-state+json": {
    "state": {},
    "version_major": 2,
    "version_minor": 0
   }
  }
 },
 "nbformat": 4,
 "nbformat_minor": 2
}
