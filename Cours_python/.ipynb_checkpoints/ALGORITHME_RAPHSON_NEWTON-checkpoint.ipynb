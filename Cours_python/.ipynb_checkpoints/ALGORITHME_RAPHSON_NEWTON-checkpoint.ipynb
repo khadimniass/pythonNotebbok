{
 "cells": [
  {
   "cell_type": "markdown",
   "metadata": {},
   "source": [
    "## gamma function\n",
    "$\\Gamma(x) := \\int^{\\infty}_{0} t^{x-1} e^{-t} \\mathrm{d}t$"
   ]
  },
  {
   "cell_type": "markdown",
   "metadata": {},
   "source": [
    "$f(x,n)=\\int^{5}_{0} x^2+2x  \\mathrm{d}x +\\sum^{n}_{0}2n^4-20$"
   ]
  },
  {
   "cell_type": "markdown",
   "metadata": {},
   "source": [
    "l'algorithme de Newton Raphson permet de calculer $g(\\teta)=0$ \n",
    "de manière itérative par la formule\n",
    "${teta $\\to n+1$=$teta$ $n$-$g(teta)$/$gPrime(teta)$ ; n>=0\n",
    "$g(teta)=0$"
   ]
  },
  {
   "cell_type": "markdown",
   "metadata": {},
   "source": [
    "## Teste avec la fonction avec l'algorithme de Newton Raphson\n",
    "$f(x)= x^3+3$"
   ]
  },
  {
   "cell_type": "code",
   "execution_count": 18,
   "metadata": {},
   "outputs": [
    {
     "name": "stdout",
     "output_type": "stream",
     "text": [
      "1.0833333333333335 Pour i==> 0\n",
      "-0.12984878369493758 Pour i==> 1\n",
      "-59.39606112899 Pour i==> 2\n",
      "-39.59765754137632 Pour i==> 3\n",
      "-26.399076126398423 Pour i==> 4\n",
      "-17.600818987264496 Pour i==> 5\n",
      "-11.737107330201214 Pour i==> 6\n",
      "-7.831997237710539 Pour i==> 7\n",
      "-5.237634019580414 Pour i==> 8\n",
      "-3.5282087131420763 Pour i==> 9\n",
      "-2.4324716755741127 Pour i==> 10\n",
      "-1.790654676076151 Pour i==> 11\n",
      "-1.505641735442458 Pour i==> 12\n",
      "-1.444881118362546 Pour i==> 13\n",
      "-1.4422543602108169 Pour i==> 14\n",
      "-1.4422495703233162 Pour i==> 15\n",
      "-1.4422495703074083 Pour i==> 16\n",
      "-1.4422495703074083 Pour i==> 17\n",
      "-1.4422495703074083 Pour i==> 18\n",
      "-1.4422495703074083 Pour i==> 19\n"
     ]
    }
   ],
   "source": [
    "def f(x):\n",
    "    return x**3+3\n",
    "def df(x):\n",
    "    return 3*x**2\n",
    "a=2\n",
    "for i in range(20):\n",
    "    a=a-f(a)/df(a)\n",
    "    print(a,\"Pour i==>\",i)"
   ]
  },
  {
   "cell_type": "code",
   "execution_count": 139,
   "metadata": {},
   "outputs": [],
   "source": [
    "import sympy\n",
    "import math"
   ]
  },
  {
   "cell_type": "code",
   "execution_count": 33,
   "metadata": {},
   "outputs": [],
   "source": [
    "# Gamma\n",
    "def gam(alpha,n):\n",
    "    troisiem_term=sum([math.log(i) for i in range(1,n)])\n",
    "    \n",
    "    x_bar=(sum([j for j in range(1,n) ]))\n",
    "    \n",
    "    return  -n*((sympy.diff(sympy.gamma(alpha)))/sympy.gamma(alpha))-n*math.log(x_bar/(n*alpha))+troisiem_term\n",
    "def dgam(alpha,n):\n",
    "    return sympy.diff(gam)"
   ]
  },
  {
   "cell_type": "code",
   "execution_count": 153,
   "metadata": {},
   "outputs": [
    {
     "data": {
      "text/latex": [
       "$\\displaystyle 0.693147180559945$"
      ],
      "text/plain": [
       "0.693147180559945"
      ]
     },
     "execution_count": 153,
     "metadata": {},
     "output_type": "execute_result"
    }
   ],
   "source": [
    "gam(1,3)"
   ]
  },
  {
   "cell_type": "code",
   "execution_count": null,
   "metadata": {},
   "outputs": [],
   "source": [
    "#### Raphson_Newton\n",
    "def NewtRaph():\n",
    "    return gam()\n",
    "gam(2,2)\n",
    "def dNewtRaph():\n",
    "    return sympy.diff(gam())\n",
    "a=8\n",
    "for i in range(5):\n",
    "   a=a-NewtRaph()/dNewtRaph()"
   ]
  },
  {
   "cell_type": "code",
   "execution_count": 17,
   "metadata": {},
   "outputs": [
    {
     "data": {
      "text/plain": [
       "6"
      ]
     },
     "execution_count": 17,
     "metadata": {},
     "output_type": "execute_result"
    }
   ],
   "source": [
    "liste=[  4.9715277,2.3950684,6.9276035,9.8178890,8.8592062,3.6318223\n",
    "  8.2100328,2.4059565,0.3542640,3.8746461,5.5771696,4.5065179\n",
    "  0.9084919,3.7921954,1.0863522,6.7619878,2.4788662,4.1752563\n",
    "  2.2037817,9.2142301,4.2471287,4.2027407,2.5067747,2.7854016\n",
    "  4.6291707,5.3205667,4.2967073,6.0430255,2.3958655,8.5496704\n",
    "  7.2022812,1.6872423,2.2993789,2.3954743,4.5859868,1.3977662\n",
    "  4.9985051,2.3576235,11.3064630,5.2523982,5.2992748,3.7987439\n",
    "  2.2967666,7.7092264,6.8806153,3.4035323,3.7402224,4.7458975\n",
    "  2.8234112,1.0495046,3.5277914,6.0443621,3.6217245,8.9109427\n",
    "  5.4037658,6.7881035,4.5993294,7.1773837,4.6333468,3.6381851\n",
    "  3.2721471,1.0378773,4.1546943,8.5143052,1.7815878,2.6005386\n",
    "  3.5153600,4.7998715,5.6354831,10.7489601,2.9337384,0.7787420\n",
    "  2.8308490,5.7262069,2.4334167,4.1679139,7.4558313,1.1213301\n",
    "  8.4678003,1.6146869,5.3897647,7.9084252,6.5060000,9.5796112\n",
    "  8.0392609,5.3504714,2.2807428,7.6524203,7.2802571,4.6570637\n",
    "  5.0210393,1.9201287,6.7524730,11.4284631,4.7644799,2.0647705\n",
    "  2.0586914,1.7462533,9.7993866,10.6600198]\n",
    "print(liste)"
   ]
  },
  {
   "cell_type": "code",
   "execution_count": null,
   "metadata": {},
   "outputs": [],
   "source": []
  }
 ],
 "metadata": {
  "kernelspec": {
   "display_name": "Python 3",
   "language": "python",
   "name": "python3"
  },
  "language_info": {
   "codemirror_mode": {
    "name": "ipython",
    "version": 3
   },
   "file_extension": ".py",
   "mimetype": "text/x-python",
   "name": "python",
   "nbconvert_exporter": "python",
   "pygments_lexer": "ipython3",
   "version": "3.7.4"
  }
 },
 "nbformat": 4,
 "nbformat_minor": 2
}
