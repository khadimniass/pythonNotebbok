{
 "cells": [
  {
   "cell_type": "markdown",
   "metadata": {},
   "source": [
    "# 1. Conditions et Boucles \n",
    "\n"
   ]
  },
  {
   "cell_type": "markdown",
   "metadata": {},
   "source": [
    "## Opérateurs de comparaison\n",
    "\n",
    "`<` (inférieur) ; `<=` (inférieur ou égal) ; `>` (supérieur) ; `>=` (supérieur ou égal) ; `==` (égalité) ; `!=` (différent)\n",
    "    \n",
    "## Logique\n",
    "\n",
    "`in` (appartient) ; `not` (negation) ; `not in` (n'appartient pas) ; `and` (et) ; `or` (ou) \n",
    "\n",
    "```python\n",
    "  True and True         # True\n",
    "  True and False        # False\n",
    "  False and False       # False\n",
    "  True or False         # True\n",
    "  not False             # True\n",
    "  not(True or False)    # False\n",
    "  not(True or True)     # False\n",
    "  not True or True      # True\n",
    "```"
   ]
  },
  {
   "cell_type": "code",
   "execution_count": 12,
   "metadata": {},
   "outputs": [
    {
     "data": {
      "text/plain": [
       "True"
      ]
     },
     "execution_count": 12,
     "metadata": {},
     "output_type": "execute_result"
    }
   ],
   "source": [
    "2 < 5"
   ]
  },
  {
   "cell_type": "code",
   "execution_count": 7,
   "metadata": {},
   "outputs": [
    {
     "data": {
      "text/plain": [
       "True"
      ]
     },
     "execution_count": 7,
     "metadata": {},
     "output_type": "execute_result"
    }
   ],
   "source": [
    "4 == 8-4"
   ]
  },
  {
   "cell_type": "code",
   "execution_count": 8,
   "metadata": {},
   "outputs": [
    {
     "data": {
      "text/plain": [
       "True"
      ]
     },
     "execution_count": 8,
     "metadata": {},
     "output_type": "execute_result"
    }
   ],
   "source": [
    "0 == 0.0"
   ]
  },
  {
   "cell_type": "code",
   "execution_count": 4,
   "metadata": {},
   "outputs": [
    {
     "data": {
      "text/plain": [
       "True"
      ]
     },
     "execution_count": 4,
     "metadata": {},
     "output_type": "execute_result"
    }
   ],
   "source": [
    " 6 != 6.0001"
   ]
  },
  {
   "cell_type": "code",
   "execution_count": 15,
   "metadata": {},
   "outputs": [
    {
     "data": {
      "text/plain": [
       "True"
      ]
     },
     "execution_count": 15,
     "metadata": {},
     "output_type": "execute_result"
    }
   ],
   "source": [
    "(2 < 5) and 9 in (6, 8.1, 9)"
   ]
  },
  {
   "cell_type": "code",
   "execution_count": 2,
   "metadata": {},
   "outputs": [
    {
     "data": {
      "text/plain": [
       "True"
      ]
     },
     "execution_count": 2,
     "metadata": {},
     "output_type": "execute_result"
    }
   ],
   "source": [
    "x = 10\n",
    "\n",
    "9 <= x <= 10.5"
   ]
  },
  {
   "cell_type": "markdown",
   "metadata": {},
   "source": [
    "# 2. La condition `if ...., elif ...., else .....`\n",
    "\n",
    "\n",
    "\n",
    "## Cas 1\n",
    "\n",
    "```python\n",
    "\n",
    "if condition: \n",
    "    <Instructions>\n",
    "    \n",
    "```\n",
    "\n",
    "\n",
    "## Cas 2\n",
    "\n",
    "```python\n",
    "\n",
    "if condition: \n",
    "    <Instructions>\n",
    "else:\n",
    "    <Instructions>\n",
    "    \n",
    "```\n",
    "\n",
    "\n",
    "```python\n",
    "\n",
    "if condition 1: \n",
    "    <Instructions>\n",
    "elif condition 2: \n",
    "    <Instructions>\n",
    "elif condition 3: \n",
    "    <Instructions>\n",
    " # .\n",
    " # .\n",
    "elif condition n: \n",
    "    <Instructions>\n",
    "    \n",
    "```\n",
    "\n",
    "## Cas Général\n",
    "\n",
    "```python\n",
    "\n",
    "if condition 1: \n",
    "    <Instructions>\n",
    "elif condition 2: \n",
    "    <Instructions>\n",
    "elif condition 3: \n",
    "    <Instructions>\n",
    " # .\n",
    " # .\n",
    "else:\n",
    "    <Instructions>\n",
    "    \n",
    "```\n",
    "\n",
    "Il peut y avoir un nombre quelconque de parties `elif` et la partie `else` est facultative, seul la partie `if` est obligatoire. Le mot clé `elif` est un raccourci pour `else if`."
   ]
  },
  {
   "cell_type": "markdown",
   "metadata": {},
   "source": [
    "# Exo 1 \n",
    "\n",
    "Ecrire un code en python qui permet de distinguer un entier **pair** et un entier **impair**"
   ]
  },
  {
   "cell_type": "code",
   "execution_count": 2,
   "metadata": {},
   "outputs": [
    {
     "name": "stdout",
     "output_type": "stream",
     "text": [
      "Donner un entier4\n",
      "L'entier n=4 est pair\n"
     ]
    }
   ],
   "source": [
    "x = int(input(\"Donner un entier\"))\n",
    "if x % 2 == 0:\n",
    "    print(f\"L'entier n={x} est pair\")\n",
    "else:\n",
    "    print(f\"L'entier n={x} est imppair\")"
   ]
  },
  {
   "cell_type": "markdown",
   "metadata": {},
   "source": [
    "# Exo2\n",
    " 1. Demander à l'utilisteur son age\n",
    " 2. \n",
    "     * Si $0\\leq age \\leq 18$, afficher Mineur\n",
    "     * Si $18< age \\leq 60$, afficher Adulte\n",
    "     * Si $ age > 60$, afficher Vieux\n",
    "     * Sinon, afficher \"Erreur\""
   ]
  },
  {
   "cell_type": "code",
   "execution_count": 4,
   "metadata": {},
   "outputs": [
    {
     "name": "stdout",
     "output_type": "stream",
     "text": [
      "Donner un entier0\n",
      "Vous etes mineur\n"
     ]
    }
   ],
   "source": [
    "age = float(input(\"Donner un entier\"))\n",
    "if 0 <= age <= 18:\n",
    "    print(\"Vous etes mineur\")\n",
    "elif 18 < age <= 60:\n",
    "    print(\"Vous etes Adulte\")\n",
    "elif age > 60:\n",
    "    print(\"Vous etes Vieux\")\n",
    "else:\n",
    "    print(\"ERREUR\")"
   ]
  },
  {
   "cell_type": "markdown",
   "metadata": {},
   "source": [
    "# Exo 3 : Calcul de mediane d'une serie statistique\n",
    "\n",
    "Ecrire un programme qui permet de calculer la médiane d'une série statistique donnée sous forme d'une liste\n"
   ]
  },
  {
   "cell_type": "code",
   "execution_count": 35,
   "metadata": {},
   "outputs": [
    {
     "name": "stdout",
     "output_type": "stream",
     "text": [
      "Donner un entier: 200,2,199\n",
      "mediane = 199\n"
     ]
    }
   ],
   "source": [
    "liste = eval(input(\"Donner un entier: \"))\n",
    "liste = sorted(liste) # ou liste.sort()\n",
    "N = len(liste)\n",
    "if N % 2 == 1:\n",
    "    pos_med = (N+1)//2 - 1\n",
    "    mediane = liste[pos_med]\n",
    "else:\n",
    "    # N est pair\n",
    "    pos1 = (N//2) - 1\n",
    "    mediane = (liste[pos1] + liste[pos1 + 1])/2\n",
    "print(f\"mediane = {mediane}\")"
   ]
  },
  {
   "cell_type": "markdown",
   "metadata": {},
   "source": [
    "## Exemples"
   ]
  },
  {
   "cell_type": "code",
   "execution_count": 36,
   "metadata": {},
   "outputs": [],
   "source": [
    "help(sorted)"
   ]
  },
  {
   "cell_type": "markdown",
   "metadata": {},
   "source": [
    "# 3. La fonction `range`\n",
    "\n",
    "* `range(m)` $\\to 0, 1, 2, ..., m - 1$"
   ]
  },
  {
   "cell_type": "code",
   "execution_count": 20,
   "metadata": {},
   "outputs": [
    {
     "data": {
      "text/plain": [
       "range(0, 10)"
      ]
     },
     "execution_count": 20,
     "metadata": {},
     "output_type": "execute_result"
    }
   ],
   "source": [
    "range(10) # 0, 1, 2, ..., 8, 9"
   ]
  },
  {
   "cell_type": "code",
   "execution_count": 22,
   "metadata": {},
   "outputs": [
    {
     "data": {
      "text/plain": [
       "[0, 1, 2, 3, 4, 5, 6, 7, 8, 9]"
      ]
     },
     "execution_count": 22,
     "metadata": {},
     "output_type": "execute_result"
    }
   ],
   "source": [
    "list(range(10))"
   ]
  },
  {
   "cell_type": "markdown",
   "metadata": {},
   "source": [
    "* `range(m, n)` $\\to m, m+1, m+2, ..., n-1$"
   ]
  },
  {
   "cell_type": "code",
   "execution_count": 37,
   "metadata": {},
   "outputs": [
    {
     "data": {
      "text/plain": [
       "[0, 1, 2, 3, 4, 5, 6, 7, 8, 9]"
      ]
     },
     "execution_count": 37,
     "metadata": {},
     "output_type": "execute_result"
    }
   ],
   "source": [
    "list(range(0, 10)) # = list(range(10))"
   ]
  },
  {
   "cell_type": "markdown",
   "metadata": {},
   "source": [
    "* `range(m, n, k)` $\\to m, m+k, m+2k, m+3k, ..., n-1$"
   ]
  },
  {
   "cell_type": "code",
   "execution_count": 45,
   "metadata": {},
   "outputs": [
    {
     "name": "stdout",
     "output_type": "stream",
     "text": [
      "[4, 6, 8, 10, 12, 14, 16, 18]\n"
     ]
    }
   ],
   "source": [
    "list(range(4, 20, 2))"
   ]
  },
  {
   "cell_type": "code",
   "execution_count": 30,
   "metadata": {},
   "outputs": [
    {
     "data": {
      "text/plain": [
       "range"
      ]
     },
     "execution_count": 30,
     "metadata": {},
     "output_type": "execute_result"
    }
   ],
   "source": [
    "type(range(4, 10, 1))"
   ]
  },
  {
   "cell_type": "markdown",
   "metadata": {},
   "source": [
    "# 4. La boucle `for`\n",
    "\n",
    "L'instruction `for` que propose `Python` est un peu différente de celle que l'on peut trouver en `C`. Au lieu de toujours itérer sur une suite arithmétique de nombres (comme en `Pascal`), ou de donner à l'utilisateur la possibilité de définir le pas d'itération et la condition de fin (comme en `C`), **l'instruction for en Python itère sur les éléments d'une séquence (qui peut être de type `list`, `str`, `tuple`, `range`, etc), dans l'ordre dans lequel ils apparaissent dans la séquence. Par exemple :**"
   ]
  },
  {
   "cell_type": "code",
   "execution_count": 48,
   "metadata": {},
   "outputs": [
    {
     "name": "stdout",
     "output_type": "stream",
     "text": [
      "0 1 2 3 4 5 6 7 8 9 "
     ]
    }
   ],
   "source": [
    "for i in range(0, 10):\n",
    "    print(i)"
   ]
  },
  {
   "cell_type": "code",
   "execution_count": 50,
   "metadata": {},
   "outputs": [],
   "source": [
    "fruit = [\"Pomme\", \"Orange\", \"Mangue\", \"Bannane\", \"Pastec\", \"Citron\"]"
   ]
  },
  {
   "cell_type": "code",
   "execution_count": 51,
   "metadata": {},
   "outputs": [
    {
     "name": "stdout",
     "output_type": "stream",
     "text": [
      "Pomme Orange Mangue Bannane Pastec Citron "
     ]
    }
   ],
   "source": [
    "for fr in fruit:\n",
    "    print(fr,end=\" \")"
   ]
  },
  {
   "cell_type": "code",
   "execution_count": null,
   "metadata": {},
   "outputs": [],
   "source": [
    "chaine = \"Equipe TDSI\"\n",
    "for caracter in chaine:\n",
    "    print(caracter, 5*caracter)\n",
    "    # noter que 5*caracter = caracter + caracter + caracter + caracter + caracter\n",
    "    "
   ]
  },
  {
   "cell_type": "code",
   "execution_count": 54,
   "metadata": {},
   "outputs": [
    {
     "name": "stdout",
     "output_type": "stream",
     "text": [
      "Donner une liste d'entier[1,2,3]\n",
      "[1, 4, 9]\n"
     ]
    }
   ],
   "source": [
    "liste = eval(input(\"Donner une liste d'entier\"))\n",
    "liste_carre=[]\n",
    "for elt in liste:\n",
    "    liste_carre.append(elt ** 2)\n",
    "print(liste_carre)"
   ]
  },
  {
   "cell_type": "markdown",
   "metadata": {},
   "source": [
    "# Les instructions `break`, `continue` et les clauses `else` au sein des boucles"
   ]
  },
  {
   "cell_type": "markdown",
   "metadata": {},
   "source": [
    "* L'instruction `break`, comme en `C`, interrompt la boucle `for` ou `while` la plus profonde.\n",
    "\n",
    "* L'instruction `continue`, également empruntée au `C`, fait passer la boucle à son itération suivante :\n",
    "\n",
    "* Les boucles peuvent également disposer d'une instruction `else` ; celle-ci est exécutée lorsqu'une boucle se termine alors que tous ses éléments ont été traités (dans le cas d'un `for`) ou que la condition devient fausse (dans le cas d'un `while`), mais pas lorsque la boucle est interrompue par une instruction `break`."
   ]
  },
  {
   "cell_type": "markdown",
   "metadata": {},
   "source": [
    "## Exemple\n",
    "\n",
    "Supposons qu'on cherche le premier entier `n` positif entre $0$ et $1000$ tel que $-4(n+3)^3 + 5n^2 + 10**15<0$"
   ]
  },
  {
   "cell_type": "code",
   "execution_count": 55,
   "metadata": {},
   "outputs": [
    {
     "name": "stdout",
     "output_type": "stream",
     "text": [
      "n = 62994\n"
     ]
    }
   ],
   "source": [
    "# Utilisation de break\n",
    "for n in range(10**):\n",
    "    if -4*(n+3)**3 + 5*n**2 + 10**15 < 0:\n",
    "        print(f\"n = {n}\")\n",
    "        break"
   ]
  },
  {
   "cell_type": "code",
   "execution_count": 64,
   "metadata": {},
   "outputs": [
    {
     "name": "stdout",
     "output_type": "stream",
     "text": [
      "Donner un entier < 10:8\n",
      "n = 62994\n"
     ]
    }
   ],
   "source": [
    "# Utilisation de else donc une boucle for\n",
    "N = int(input(\"Donner un entier < 10:\"))\n",
    "for n in range(10**N):\n",
    "    if -4*(n+3)**3 + 5*n**2 + 10**15 < 0:\n",
    "        print(f\"n = {n}\")\n",
    "        break\n",
    "else:\n",
    "    print(\"Aucune valeur trouvée\")"
   ]
  },
  {
   "cell_type": "markdown",
   "metadata": {},
   "source": [
    "# L'instruction `pass`"
   ]
  },
  {
   "cell_type": "markdown",
   "metadata": {},
   "source": [
    "L'instruction `pass` ne fait rien. Elle peut être utilisée lorsqu'une instruction est nécessaire pour fournir une syntaxe correcte, mais qu'aucune action ne doit être effectuée"
   ]
  },
  {
   "cell_type": "code",
   "execution_count": 40,
   "metadata": {},
   "outputs": [],
   "source": [
    "for i in range(n):\n",
    "    pass"
   ]
  },
  {
   "cell_type": "code",
   "execution_count": 57,
   "metadata": {},
   "outputs": [
    {
     "name": "stdout",
     "output_type": "stream",
     "text": [
      "YES\n"
     ]
    }
   ],
   "source": [
    "N = (13**3)/5\n",
    "if N > 400:\n",
    "    print(\"YES\")\n",
    "else:\n",
    "    pass"
   ]
  },
  {
   "cell_type": "markdown",
   "metadata": {},
   "source": [
    "# 4. Listes, tuples et dictionnaires en compréhension\n",
    "\n",
    "Une **compréhension de liste** consiste à placer entre crochets une expression suivie par une clause `for` puis par zéro ou plus clauses `for` ou `if`. Le résultat est une nouvelle liste résultat de l'évaluation de l'expression dans le contexte des clauses `for` et `if` qui la suivent i.e\n",
    "\n",
    "```\n",
    "[expresion  boucle 1 ... boucle k condition 1 ....  condition n]\n",
    "```"
   ]
  },
  {
   "cell_type": "code",
   "execution_count": 51,
   "metadata": {},
   "outputs": [
    {
     "name": "stdout",
     "output_type": "stream",
     "text": [
      "[0, 1, 4, 9, 16, 25, 36, 49, 64, 81]\n"
     ]
    }
   ],
   "source": [
    "L = []\n",
    "for x in range(10):\n",
    "    L.append(x**2)\n",
    "print(L)"
   ]
  },
  {
   "cell_type": "markdown",
   "metadata": {},
   "source": [
    "### Ce code est équivalent au code suivant"
   ]
  },
  {
   "cell_type": "code",
   "execution_count": 2,
   "metadata": {},
   "outputs": [
    {
     "data": {
      "text/plain": [
       "[0, 1, 4, 9, 16, 25, 36, 49, 64, 81]"
      ]
     },
     "execution_count": 2,
     "metadata": {},
     "output_type": "execute_result"
    }
   ],
   "source": [
    "[x**2 for x in range(10)]"
   ]
  },
  {
   "cell_type": "code",
   "execution_count": 78,
   "metadata": {},
   "outputs": [
    {
     "data": {
      "text/plain": [
       "[1.0, 2.6457513110645907, 1.7320508075688772, 2.0, 3.0, 1.0]"
      ]
     },
     "execution_count": 78,
     "metadata": {},
     "output_type": "execute_result"
    }
   ],
   "source": [
    "[math.sqrt(i) for i in liste if i>0]"
   ]
  },
  {
   "cell_type": "code",
   "execution_count": null,
   "metadata": {
    "scrolled": true
   },
   "outputs": [],
   "source": [
    "[(i,j) for i in range(10) for j in range(10) if 2*i < j]"
   ]
  },
  {
   "cell_type": "code",
   "execution_count": 4,
   "metadata": {},
   "outputs": [
    {
     "data": {
      "text/plain": [
       "[0, 0, 0, 0, 0, 0, 0, 0, 0, 0, 0, 0, 0, 0, 0, 0, 0, 0, 0, 0]"
      ]
     },
     "execution_count": 4,
     "metadata": {},
     "output_type": "execute_result"
    }
   ],
   "source": [
    "#0  20 fois\n",
    "[0 for i in range(20)]"
   ]
  },
  {
   "cell_type": "code",
   "execution_count": 54,
   "metadata": {},
   "outputs": [
    {
     "name": "stdout",
     "output_type": "stream",
     "text": [
      "{0: 0, 1: 1, 2: 4, 3: 9, 4: 16, 5: 25, 6: 36, 7: 49, 8: 64, 9: 81}\n"
     ]
    }
   ],
   "source": [
    "dico = {i: i**2 for i in range(10)}\n",
    "print(dico)"
   ]
  },
  {
   "cell_type": "code",
   "execution_count": 94,
   "metadata": {},
   "outputs": [],
   "source": [
    "import string\n",
    "dic={i:j for i in range(26) for j in string.ascii_uppercase}\n",
    "dic"
   ]
  },
  {
   "cell_type": "code",
   "execution_count": 57,
   "metadata": {},
   "outputs": [
    {
     "data": {
      "text/plain": [
       "{1: 1, 4: 16, 7: 49}"
      ]
     },
     "execution_count": 57,
     "metadata": {},
     "output_type": "execute_result"
    }
   ],
   "source": [
    "dico2 = {i: i**2 for i in range(10) if i%3 == 1}\n",
    "dico2"
   ]
  },
  {
   "cell_type": "code",
   "execution_count": 101,
   "metadata": {},
   "outputs": [],
   "source": [
    "def liste_diviseur_entier(n):\n",
    "    L=[]\n",
    "    for i in range(1,n+1):\n",
    "        if n%i==0:\n",
    "            L.append(i)\n",
    "    return L"
   ]
  },
  {
   "cell_type": "code",
   "execution_count": 112,
   "metadata": {},
   "outputs": [
    {
     "data": {
      "text/plain": [
       "[1, 2, 4, 8, 16, 32]"
      ]
     },
     "execution_count": 112,
     "metadata": {},
     "output_type": "execute_result"
    }
   ],
   "source": [
    "liste_diviseur_entier(32)"
   ]
  },
  {
   "cell_type": "code",
   "execution_count": 119,
   "metadata": {},
   "outputs": [],
   "source": [
    "def diviseur(n):\n",
    "    return [i for i in range(1,n+1) if n%i==0]"
   ]
  },
  {
   "cell_type": "code",
   "execution_count": 121,
   "metadata": {},
   "outputs": [
    {
     "data": {
      "text/plain": [
       "[1, 2, 4, 8, 16, 32]"
      ]
     },
     "execution_count": 121,
     "metadata": {},
     "output_type": "execute_result"
    }
   ],
   "source": [
    "diviseur(32)"
   ]
  },
  {
   "cell_type": "code",
   "execution_count": 47,
   "metadata": {},
   "outputs": [],
   "source": [
    "import math\n",
    "def estpremier(n):\n",
    "    L=[]\n",
    "    for i in range(2,math.sqrt(n)):\n",
    "        if i%n==0:\n",
    "            L.append(i)\n",
    "    return L[:]"
   ]
  },
  {
   "cell_type": "code",
   "execution_count": 129,
   "metadata": {},
   "outputs": [
    {
     "data": {
      "text/plain": [
       "array([[1.2, 2.5],\n",
       "       [3.2, 1.8],\n",
       "       [1.1, 4.3]])"
      ]
     },
     "execution_count": 129,
     "metadata": {},
     "output_type": "execute_result"
    }
   ],
   "source": [
    "import numpy\n",
    "numpy.array([[1.2,2.5],[3.2,1.8],[1.1,4.3]])"
   ]
  },
  {
   "cell_type": "code",
   "execution_count": 60,
   "metadata": {},
   "outputs": [
    {
     "data": {
      "text/plain": [
       "{1: 'A', 2: 'E'}"
      ]
     },
     "execution_count": 60,
     "metadata": {},
     "output_type": "execute_result"
    }
   ],
   "source": [
    "def dictionn(d1,d2):\n",
    "    return {**d1,**d2}\n",
    "dictionn({1:\"A\"},{2:\"E\"})"
   ]
  },
  {
   "cell_type": "code",
   "execution_count": 63,
   "metadata": {},
   "outputs": [],
   "source": [
    "def chiffr(m,k):\n",
    "    return(m+k)%26"
   ]
  },
  {
   "cell_type": "code",
   "execution_count": 64,
   "metadata": {},
   "outputs": [
    {
     "data": {
      "text/plain": [
       "15"
      ]
     },
     "execution_count": 64,
     "metadata": {},
     "output_type": "execute_result"
    }
   ],
   "source": [
    "chiffr(23,44)"
   ]
  },
  {
   "cell_type": "markdown",
   "metadata": {},
   "source": [
    "# module"
   ]
  },
  {
   "cell_type": "code",
   "execution_count": 65,
   "metadata": {},
   "outputs": [],
   "source": [
    "import numpy as ap"
   ]
  },
  {
   "cell_type": "code",
   "execution_count": 134,
   "metadata": {},
   "outputs": [
    {
     "data": {
      "text/plain": [
       "'\"c\\'est un \\\\xe9l\\\\xe9ve \\\\xe0 bas \\\\xe2ge\"'"
      ]
     },
     "execution_count": 134,
     "metadata": {},
     "output_type": "execute_result"
    }
   ],
   "source": [
    "var=\"c'est un éléve à bas âge\"\n",
    "var=ascii(var)\n",
    "var"
   ]
  },
  {
   "cell_type": "markdown",
   "metadata": {},
   "source": [
    "# DES & L'AES"
   ]
  },
  {
   "cell_type": "code",
   "execution_count": null,
   "metadata": {},
   "outputs": [],
   "source": [
    "help(dist)"
   ]
  },
  {
   "cell_type": "code",
   "execution_count": null,
   "metadata": {},
   "outputs": [],
   "source": [
    "dir(math)"
   ]
  },
  {
   "cell_type": "code",
   "execution_count": null,
   "metadata": {},
   "outputs": [],
   "source": []
  }
 ],
 "metadata": {
  "kernelspec": {
   "display_name": "Python 3",
   "language": "python",
   "name": "python3"
  },
  "language_info": {
   "codemirror_mode": {
    "name": "ipython",
    "version": 3
   },
   "file_extension": ".py",
   "mimetype": "text/x-python",
   "name": "python",
   "nbconvert_exporter": "python",
   "pygments_lexer": "ipython3",
   "version": "3.7.4"
  }
 },
 "nbformat": 4,
 "nbformat_minor": 2
}
