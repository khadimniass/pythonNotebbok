{
 "cells": [
  {
   "cell_type": "markdown",
   "metadata": {},
   "source": [
    " ![https://www.python.org](./python.png)"
   ]
  },
  {
   "cell_type": "markdown",
   "metadata": {},
   "source": [
    "# 7. La condition `if....,elif....,else.....`"
   ]
  },
  {
   "cell_type": "markdown",
   "metadata": {},
   "source": [
    "# if"
   ]
  },
  {
   "cell_type": "markdown",
   "metadata": {},
   "source": [
    "# $Demaner  user  d'entrer  un  nombre  et  dire  si  le  nombre  est  paire  ou  non$"
   ]
  },
  {
   "cell_type": "code",
   "execution_count": null,
   "metadata": {},
   "outputs": [],
   "source": []
  },
  {
   "cell_type": "code",
   "execution_count": null,
   "metadata": {},
   "outputs": [],
   "source": []
  },
  {
   "cell_type": "code",
   "execution_count": 120,
   "metadata": {},
   "outputs": [
    {
     "name": "stdout",
     "output_type": "stream",
     "text": [
      "entrez un entier0\n",
      "0 est paire\n"
     ]
    }
   ],
   "source": [
    "n=input(\"entrez un entier\")\n",
    "n=int(n)\n",
    "if n%2==0:\n",
    "    print(\"{} est paire\".format(n))\n",
    "else :\n",
    "    print(\"{} est impaire\".format(n))"
   ]
  },
  {
   "cell_type": "markdown",
   "metadata": {},
   "source": [
    "# EXO\n",
    "\n",
    "1. Demander l'utiliser \n",
    "    * si $0<0<=age<=18$\n",
    "    \n",
    "    "
   ]
  },
  {
   "cell_type": "code",
   "execution_count": 46,
   "metadata": {},
   "outputs": [
    {
     "name": "stdout",
     "output_type": "stream",
     "text": [
      "entrez votre age :0\n",
      "mineur\n"
     ]
    }
   ],
   "source": [
    "age=int(input(\"entrez votre age :\"))\n",
    "if age<0:\n",
    "    print(\"age doit etre positif\")\n",
    "elif 0<=age<=18 :\n",
    "    print(\"mineur\")\n",
    "elif 19<=age<=60:\n",
    "    print(\"Adulte\")\n",
    "else:\n",
    "    print(\"vieux\")"
   ]
  },
  {
   "cell_type": "markdown",
   "metadata": {},
   "source": [
    "# EXO3 : Calcul de médiane "
   ]
  },
  {
   "cell_type": "code",
   "execution_count": null,
   "metadata": {},
   "outputs": [],
   "source": [
    "liste=eval(input(\"entrez la liste\"))\n",
    "liste=soted(liste)N=len(list)"
   ]
  },
  {
   "cell_type": "code",
   "execution_count": 4,
   "metadata": {},
   "outputs": [
    {
     "name": "stdout",
     "output_type": "stream",
     "text": [
      "entrez la liste[1,2,3,5]\n",
      "[1, 4, 9, 25]\n"
     ]
    }
   ],
   "source": [
    "liste=eval(input(\"entrez la liste\"))\n",
    "liste_carre=[]\n",
    "for i in liste:\n",
    "    liste_carre.append(i**2)\n",
    "print(liste_carre)"
   ]
  },
  {
   "cell_type": "code",
   "execution_count": null,
   "metadata": {},
   "outputs": [],
   "source": [
    "def compte_mot_de_deux_lettre(chaine):\n",
    "    tmp = []\n",
    "    out = dict()\n",
    "    for i in range(len(chaine) - 1):\n",
    "        s = chaine[i] + chaine[i + 1]\n",
    "        tmp.append(s)\n",
    "    for i in range(len(tmp)):\n",
    "        if tmp[i] not in out:\n",
    "            out.__setitem__(tmp[i], 1)\n",
    "        else:\n",
    "            out[tmp[i]] += 1\n",
    "    return out\n",
    "out = compte_mot_de_deux_lettre('ACCTAGCCCTA')\n",
    "print(out)\n",
    "def compte_mot_de_trois_lettres(chaine):\n",
    "    tmp = []\n",
    "    out= dict()\n",
    "    for i in range(len(chaine) - 2):\n",
    "        s = chaine[i] + chaine[i + 1] + chaine[i + 2]\n",
    "        tmp.append(s)\n",
    "    for i in range(len(tmp)):\n",
    "        if tmp[i] not in out:\n",
    "            out.__setitem__(tmp[i], 1)\n",
    "        else:\n",
    "            out[tmp[i]] += 1\n",
    "    return out\n",
    "out = compte_mot_de_trois_lettres('ACCTAGCCCTA')\n",
    "print(out)"
   ]
  },
  {
   "cell_type": "markdown",
   "metadata": {},
   "source": [
    "# comprehension de liste"
   ]
  },
  {
   "cell_type": "markdown",
   "metadata": {},
   "source": [
    "demander l'utilisateur une liste et appliquer le log pour chacun des element de la liste"
   ]
  },
  {
   "cell_type": "code",
   "execution_count": 4,
   "metadata": {},
   "outputs": [
    {
     "name": "stdout",
     "output_type": "stream",
     "text": [
      "entrez une liste de nombre[2,2]\n"
     ]
    },
    {
     "data": {
      "text/plain": [
       "[0.6931471805599453, 0.6931471805599453]"
      ]
     },
     "execution_count": 4,
     "metadata": {},
     "output_type": "execute_result"
    }
   ],
   "source": [
    "import math\n",
    "b=eval(input(\"entrez une liste de nombre\"))\n",
    "a=[]\n",
    "for i in b:\n",
    "    a.append(math.log(i))\n",
    "a"
   ]
  },
  {
   "cell_type": "code",
   "execution_count": 7,
   "metadata": {},
   "outputs": [
    {
     "name": "stdout",
     "output_type": "stream",
     "text": [
      "entrez une liste de nombre[2,4,5,6]\n",
      "5.48063892334199\n"
     ]
    }
   ],
   "source": [
    "b=eval(input(\"entrez une liste de nombre\"))\n",
    "a=[math.log(i) for i in b if i>0]\n",
    "print(sum(a))"
   ]
  },
  {
   "cell_type": "markdown",
   "metadata": {},
   "source": [
    "$Corriger une liste de prenom, tous en minuscules$"
   ]
  },
  {
   "cell_type": "code",
   "execution_count": 5,
   "metadata": {},
   "outputs": [
    {
     "name": "stdout",
     "output_type": "stream",
     "text": [
      "['khadim', 'niass', 'cheikh', 'tidiane', 'thiam']\n"
     ]
    }
   ],
   "source": [
    "prenom=[\"Khadim\",\"niAsS\",\"ChEiKH\",\"TIdIane\",\"thiAM\"]\n",
    "prenom=[p.lower() for p in prenom]\n",
    "print(prenom)"
   ]
  },
  {
   "cell_type": "markdown",
   "metadata": {},
   "source": [
    "# les fichiers"
   ]
  },
  {
   "cell_type": "code",
   "execution_count": null,
   "metadata": {},
   "outputs": [],
   "source": [
    "help(open)"
   ]
  },
  {
   "cell_type": "code",
   "execution_count": 30,
   "metadata": {},
   "outputs": [],
   "source": [
    "f= open(r'D:\\New.txt','w',encoding='utf8')\n",
    "for i in range(30):\n",
    "    f.write(f\"ligne {i+1}\\n\")\n",
    "f.close()"
   ]
  },
  {
   "cell_type": "code",
   "execution_count": 31,
   "metadata": {},
   "outputs": [
    {
     "name": "stdout",
     "output_type": "stream",
     "text": [
      "ligne 1\n",
      "ligne 2\n",
      "ligne 3\n",
      "ligne 4\n",
      "ligne 5\n",
      "ligne 6\n",
      "ligne 7\n",
      "ligne 8\n",
      "ligne 9\n",
      "ligne 10\n",
      "ligne 11\n",
      "ligne 12\n",
      "ligne 13\n",
      "ligne 14\n",
      "ligne 15\n",
      "ligne 16\n",
      "ligne 17\n",
      "ligne 18\n",
      "ligne 19\n",
      "ligne 20\n",
      "ligne 21\n",
      "ligne 22\n",
      "ligne 23\n",
      "ligne 24\n",
      "ligne 25\n",
      "ligne 26\n",
      "ligne 27\n",
      "ligne 28\n",
      "ligne 29\n",
      "ligne 30\n"
     ]
    }
   ],
   "source": [
    "!type D:\\New.txt"
   ]
  },
  {
   "cell_type": "code",
   "execution_count": 35,
   "metadata": {},
   "outputs": [
    {
     "data": {
      "text/plain": [
       "<_io.TextIOWrapper name='D:\\\\New2.txt' mode='w' encoding='utf8'>"
      ]
     },
     "execution_count": 35,
     "metadata": {},
     "output_type": "execute_result"
    }
   ],
   "source": [
    "f= open(r'D:\\New.txt','r',encoding='utf8')\n",
    "f2= open(r'D:\\New2.txt','w',encoding='utf8')\n",
    "for line in f:\n",
    "    line=line.split()\n",
    "    line[0]=line[0].upper()\n",
    "    f2.write(\",\".join(line)+\"\\n\")\n",
    "f.close()\n",
    "f2.close()\n",
    "f\n",
    "f2"
   ]
  },
  {
   "cell_type": "code",
   "execution_count": null,
   "metadata": {},
   "outputs": [],
   "source": [
    "http://127.0.0.1:8888/?token=431a0a110709206f336c00c51d690adab9e4e0e524a325d0"
   ]
  },
  {
   "cell_type": "markdown",
   "metadata": {},
   "source": [
    " $wih$ ferme automatiquement le fichier\n",
    " as f: je vais creer un blok d'instruction"
   ]
  },
  {
   "cell_type": "code",
   "execution_count": null,
   "metadata": {},
   "outputs": [],
   "source": [
    "with open(r'D:\\New.txt','r',encoding='utf8') as f2:\n",
    "    for line in f2:\n",
    "        print(line)"
   ]
  },
  {
   "cell_type": "markdown",
   "metadata": {},
   "source": [
    "## ecrire dans un ficher bin"
   ]
  },
  {
   "cell_type": "code",
   "execution_count": null,
   "metadata": {},
   "outputs": [],
   "source": []
  },
  {
   "cell_type": "markdown",
   "metadata": {},
   "source": [
    "# matrice\n",
    "Python n'a pas de type intégré pour les matrices. Cependant, nous pouvons traiter une liste de liste comme une matrice.\n",
    "Une liste dont les element sont des listes\n",
    "<a href=\"https://developpement-informatique.com/article/229/les-matrices-en-python\">mon guide pour matrice</a>"
   ]
  },
  {
   "cell_type": "code",
   "execution_count": 91,
   "metadata": {},
   "outputs": [
    {
     "name": "stdout",
     "output_type": "stream",
     "text": [
      "M = [[3, 1, 5], [9, 8, -1], [10, 12, 2]]\n",
      "M[1] = [9, 8, -1]\n",
      "M[1][2] = -1\n",
      "A[0][-1] = 5\n",
      "le nombre de ligne est :  3\n"
     ]
    }
   ],
   "source": [
    "M = [[3, 1, 5], [9, 8, -1], [10, 12, 2]] \n",
    "\n",
    "print(\"M =\", M)\n",
    "print(\"M[1] =\", M[1]) # 2ème ligne\n",
    "print(\"M[1][2] =\", M[1][2]) # 3ème élément de la 2ème ligne\n",
    "print(\"A[0][-1] =\", M[0][-1])   # dernier élément de 1ère ligne\n",
    "print(\"le nombre de ligne est : \",len(M))"
   ]
  },
  {
   "cell_type": "code",
   "execution_count": 109,
   "metadata": {},
   "outputs": [
    {
     "name": "stdout",
     "output_type": "stream",
     "text": [
      "[3, 1, 5]\n",
      "[9, 8, -1]\n",
      "[10, 12, 2]\n"
     ]
    }
   ],
   "source": [
    "for i in range(len(M)):\n",
    "    print(M[i])"
   ]
  },
  {
   "cell_type": "markdown",
   "metadata": {},
   "source": [
    "## Transposition de matrice"
   ]
  },
  {
   "cell_type": "code",
   "execution_count": 10,
   "metadata": {},
   "outputs": [
    {
     "name": "stdout",
     "output_type": "stream",
     "text": [
      "Matrice A :\n",
      "[3, 1, 5]\n",
      "[9, 8, -1]\n",
      "[10, 12, 2]\n",
      "Transposée de A :\n",
      "[3, 9, 10]\n",
      "[1, 8, 12]\n",
      "[5, -1, 2]\n"
     ]
    }
   ],
   "source": [
    "A = [ [3, 1, 5], [9, 8, -1], [10, 12, 2] ] \n",
    "len(A) # nombre de lignes\n",
    "len(A[0]) # nombre de colonnes\n",
    "\n",
    "C = [[0]*len(A[0]) for i in range(len(A))] # matrice de b lignes et m colonnes\n",
    "# parcourir les lignes\n",
    "for i in range(len(A)):\n",
    "    # parcourir les colonnes\n",
    "    for j in range(len(A[0])):\n",
    "        C[j][i]= A[i][j]\n",
    "print(\"Matrice A :\")\n",
    "for i in range(len(A)):\n",
    "    print(A[i])\n",
    "print(\"Transposée de A :\")\n",
    "for i in range(len(C)):\n",
    "    print(C[i])"
   ]
  },
  {
   "cell_type": "code",
   "execution_count": null,
   "metadata": {
    "scrolled": true
   },
   "outputs": [],
   "source": [
    "C = [[A[j][i] for j in range(len(A))] for i in range(len(A[0]))]\n",
    "print(\"Matrice A :\")\n",
    "for i in range(len(A)):\n",
    "    print(A[i])\n",
    "print(\"Transposée de A :\")\n",
    "for i in range(len(C)):\n",
    "    print(C[i])"
   ]
  },
  {
   "cell_type": "code",
   "execution_count": 1,
   "metadata": {},
   "outputs": [
    {
     "name": "stdout",
     "output_type": "stream",
     "text": [
      "[3, 1, 5]\n",
      "[9, 8, -1]\n",
      "[10, 12, 2]\n"
     ]
    }
   ],
   "source": [
    "A = [ [3, 1, 5], [9, 8, -1], [10, 12, 2] ] \n",
    "for i in range(len(A)):\n",
    "    print(A[i])"
   ]
  },
  {
   "cell_type": "code",
   "execution_count": 14,
   "metadata": {},
   "outputs": [
    {
     "ename": "SyntaxError",
     "evalue": "unexpected EOF while parsing (<ipython-input-14-a79240aefe32>, line 2)",
     "output_type": "error",
     "traceback": [
      "\u001b[1;36m  File \u001b[1;32m\"<ipython-input-14-a79240aefe32>\"\u001b[1;36m, line \u001b[1;32m2\u001b[0m\n\u001b[1;33m    for i in range(len(nombre)):\u001b[0m\n\u001b[1;37m                                ^\u001b[0m\n\u001b[1;31mSyntaxError\u001b[0m\u001b[1;31m:\u001b[0m unexpected EOF while parsing\n"
     ]
    }
   ],
   "source": [
    "nombre=int(input(\"entrez une chaine\"))\n",
    "for i in range(len(nombre)):"
   ]
  },
  {
   "cell_type": "markdown",
   "metadata": {},
   "source": [
    "# palindrome"
   ]
  },
  {
   "cell_type": "code",
   "execution_count": 19,
   "metadata": {},
   "outputs": [
    {
     "name": "stdout",
     "output_type": "stream",
     "text": [
      "entrez une chaineyey\n",
      "Yes\n"
     ]
    }
   ],
   "source": [
    "# function which return reverse of a string \n",
    "def reverse(s): \n",
    "    return s[::-1] \n",
    "def isPalindrome(s): \n",
    "    # Calling reverse function \n",
    "    rev = reverse(s) \n",
    "    # Checking if both string are equal or not \n",
    "    if (s == rev):\n",
    "        return True\n",
    "    return False\n",
    "# Driver code\n",
    "s=input('entrez une chaine')\n",
    "#s = \"malayalam\"\n",
    "ans = isPalindrome(s)\n",
    "if ans == 1:\n",
    "    print(\"Yes\")\n",
    "else:\n",
    "    print(\"No\")"
   ]
  },
  {
   "cell_type": "code",
   "execution_count": 21,
   "metadata": {},
   "outputs": [
    {
     "name": "stdout",
     "output_type": "stream",
     "text": [
      "entrez une chainegrg\n",
      "Yes\n"
     ]
    }
   ],
   "source": [
    "# function which return reverse of a string \n",
    "def reverse(s): \n",
    "    return s[::-1] \n",
    "def possible_palindrome(s): \n",
    "    # Calling reverse function \n",
    "    rev = reverse(s) \n",
    "    # Checking if both string are equal or not \n",
    "    if (s == rev):\n",
    "        return True\n",
    "    return False\n",
    "# Driver code\n",
    "\n",
    "s=input('entrez une chaine')\n",
    "#s = \"malayalam\"\n",
    "ans = possible_palindrome(s)\n",
    "if ans == 1:\n",
    "    print(\"Yes\")\n",
    "else:\n",
    "    print(\"No\")\n"
   ]
  },
  {
   "cell_type": "code",
   "execution_count": 166,
   "metadata": {},
   "outputs": [
    {
     "name": "stdout",
     "output_type": "stream",
     "text": [
      " \n",
      "\n",
      "*\n",
      " \n",
      "\n",
      "*\n",
      "*\n",
      " \n",
      "\n",
      "*\n",
      "*\n",
      "*\n",
      " \n",
      "\n",
      "*\n",
      "*\n",
      "*\n",
      "*\n",
      " \n",
      "\n"
     ]
    }
   ],
   "source": [
    "for i in range(5):\n",
    "    for j in range(i):\n",
    "        print(\"*\")\n",
    "    print(\" \\n\")"
   ]
  },
  {
   "cell_type": "markdown",
   "metadata": {},
   "source": [
    "# TP1"
   ]
  },
  {
   "cell_type": "markdown",
   "metadata": {},
   "source": [
    "# exercice1"
   ]
  },
  {
   "cell_type": "markdown",
   "metadata": {},
   "source": [
    "# 0"
   ]
  },
  {
   "cell_type": "code",
   "execution_count": 7,
   "metadata": {},
   "outputs": [
    {
     "name": "stdout",
     "output_type": "stream",
     "text": [
      "entrez une chaine: ,n\n"
     ]
    }
   ],
   "source": [
    "chaine=str(input(\"entrez une chaine: \"))\n",
    "if len(chaine)%2==0:\n",
    "   ch= \"-\".join(chaine)\n"
   ]
  },
  {
   "cell_type": "markdown",
   "metadata": {},
   "source": [
    "# 1"
   ]
  },
  {
   "cell_type": "code",
   "execution_count": 11,
   "metadata": {},
   "outputs": [
    {
     "name": "stdout",
     "output_type": "stream",
     "text": [
      "entrez un nombre : 13\n",
      "13  n'est pas un nombre premier\n"
     ]
    }
   ],
   "source": [
    "import math\n",
    "nombre=int (input(\"entrez un nombre : \"))\n",
    "test=False\n",
    "for i in range(2,int(math.sqrt(a))):\n",
    "     if nombre%i==0:\n",
    "        test=True\n",
    "if test:\n",
    "      print(nombre, \" est un nombre premier\")\n",
    "else :\n",
    "    print(nombre, \" n'est pas un nombre premier\")"
   ]
  },
  {
   "cell_type": "markdown",
   "metadata": {},
   "source": [
    "# 2"
   ]
  },
  {
   "cell_type": "code",
   "execution_count": 41,
   "metadata": {},
   "outputs": [
    {
     "name": "stdout",
     "output_type": "stream",
     "text": [
      "entrez une variable hjk\n",
      "Le type de  hjk  est str\n"
     ]
    }
   ],
   "source": [
    "var=input(\"entrez une variable \")\n",
    "if isinstance(var,str):\n",
    "    print(\"Le type de \",var, \" est str\")\n",
    "elif isinstance(var,int):\n",
    "    print(\"int\")"
   ]
  },
  {
   "cell_type": "code",
   "execution_count": 42,
   "metadata": {},
   "outputs": [
    {
     "name": "stdout",
     "output_type": "stream",
     "text": [
      "entrez une variable t\n",
      "True\n",
      "<class 'str'>\n"
     ]
    }
   ],
   "source": [
    "var=input(\"entrez une variable \")\n",
    "print(isinstance(var,type(var)))\n",
    "print(type(var))"
   ]
  },
  {
   "cell_type": "markdown",
   "metadata": {},
   "source": [
    "# 3"
   ]
  },
  {
   "cell_type": "code",
   "execution_count": 18,
   "metadata": {},
   "outputs": [
    {
     "name": "stdout",
     "output_type": "stream",
     "text": [
      "entrez un nombre3\n",
      "3  n'est pas supérieurs a 5\n"
     ]
    }
   ],
   "source": [
    "test=eval(input(\"entrez un nombre\"))\n",
    "if test>5:\n",
    "    print(\"Félicitation !!!!!!!!!!!\")\n",
    "else :\n",
    "    print(test,\" n'est pas supérieurs a 5\")"
   ]
  },
  {
   "cell_type": "markdown",
   "metadata": {},
   "source": [
    "# 4"
   ]
  },
  {
   "cell_type": "code",
   "execution_count": 27,
   "metadata": {},
   "outputs": [
    {
     "name": "stdout",
     "output_type": "stream",
     "text": [
      "entrez un nombre 4\n",
      "J’ai trouvé un nombre pair\n"
     ]
    }
   ],
   "source": [
    "test2=int(input(\"entrez un nombre \"))\n",
    "if test2%2!=0:\n",
    "    print(\"J’ai trouvé un nombre impair\")\n",
    "else:\n",
    "    print(\"J’ai trouvé un nombre pair\")"
   ]
  },
  {
   "cell_type": "markdown",
   "metadata": {},
   "source": [
    "# 5"
   ]
  },
  {
   "cell_type": "code",
   "execution_count": null,
   "metadata": {},
   "outputs": [],
   "source": []
  },
  {
   "cell_type": "markdown",
   "metadata": {},
   "source": [
    "# 6"
   ]
  },
  {
   "cell_type": "code",
   "execution_count": 55,
   "metadata": {},
   "outputs": [
    {
     "name": "stdout",
     "output_type": "stream",
     "text": [
      "entrez un nombre11\n",
      "grand nombre!\n"
     ]
    }
   ],
   "source": [
    "test4=eval(input(\"entrez un nombre\"))\n",
    "if -3<=test4<=3:\n",
    "    print(\"Petit nombre !\")\n",
    "elif -10<=test4<=10:\n",
    "    print(\"Nombre moyen !\")\n",
    "elif test4>10:\n",
    "    print(\"grand nombre!\")"
   ]
  },
  {
   "cell_type": "markdown",
   "metadata": {},
   "source": [
    "# 7"
   ]
  },
  {
   "cell_type": "code",
   "execution_count": 31,
   "metadata": {},
   "outputs": [
    {
     "name": "stdout",
     "output_type": "stream",
     "text": [
      "entrez un entier: refgthyj\n"
     ]
    },
    {
     "ename": "ValueError",
     "evalue": "invalid literal for int() with base 10: 'refgthyj'",
     "output_type": "error",
     "traceback": [
      "\u001b[1;31m---------------------------------------------------------------------------\u001b[0m",
      "\u001b[1;31mValueError\u001b[0m                                Traceback (most recent call last)",
      "\u001b[1;32m<ipython-input-31-4fcbcc5b649f>\u001b[0m in \u001b[0;36m<module>\u001b[1;34m\u001b[0m\n\u001b[1;32m----> 1\u001b[1;33m \u001b[0mtest6\u001b[0m\u001b[1;33m=\u001b[0m\u001b[0mint\u001b[0m\u001b[1;33m(\u001b[0m\u001b[0minput\u001b[0m\u001b[1;33m(\u001b[0m\u001b[1;34m\"entrez un entier: \"\u001b[0m\u001b[1;33m)\u001b[0m\u001b[1;33m)\u001b[0m\u001b[1;33m\u001b[0m\u001b[1;33m\u001b[0m\u001b[0m\n\u001b[0m\u001b[0;32m      2\u001b[0m \u001b[1;32mif\u001b[0m \u001b[0mtest6\u001b[0m\u001b[1;33m<\u001b[0m\u001b[1;36m0\u001b[0m\u001b[1;33m:\u001b[0m\u001b[1;33m\u001b[0m\u001b[1;33m\u001b[0m\u001b[0m\n\u001b[0;32m      3\u001b[0m     \u001b[0mt6\u001b[0m\u001b[1;33m=\u001b[0m\u001b[0mtest6\u001b[0m\u001b[1;33m*\u001b[0m\u001b[1;33m-\u001b[0m\u001b[1;36m3\u001b[0m\u001b[1;33m\u001b[0m\u001b[1;33m\u001b[0m\u001b[0m\n\u001b[0;32m      4\u001b[0m     \u001b[1;32mif\u001b[0m \u001b[0mt6\u001b[0m\u001b[1;33m%\u001b[0m\u001b[1;36m9\u001b[0m\u001b[1;33m==\u001b[0m\u001b[1;36m0\u001b[0m\u001b[1;33m:\u001b[0m\u001b[1;33m\u001b[0m\u001b[1;33m\u001b[0m\u001b[0m\n\u001b[0;32m      5\u001b[0m      \u001b[0mprint\u001b[0m\u001b[1;33m(\u001b[0m\u001b[1;34m\"hello, mon ami\"\u001b[0m\u001b[1;33m)\u001b[0m\u001b[1;33m\u001b[0m\u001b[1;33m\u001b[0m\u001b[0m\n",
      "\u001b[1;31mValueError\u001b[0m: invalid literal for int() with base 10: 'refgthyj'"
     ]
    }
   ],
   "source": [
    "test6=int(input(\"entrez un entier: \"))\n",
    "if test6<0:\n",
    "    t6=test6*-3\n",
    "    if t6%9==0:\n",
    "        print(\"hello, mon ami\")\n",
    "    else:\n",
    "        print(\"Oh, non, pas vous\")\n",
    "else:\n",
    "    print(\"Oh, non, pas vous\")"
   ]
  },
  {
   "cell_type": "markdown",
   "metadata": {},
   "source": [
    "# 8"
   ]
  },
  {
   "cell_type": "code",
   "execution_count": 72,
   "metadata": {},
   "outputs": [
    {
     "name": "stdout",
     "output_type": "stream",
     "text": [
      "entrez le numéro de jour :3\n",
      "Mercredi\n"
     ]
    }
   ],
   "source": [
    "numb_jour=int(input(\"entrez le numéro de jour :\"))\n",
    "if 1<=numb_jour<=7:\n",
    "    if numb_jour==1:\n",
    "        print(\"Lundi\")\n",
    "    elif numb_jour==2:\n",
    "        print(\"Mardi\")\n",
    "    elif numb_jour==3:\n",
    "        print(\"Mercredi\")\n",
    "    elif numb_jour==4:\n",
    "        print(\"Jeudi\")\n",
    "    elif numb_jour==5:\n",
    "        print(\"Vendredi\")\n",
    "    else:\n",
    "        print(\"Week-end\")\n",
    "else :\n",
    "    print(\"Les jours de la semaine c'est entre 1 & 7\")"
   ]
  },
  {
   "cell_type": "markdown",
   "metadata": {},
   "source": [
    "# 9"
   ]
  },
  {
   "cell_type": "code",
   "execution_count": 201,
   "metadata": {
    "scrolled": true
   },
   "outputs": [
    {
     "name": "stdout",
     "output_type": "stream",
     "text": [
      "entrez le numéro du mois :2\n",
      "28\n"
     ]
    }
   ],
   "source": [
    "numb_mois=int(input(\"entrez le numéro du mois :\"))\n",
    "if 1<=numb_mois<=12:\n",
    "    if numb_mois%2==0:\n",
    "        if numb_mois==2:\n",
    "            print(28)\n",
    "        elif numb_mois==4 or numb_mois==6: print(30)\n",
    "        else: print(31)\n",
    "    else:\n",
    "        if numb_mois==1 or numb_mois==9 or numb_mois==11:\n",
    "            print(31)\n",
    "        else: print(30)\n",
    "else : print(\"annee entre 1 & 12\")"
   ]
  },
  {
   "cell_type": "markdown",
   "metadata": {},
   "source": [
    "'1 janvier   :31\n",
    "    2 fevrier    :28\n",
    "3 mars       :31\n",
    "    4 avril      :30\n",
    "5 mai        :31\n",
    "    6 jui        :30\n",
    "7 juillet    :31\n",
    "    8 août       :31\n",
    "9 septembre  :30\n",
    "    10 octobre   :31\n",
    "11 novembre  :30\n",
    "    12 Decembre  :31'"
   ]
  },
  {
   "cell_type": "markdown",
   "metadata": {},
   "source": [
    "# 10"
   ]
  },
  {
   "cell_type": "code",
   "execution_count": 240,
   "metadata": {},
   "outputs": [
    {
     "name": "stdout",
     "output_type": "stream",
     "text": [
      "entrez un nombre: 3\n"
     ]
    },
    {
     "data": {
      "text/plain": [
       "14"
      ]
     },
     "execution_count": 240,
     "metadata": {},
     "output_type": "execute_result"
    }
   ],
   "source": [
    "n=int(input(\"entrez un nombre: \"))\n",
    "somme=0\n",
    "for i in range(n+1):\n",
    "    somme=somme+i**2\n",
    "somme"
   ]
  },
  {
   "cell_type": "markdown",
   "metadata": {},
   "source": [
    "$1²+2²+3²+...n²$"
   ]
  },
  {
   "cell_type": "markdown",
   "metadata": {},
   "source": [
    "# 11"
   ]
  },
  {
   "cell_type": "code",
   "execution_count": 5,
   "metadata": {
    "scrolled": true
   },
   "outputs": [
    {
     "name": "stdout",
     "output_type": "stream",
     "text": [
      "entrez un entier entre 0 et 9 :2\n",
      "La table de multiplication s'arrête où ? :10\n",
      "La table de  2  : est\n",
      "2 * 0 = 0 \n",
      "\n",
      "2 * 1 = 2 \n",
      "\n",
      "2 * 2 = 4 \n",
      "\n",
      "2 * 3 = 6 \n",
      "\n",
      "2 * 4 = 8 \n",
      "\n",
      "2 * 5 = 10 \n",
      "\n",
      "2 * 6 = 12 \n",
      "\n",
      "2 * 7 = 14 \n",
      "\n",
      "2 * 8 = 16 \n",
      "\n",
      "2 * 9 = 18 \n",
      "\n",
      "2 * 10 = 20 \n",
      "\n"
     ]
    }
   ],
   "source": [
    "n=int(input(\"entrez un entier entre 0 et 9 :\"))\n",
    "if 0<=n<=9:\n",
    "    N=int(input(\"La table de multiplication s'arrête où ? :\"))\n",
    "    print(\"La table de \",n,\" : est\")\n",
    "    for i in range(N+1):\n",
    "        print(n,\"*\",i,\"=\",i*n,\"\\n\")\n",
    "else :\n",
    "    print(\"Sorry, L'entier doit etre compris entre 0 & 9\")"
   ]
  },
  {
   "cell_type": "markdown",
   "metadata": {},
   "source": [
    "# 12"
   ]
  },
  {
   "cell_type": "code",
   "execution_count": 197,
   "metadata": {},
   "outputs": [
    {
     "name": "stdout",
     "output_type": "stream",
     "text": [
      "entrez un entier entre 0 et 40: 14\n",
      "14\n"
     ]
    }
   ],
   "source": [
    "entier=int(input(\"entrez un entier entre 0 et 40: \"))\n",
    "if 0<=entier<=40 :\n",
    "    if entier%3==0 or entier%7==0 or entier%11==0:\n",
    "        print(entier)\n",
    "    else :\n",
    "        print(\"cet entier n'est pas un multiple de 3 ni de 7 ni de 11\")\n",
    "else :\n",
    "    print(\"L'entier doit être compris entre 0 & 40\")"
   ]
  },
  {
   "cell_type": "markdown",
   "metadata": {},
   "source": [
    "# 13"
   ]
  },
  {
   "cell_type": "code",
   "execution_count": 242,
   "metadata": {},
   "outputs": [
    {
     "name": "stdout",
     "output_type": "stream",
     "text": [
      "Choisis un entier : 3\n",
      "Non pris en charge par le programme !!!!\n",
      "1\n"
     ]
    }
   ],
   "source": [
    "n=int(input(\"Choisis un entier : \"))\n",
    "S=0\n",
    "P=1\n",
    "b=True\n",
    "for i in range(n):\n",
    "    if i%2==0:\n",
    "        b=False\n",
    "        S=S+i+3\n",
    "    elif i%3==0:\n",
    "        P=P*(i**2+2*i)\n",
    "    else: \n",
    "        print(\"Non pris en charge par le programme !!!!\")\n",
    "if b:\n",
    "    print(S)\n",
    "else:\n",
    "    print(P)"
   ]
  },
  {
   "cell_type": "markdown",
   "metadata": {},
   "source": [
    "# 14"
   ]
  },
  {
   "cell_type": "code",
   "execution_count": 22,
   "metadata": {},
   "outputs": [
    {
     "name": "stdout",
     "output_type": "stream",
     "text": [
      "3,5,6,9,"
     ]
    },
    {
     "data": {
      "text/plain": [
       "23"
      ]
     },
     "execution_count": 22,
     "metadata": {},
     "output_type": "execute_result"
    }
   ],
   "source": [
    "s=0\n",
    "for i in range(1,10):\n",
    "    if i%3==0 or i%5==0:\n",
    "        s=s+i\n",
    "        print(i,end=\",\")    \n",
    "s"
   ]
  },
  {
   "cell_type": "markdown",
   "metadata": {},
   "source": [
    "# Exercice 2\n",
    "### Chiffrement par décalage"
   ]
  },
  {
   "cell_type": "code",
   "execution_count": null,
   "metadata": {},
   "outputs": [],
   "source": [
    "def cesar_chiffre_mot(mot,k):\n",
    "    message_code=[]                            #Listevide\n",
    "    for lettre in mot:                         #Pour␣chaque␣lettre\n",
    "        nb=ord(lettre)-65                         #␣Lettre␣devient␣nb␣de␣0␣à␣25\n",
    "        nb_crypte = cesar_chiffre_nb(nb,k)         #␣Chiffrement␣de␣César\n",
    "        lettre_crypte=chr(nb_crypte+65)          #␣Retour␣aux␣lettres\n",
    "        message_code.append(lettre_crypte)        #␣Ajoute␣lettre␣au␣message\n",
    "        message_code=\"\".join(message_code)       #␣Revient␣à␣chaine␣caractères\n",
    "    return(message_code)\n",
    "cesar_chiffre_mot(\"hello\",4)"
   ]
  },
  {
   "cell_type": "code",
   "execution_count": 39,
   "metadata": {},
   "outputs": [
    {
     "ename": "TypeError",
     "evalue": "'bool' object is not iterable",
     "output_type": "error",
     "traceback": [
      "\u001b[1;31m---------------------------------------------------------------------------\u001b[0m",
      "\u001b[1;31mTypeError\u001b[0m                                 Traceback (most recent call last)",
      "\u001b[1;32m<ipython-input-39-f19fa848bbb4>\u001b[0m in \u001b[0;36m<module>\u001b[1;34m\u001b[0m\n\u001b[0;32m      1\u001b[0m \u001b[1;32mimport\u001b[0m \u001b[0mstring\u001b[0m\u001b[1;33m\u001b[0m\u001b[1;33m\u001b[0m\u001b[0m\n\u001b[1;32m----> 2\u001b[1;33m \u001b[1;32mfor\u001b[0m \u001b[0mx\u001b[0m \u001b[1;32min\u001b[0m \u001b[0mstring\u001b[0m\u001b[1;33m.\u001b[0m\u001b[0mascii_uppercase\u001b[0m \u001b[1;32mand\u001b[0m \u001b[0mi\u001b[0m \u001b[1;32min\u001b[0m \u001b[0mrange\u001b[0m\u001b[1;33m(\u001b[0m\u001b[1;36m26\u001b[0m\u001b[1;33m)\u001b[0m\u001b[1;33m:\u001b[0m\u001b[1;33m\u001b[0m\u001b[1;33m\u001b[0m\u001b[0m\n\u001b[0m\u001b[0;32m      3\u001b[0m     \u001b[0mprint\u001b[0m\u001b[1;33m(\u001b[0m\u001b[0mx\u001b[0m\u001b[1;33m,\u001b[0m\u001b[1;34m\":\"\u001b[0m\u001b[1;33m,\u001b[0m\u001b[0mi\u001b[0m\u001b[1;33m)\u001b[0m\u001b[1;33m\u001b[0m\u001b[1;33m\u001b[0m\u001b[0m\n",
      "\u001b[1;31mTypeError\u001b[0m: 'bool' object is not iterable"
     ]
    }
   ],
   "source": [
    "import string\n",
    "for x in string.ascii_uppercase and i in range(26):\n",
    "    print(x,\":\",i)"
   ]
  },
  {
   "cell_type": "code",
   "execution_count": 24,
   "metadata": {},
   "outputs": [
    {
     "data": {
      "text/plain": [
       "str"
      ]
     },
     "execution_count": 24,
     "metadata": {},
     "output_type": "execute_result"
    }
   ],
   "source": [
    "type(string.ascii_uppercase)"
   ]
  },
  {
   "cell_type": "code",
   "execution_count": 140,
   "metadata": {},
   "outputs": [
    {
     "name": "stdout",
     "output_type": "stream",
     "text": [
      "Help on method sample in module random:\n",
      "\n",
      "sample(population, k) method of random.Random instance\n",
      "    Chooses k unique random elements from a population sequence or set.\n",
      "    \n",
      "    Returns a new list containing elements from the population while\n",
      "    leaving the original population unchanged.  The resulting list is\n",
      "    in selection order so that all sub-slices will also be valid random\n",
      "    samples.  This allows raffle winners (the sample) to be partitioned\n",
      "    into grand prize and second place winners (the subslices).\n",
      "    \n",
      "    Members of the population need not be hashable or unique.  If the\n",
      "    population contains repeats, then each occurrence is a possible\n",
      "    selection in the sample.\n",
      "    \n",
      "    To choose a sample in a range of integers, use range as an argument.\n",
      "    This is especially fast and space efficient for sampling from a\n",
      "    large population:   sample(range(10000000), 60)\n",
      "\n"
     ]
    }
   ],
   "source": [
    "help(sample)"
   ]
  },
  {
   "cell_type": "code",
   "execution_count": 146,
   "metadata": {},
   "outputs": [
    {
     "data": {
      "text/plain": [
       "[6, 5, 0, 1, 7, 2]"
      ]
     },
     "execution_count": 146,
     "metadata": {},
     "output_type": "execute_result"
    }
   ],
   "source": [
    "sample(range(10), 6)"
   ]
  },
  {
   "cell_type": "code",
   "execution_count": null,
   "metadata": {
    "scrolled": false
   },
   "outputs": [],
   "source": [
    "from random import *\n",
    "# un jeu de carte\n",
    "couleur = [\"pique\", \"coeur\", \"carreau\", \"trèfle\"]\n",
    "hauteur = [\"As\", \"Roi\", \"Dame\", \"Valet\", \"Dix\", \"Neuf\", \"Huit\", \"Sept\"]\n",
    "#Au total le jeu compte 32 cartes\n",
    "jeu = []\n",
    "for c in couleur:\n",
    "    for h in hauteur:\n",
    "        jeu.append(h+\" (:-----:) \"+c)\n",
    "print(\"----------------------------LE NOUVEAU JEU----------------------------\")\n",
    "print(\"\\n\".join(jeu))\n",
    "\n",
    "# mélanger\n",
    "shuffle(jeu)\n",
    "print(\"--------------------------Le jeu mélangé----------------------------------------\")\n",
    "print(\"\\n\".join(jeu))\n",
    "\n",
    "\n",
    "# Choisir au hasard le nombre de carte à donner\n",
    "N = randint(3, 10)\n",
    "print(\"Je donne \"+str(N)+\" cartes\")\n",
    "\n",
    "# Donner N cartes\n",
    "donne = sample(jeu, N)\n",
    "print(\"Les voilà :\")\n",
    "print(donne)"
   ]
  },
  {
   "cell_type": "code",
   "execution_count": 149,
   "metadata": {},
   "outputs": [],
   "source": [
    "from Crypto.Cipher import AES"
   ]
  },
  {
   "cell_type": "code",
   "execution_count": 157,
   "metadata": {},
   "outputs": [
    {
     "name": "stdout",
     "output_type": "stream",
     "text": [
      "saisir un entier : 0\n",
      "None\n"
     ]
    }
   ],
   "source": [
    "def binaire():\n",
    "    n = int(input(\"saisir un entier : \"))\n",
    "    while (n < 0):\n",
    "        n = int(input(\"saisir un entier:\"))\n",
    "        res = []\n",
    "        res.append(n % 2)\n",
    "        r = n // 2\n",
    "        while (r != 0):\n",
    "            res.append(r % 2)\n",
    "            r = r// 2\n",
    "            res.reverse()\n",
    "        return res\n",
    "print(binaire())"
   ]
  },
  {
   "cell_type": "markdown",
   "metadata": {},
   "source": [
    "# Dessiner un caré"
   ]
  },
  {
   "cell_type": "code",
   "execution_count": null,
   "metadata": {},
   "outputs": [],
   "source": [
    "import turtle"
   ]
  },
  {
   "cell_type": "code",
   "execution_count": null,
   "metadata": {},
   "outputs": [],
   "source": [
    "def square(c):\n",
    "#have the turtle draw a square of side <length>\n",
    "    for side in range(4):\n",
    "        turtle.forward(c)\n",
    "        turtle.left(90)"
   ]
  },
  {
   "cell_type": "code",
   "execution_count": null,
   "metadata": {},
   "outputs": [],
   "source": [
    "#turtle.reset()"
   ]
  },
  {
   "cell_type": "code",
   "execution_count": null,
   "metadata": {},
   "outputs": [],
   "source": [
    "#square(2)"
   ]
  },
  {
   "cell_type": "code",
   "execution_count": null,
   "metadata": {},
   "outputs": [],
   "source": [
    "#turtle.exitonclick()"
   ]
  },
  {
   "cell_type": "code",
   "execution_count": null,
   "metadata": {},
   "outputs": [],
   "source": [
    "import math\n",
    "dir(math)"
   ]
  },
  {
   "cell_type": "code",
   "execution_count": null,
   "metadata": {},
   "outputs": [],
   "source": [
    "def multi(n):\n",
    "    nombre=1\n",
    "    while(nombre<10):\n",
    "        nombre=nombre+1\n",
    "        print(n*nombre)\n",
    "multi(2)"
   ]
  },
  {
   "cell_type": "code",
   "execution_count": null,
   "metadata": {},
   "outputs": [],
   "source": [
    "import random\n",
    "n_gen=random.randint(0,1)\n",
    "print(n_gen)\n",
    "n_entree=int(input(\"entrez un nombre\"))\n",
    "i=0;\n",
    "while(n_entree!=n_gen):\n",
    "    i+=1\n",
    "    if(n_entree>n_gen):\n",
    "        print(\"sup\")\n",
    "    elif(n_entree<n_gen):\n",
    "            print(\"inf\");\n",
    "print(\"bravoooooooooooo TROUVE\")\n",
    "print(\"Vous avez fait de tentatives\",i)"
   ]
  },
  {
   "cell_type": "code",
   "execution_count": null,
   "metadata": {},
   "outputs": [],
   "source": []
  }
 ],
 "metadata": {
  "kernelspec": {
   "display_name": "Python 3",
   "language": "python",
   "name": "python3"
  },
  "language_info": {
   "codemirror_mode": {
    "name": "ipython",
    "version": 3
   },
   "file_extension": ".py",
   "mimetype": "text/x-python",
   "name": "python",
   "nbconvert_exporter": "python",
   "pygments_lexer": "ipython3",
   "version": "3.7.4"
  }
 },
 "nbformat": 4,
 "nbformat_minor": 2
}
