{
 "cells": [
  {
   "cell_type": "markdown",
   "metadata": {}
  },
  {
   "cell_type": "markdown",
   "metadata": {},
   "source": [
    "## Importation des modules "
   ]
  },
  {
   "cell_type": "markdown",
   "metadata": {},
   "source": [
    " # <font color=\"red\">!!! il faut dabort telecharger le module unidecode(pip install unidecode)</font>"
   ]
  },
  {
   "cell_type": "code",
   "execution_count": 3,
   "metadata": {},
   "outputs": [],
   "source": [
    "import string\n",
    "import random\n",
    "import unidecode\n",
    "import numpy as np"
   ]
  },
  {
   "cell_type": "markdown",
   "metadata": {},
   "source": [
    "## Quelques methodes utiles"
   ]
  },
  {
   "cell_type": "markdown",
   "metadata": {},
   "source": [
    "#####   - methode permettant de formater notre text enlever tous les caractères qui ne sont pas dans notre alphabet ainsi que les accents "
   ]
  },
  {
   "cell_type": "code",
   "execution_count": 5,
   "metadata": {},
   "outputs": [],
   "source": [
    "def format_message(message):\n",
    "    message=message.upper()\n",
    "    message=unidecode.unidecode(message)\n",
    "    caract_valide=[i for i in message if i in(string.ascii_uppercase)] \n",
    "    caract_valide_str=\"\".join(caract_valide)\n",
    "    return caract_valide_str"
   ]
  },
  {
   "cell_type": "markdown",
   "metadata": {},
   "source": [
    "#####  - inverse modulo 26 de la cle"
   ]
  },
  {
   "cell_type": "code",
   "execution_count": 89,
   "metadata": {},
   "outputs": [],
   "source": [
    "def inverse(n):\n",
    "    inverseValue=1\n",
    "    for i in range(26):\n",
    "        if (n*i)%26 == 1:\n",
    "            inverseValue=i\n",
    "    return inverseValue  "
   ]
  },
  {
   "cell_type": "markdown",
   "metadata": {},
   "source": [
    "##### - retourne le pgcd de deux nombres "
   ]
  },
  {
   "cell_type": "code",
   "execution_count": 6,
   "metadata": {},
   "outputs": [],
   "source": [
    "def gcd(a,b):\n",
    "    if b > a:\n",
    "        a, b=b, a\n",
    "    r=a%b    \n",
    "    while(r!=0):\n",
    "        a,b=b,r\n",
    "        r=a%b  \n",
    "    return b "
   ]
  },
  {
   "cell_type": "markdown",
   "metadata": {},
   "source": [
    "## Definition de l'alphabet "
   ]
  },
  {
   "cell_type": "code",
   "execution_count": null,
   "metadata": {},
   "outputs": [],
   "source": [
    "dico={}\n",
    "for count,j in enumerate(string.ascii_uppercase):\n",
    "    dico[count]=j\n",
    "def num_to_letter(num_chaine):\n",
    "    liste=[]\n",
    "    for i in (num_chaine):\n",
    "        liste.append(dico[i])\n",
    "    liste=\"\".join(liste)\n",
    "    return liste\n",
    "dico"
   ]
  },
  {
   "cell_type": "code",
   "execution_count": 9,
   "metadata": {},
   "outputs": [],
   "source": [
    "reverse_dico={}\n",
    "for count,j in enumerate(string.ascii_uppercase):\n",
    "    reverse_dico[j]=count\n",
    "def letter_to_num(chaine):\n",
    "    liste=[]\n",
    "    for i in chaine:\n",
    "        liste.append(reverse_dico[i])\n",
    "    return liste"
   ]
  },
  {
   "cell_type": "markdown",
   "metadata": {},
   "source": [
    "## 1- CHIFFREMENT PAR SUBSTITUTION"
   ]
  },
  {
   "cell_type": "markdown",
   "metadata": {},
   "source": [
    "## keygen_substitution"
   ]
  },
  {
   "cell_type": "code",
   "execution_count": 15,
   "metadata": {},
   "outputs": [
    {
     "data": {
      "text/plain": [
       "'RPXMGTVBSWZYHKAQEJFDICNLOU'"
      ]
     },
     "execution_count": 15,
     "metadata": {},
     "output_type": "execute_result"
    }
   ],
   "source": [
    "def keygen_subs():\n",
    "    liste=list(string.ascii_uppercase)\n",
    "    random.shuffle(liste)\n",
    "    liste=\"\".join(liste)\n",
    "    return(liste)\n",
    "keygen_subs()"
   ]
  },
  {
   "cell_type": "markdown",
   "metadata": {},
   "source": [
    "### CIPHER_SUBSTITUTION"
   ]
  },
  {
   "cell_type": "code",
   "execution_count": 19,
   "metadata": {},
   "outputs": [],
   "source": [
    "def cipher_substitution(message,key):\n",
    "    text_to_ciphe = format_message(message)\n",
    "    cipher_text=[]\n",
    "    for count,letter in enumerate(dictionary):\n",
    "        dictionary[letter]=key[count]\n",
    "    for letters in text_to_ciphe:\n",
    "        cipher_text.append(dictionary[letters])\n",
    "    cipher_text_str=\"\".join(cipher_text)\n",
    "    return cipher_text_str"
   ]
  },
  {
   "cell_type": "markdown",
   "metadata": {},
   "source": [
    "#### DECIPHER_SUBSTITUTION"
   ]
  },
  {
   "cell_type": "code",
   "execution_count": 10,
   "metadata": {
    "scrolled": false
   },
   "outputs": [],
   "source": [
    "def decipher_substitution(message,key):\n",
    "    dictionary ={}\n",
    "    decipher_text=[]    \n",
    "    for count,letter in enumerate(key):\n",
    "            dictionary[letter]=dico[count]\n",
    "    for letters in message:\n",
    "            decipher_text.append(dictionary[letters])\n",
    "    decipher_text_str=\"\".join(decipher_text)\n",
    "    return decipher_text_str"
   ]
  },
  {
   "cell_type": "markdown",
   "metadata": {},
   "source": [
    "## 2- CHIFFREMENT DE  VIGENERE"
   ]
  },
  {
   "cell_type": "markdown",
   "metadata": {},
   "source": [
    "### keygen_vigenere"
   ]
  },
  {
   "cell_type": "code",
   "execution_count": 69,
   "metadata": {},
   "outputs": [
    {
     "data": {
      "text/plain": [
       "('RGTE', 4)"
      ]
     },
     "execution_count": 69,
     "metadata": {},
     "output_type": "execute_result"
    }
   ],
   "source": [
    "dico_vig=dico.copy()\n",
    "reverse_dico_vige=reverse_dico.copy()\n",
    "def keygen_vigenere():\n",
    "    length=random.randint(1,25)\n",
    "    key=[]\n",
    "    for i in range(length):\n",
    "        key.append(dico_vig[random.randint(0,25)])\n",
    "    keys=\"\".join(key)\n",
    "    return keys,length\n",
    "# afficher 'length' en guise de vérifier\n",
    "keygen_vigenere()"
   ]
  },
  {
   "cell_type": "markdown",
   "metadata": {},
   "source": [
    "#### CHIFFREMENT VIGENNERRE"
   ]
  },
  {
   "cell_type": "code",
   "execution_count": 104,
   "metadata": {},
   "outputs": [],
   "source": [
    "def cipher_vigenere(message,key):\n",
    "    message = format_message(message)\n",
    "    cipher_message=[]\n",
    "    while(len(key)<len(message)):\n",
    "        key+=key\n",
    "    for k,m in zip(key,message):\n",
    "        cipher_message.append(dico[(reverse_dico[k]+reverse_dico[m])%26])\n",
    "    cipher_message=\"\".join(cipher_message)\n",
    "    return cipher_message"
   ]
  },
  {
   "cell_type": "markdown",
   "metadata": {},
   "source": [
    "### DECHIFFREMENT VIGENNERRE"
   ]
  },
  {
   "cell_type": "code",
   "execution_count": 96,
   "metadata": {},
   "outputs": [],
   "source": [
    "def decipher_vigenere(message,key):\n",
    "    message = format_message(message)\n",
    "    decipher_message=[]\n",
    "    while(len(key)<len(message)):\n",
    "        key+=key\n",
    "    for k,m in zip(key,message):\n",
    "        decipher_message.append(dico[((reverse_dico[m]-reverse_dico[k])+26)%26])\n",
    "    decipher_message=\"\".join(decipher_message)\n",
    "    return decipher_message"
   ]
  },
  {
   "cell_type": "markdown",
   "metadata": {},
   "source": [
    "## 3 -  CHIFFREMENT DE HILL"
   ]
  },
  {
   "cell_type": "markdown",
   "metadata": {},
   "source": [
    "### keygen_hill\n"
   ]
  },
  {
   "cell_type": "code",
   "execution_count": 98,
   "metadata": {},
   "outputs": [],
   "source": [
    "inversible=[i for i in range(26) if inverse(i) != 1 or i==1]\n",
    "def keygen_hill():\n",
    "    l=[0,0,0,0]\n",
    "    n=2\n",
    "    while( n not in inversible or n == 0) :\n",
    "        for i in range(4):\n",
    "            l[i]=random.randint(0,25)\n",
    "        n=(l[0]*l[3]-l[2]*l[1])%26\n",
    "    n=inverse(n)\n",
    "    A = np.array([[l[0], l[1]], [l[2], l[3]]])\n",
    "    inv_A=np.array([[n*l[3] % 26, (-n*l[1])%26], [(-n*l[2])%26, n*l[0]%26]])\n",
    "    return(A)"
   ]
  },
  {
   "cell_type": "markdown",
   "metadata": {},
   "source": [
    "### CHIFFREMENT HILL"
   ]
  },
  {
   "cell_type": "code",
   "execution_count": 17,
   "metadata": {
    "scrolled": true
   },
   "outputs": [
    {
     "name": "stdout",
     "output_type": "stream",
     "text": [
      "[[21 22]\n",
      " [ 9  1]]\n",
      "GXQSCJUNGQTTXRTTPGKJDFCJUNAFMHQBMHHWMPSCCYBTOFOAYGRNDBZNYKHWIDKWFYCTIIPGKCOCUY\n"
     ]
    }
   ],
   "source": [
    "def cipher_hill(message,key):\n",
    "    message = format_message(message)\n",
    "    b=False\n",
    "    chiffre=[]\n",
    "    length=len(message)\n",
    "    if(length%2==0):\n",
    "        pass\n",
    "    else:\n",
    "        message=message+\"W\"\n",
    "        b=True\n",
    "    message= letter_to_num(message)\n",
    "    for i in range(0,len(message)-1,2):\n",
    "        chiffre.append((key[0][0]*message[i]+key[0][1]*message[i+1]) % 26)\n",
    "        chiffre.append((key[1][0]*message[i]+key[1][1]*message[i+1]) % 26)\n",
    "    chiffre=num_to_letter(chiffre)\n",
    "    if(b):\n",
    "        chiffre=chiffre[:len(chiffre)-1]\n",
    "        pass\n",
    "    else:\n",
    "        pass\n",
    "    return(chiffre)  \n",
    "k=keygen_hill()\n",
    "print(k)\n",
    "m=cipher_hill(\"En cas de doute, ne tentez pas de deviner. - In the face of ambiguity, refuse the temptation to guess\",k)\n",
    "print(m)\n"
   ]
  },
  {
   "cell_type": "markdown",
   "metadata": {},
   "source": [
    "### DECHIFFREMENT HILL "
   ]
  },
  {
   "cell_type": "code",
   "execution_count": null,
   "metadata": {},
   "outputs": [],
   "source": [
    "def decipher_hill(message,key):\n",
    "    n=(key[0][0]*key[1][1]-key[0][1]*key[1][0])%26\n",
    "    n=inverse(n)\n",
    "    key=np.array([[n*key[1][1] % 26, (-n*key[0][1])%26], [(-n*key[1][0])%26, n*key[0][0]%26]])\n",
    "    message = format_message(message)\n",
    "    b=False\n",
    "    chiffre=[]\n",
    "    length=len(message)\n",
    "    if(length%2==0):\n",
    "        pass\n",
    "    else:\n",
    "        message=message+\"W\"\n",
    "        b=True\n",
    "    message = letter_to_num(message)\n",
    "    for i in range(0,len(message)-1,2):\n",
    "        chiffre.append((key[0][0]*message[i]+key[0][1]*message[i+1]) % 26)\n",
    "        chiffre.append((key[1][0]*message[i]+key[1][1]*message[i+1]) % 26)\n",
    "    chiffre=num_to_letter(chiffre)\n",
    "    if(b):\n",
    "        chiffre=chiffre[:len(chiffre)-1]\n",
    "    else:\n",
    "        pass\n",
    "    return(chiffre)"
   ]
  },
  {
   "cell_type": "markdown",
   "metadata": {},
   "source": [
    "## 4 - VERNAM"
   ]
  },
  {
   "cell_type": "markdown",
   "metadata": {},
   "source": [
    "### KEYGEN_VERNAM"
   ]
  },
  {
   "cell_type": "code",
   "execution_count": 65,
   "metadata": {},
   "outputs": [],
   "source": [
    "def keygen_vernam(chaine):\n",
    "    chaine=format_message(chaine)\n",
    "    key=[]\n",
    "    for i in range(len(chaine)):\n",
    "        key.append(random.choice(string.ascii_uppercase))\n",
    "    key=\"\".join(key)\n",
    "    return key"
   ]
  },
  {
   "cell_type": "markdown",
   "metadata": {},
   "source": [
    "### CIPHER_VERNAM"
   ]
  },
  {
   "cell_type": "code",
   "execution_count": 62,
   "metadata": {},
   "outputs": [],
   "source": [
    "def cipher_vernam(message,key):\n",
    "    message = format_message(message)\n",
    "    message=letter_to_num(message)\n",
    "    key=letter_to_num(key)\n",
    "    cipher=[]\n",
    "    for m,k in zip(message,key):\n",
    "        cipher.append((m+k)%26)\n",
    "    cipher=num_to_letter(cipher)\n",
    "    return cipher"
   ]
  },
  {
   "cell_type": "markdown",
   "metadata": {},
   "source": [
    "### DECIPHER_VERNAM"
   ]
  },
  {
   "cell_type": "code",
   "execution_count": null,
   "metadata": {},
   "outputs": [],
   "source": [
    "def decipher_vernam(message,key):\n",
    "    message = format_message(message)\n",
    "    message=letter_to_num(message)\n",
    "    key=letter_to_num(key)\n",
    "    decipher=[]\n",
    "    for m,k in zip(message,key):\n",
    "        decipher.append(((m-k)+26)%26)\n",
    "    decipher=num_to_letter(decipher)\n",
    "    return decipher"
   ]
  },
  {
   "cell_type": "markdown",
   "metadata": {},
   "source": [
    "## 5 -  AFFINE"
   ]
  },
  {
   "cell_type": "markdown",
   "metadata": {},
   "source": [
    "### generation clef affine"
   ]
  },
  {
   "cell_type": "code",
   "execution_count": null,
   "metadata": {},
   "outputs": [],
   "source": [
    "def keygen_affine():\n",
    "    inversible=[i for i in range(26) if inverse(i) != 1 or i==1]\n",
    "    return(random.choice(inversible),random.randint(0,26))"
   ]
  },
  {
   "cell_type": "markdown",
   "metadata": {},
   "source": [
    "### chiffrement affine"
   ]
  },
  {
   "cell_type": "code",
   "execution_count": null,
   "metadata": {},
   "outputs": [],
   "source": [
    "def cipher_affine(message,key):\n",
    "    k1=key[0]\n",
    "    k2=key[1]\n",
    "    message=format_message(message)\n",
    "    liste=[]\n",
    "    for alpha in message :\n",
    "        liste.append(dico[(k1*reverse_dico[alpha]+k2)%26])\n",
    "    cipher_text =\"\".join(liste) \n",
    "    return cipher_text"
   ]
  },
  {
   "cell_type": "markdown",
   "metadata": {},
   "source": [
    "### dechiffrement affine"
   ]
  },
  {
   "cell_type": "code",
   "execution_count": null,
   "metadata": {},
   "outputs": [],
   "source": [
    "def decipher_affine(message,key):\n",
    "    k1=key[0]\n",
    "    k2=key[1]\n",
    "    k1=inverse(k1)\n",
    "    message=format_message(message)\n",
    "    liste=[]\n",
    "    for alpha in message:\n",
    "        liste.append(dico[ (k1*( (reverse_dico[alpha]-k2)+26))%26 ])\n",
    "    decipher = ''.join(liste) \n",
    "    return decipher"
   ]
  },
  {
   "cell_type": "markdown",
   "metadata": {},
   "source": [
    "## 6 - CESAR"
   ]
  },
  {
   "cell_type": "markdown",
   "metadata": {},
   "source": [
    "### GENERATION DES CLEFS"
   ]
  },
  {
   "cell_type": "code",
   "execution_count": null,
   "metadata": {},
   "outputs": [],
   "source": [
    "def keygen_cesar():\n",
    "    return(random.randint(0,25))"
   ]
  },
  {
   "cell_type": "markdown",
   "metadata": {},
   "source": [
    "### METHODE DE CHIFFREMENT"
   ]
  },
  {
   "cell_type": "code",
   "execution_count": null,
   "metadata": {},
   "outputs": [],
   "source": [
    "def cipher_cesar(message,key):\n",
    "    cipher=[]\n",
    "    message=format_message(message)\n",
    "    for i in message:\n",
    "        cipher.append(dico[(reverse_dico[i]+key)%26])\n",
    "    cipher=\"\".join(cipher)\n",
    "    return cipher"
   ]
  },
  {
   "cell_type": "markdown",
   "metadata": {},
   "source": [
    "### METHODE DE DECHIFFREMENT"
   ]
  },
  {
   "cell_type": "code",
   "execution_count": null,
   "metadata": {},
   "outputs": [],
   "source": [
    "def decipher_cesar(message,key):\n",
    "    decipher=[]\n",
    "    message=format_message(message)\n",
    "    for i in message:\n",
    "        decipher.append(dico[(reverse_dico[i]-key+26)%26])\n",
    "    decipher=\"\".join(decipher)\n",
    "    return decipher"
   ]
  },
  {
   "cell_type": "markdown",
   "metadata": {},
   "source": [
    "### 7 - PERMUTATION"
   ]
  },
  {
   "cell_type": "markdown",
   "metadata": {},
   "source": [
    "### GENERATION DES CLEFS"
   ]
  },
  {
   "cell_type": "code",
   "execution_count": null,
   "metadata": {},
   "outputs": [],
   "source": [
    "def keygen_permutation(message):\n",
    "    message=format_message(message)\n",
    "    message=list(range(0,len(message)))\n",
    "    random.shuffle(message)\n",
    "    return message"
   ]
  },
  {
   "cell_type": "markdown",
   "metadata": {},
   "source": [
    "### chiffrement permutation"
   ]
  },
  {
   "cell_type": "code",
   "execution_count": null,
   "metadata": {
    "scrolled": true
   },
   "outputs": [],
   "source": [
    "def cipher_permutation(message,key):\n",
    "    message=format_message(message)\n",
    "    cipher=[]\n",
    "    for i in key:\n",
    "        cipher.append(message[i])\n",
    "    cipher=\"\".join(cipher)\n",
    "    return cipher"
   ]
  },
  {
   "cell_type": "markdown",
   "metadata": {},
   "source": [
    "### dechiffrement permutation"
   ]
  },
  {
   "cell_type": "code",
   "execution_count": null,
   "metadata": {},
   "outputs": [],
   "source": [
    "def decipher_permutation(message,key):\n",
    "    message=format_message(message)\n",
    "    keys_match={}\n",
    "    for i,j in enumerate(key):\n",
    "        keys_match[j]=i\n",
    "    inverse_key=[]\n",
    "    for i in range(len(keys_match)):\n",
    "        inverse_key.append(keys_match[i])\n",
    "    decipher=[]\n",
    "    print(\"inverse\",inverse_key)\n",
    "    for i in inverse_key:\n",
    "        decipher.append(message[i])\n",
    "    decipher=\"\".join(decipher)\n",
    "    return decipher"
   ]
  },
  {
   "cell_type": "markdown",
   "metadata": {},
   "source": [
    "# MAIN APPLICATION TEST"
   ]
  },
  {
   "cell_type": "code",
   "execution_count": 108,
   "metadata": {},
   "outputs": [
    {
     "name": "stdout",
     "output_type": "stream",
     "text": [
      "BINVENUE DANS NOTRE APPLICALION DE CHIFFREMENT DES SCHEMAS CLASSIQUES\n",
      "1 - Pour CHIFFRER \n",
      "2 - Pour DECHIFFRER\n",
      "Vous voulez chiffrer ou dechiffrer ?0\n"
     ]
    }
   ],
   "source": [
    "algo=\"\"\"\\t1- cesar\n",
    "        2- affine\n",
    "        3- hill \n",
    "        4- vigenerre\n",
    "        5- pemutation\n",
    "        6- vernam\n",
    "        7- substitution\"\"\"\n",
    "print(\"BINVENUE DANS NOTRE APPLICALION DE CHIFFREMENT DES SCHEMAS CLASSIQUES\")\n",
    "print(\"1 - Pour CHIFFRER \\n2 - Pour DECHIFFRER\")\n",
    "choice_cipher_decipher = input(\"Vous voulez chiffrer ou dechiffrer ?\")\n",
    "if(choice_cipher_decipher == \"1\"):\n",
    "    message = input(\"Entrer le text a chiffrer : \")\n",
    "    print(algo)  \n",
    "    choice = input(\"choississez un algorithme de chiffrement en donnant son numero :\")\n",
    "    if choice == \"1\":\n",
    "        k_cesar=keygen_cesar()\n",
    "        print(f\"\\n\\n votre clef de chiffrement est {k_cesar}  noter le ! \\n\\n\")\n",
    "        print(f\"le chiffré est :{cipher_cesar(message,k_cesar)}\")\n",
    "    elif(choice == \"2\"):\n",
    "        k_affine=keygen_affine()\n",
    "        print(f\"\\n\\n votre clef de chiffrement est {k_affine}  noter le ! \\n\\n\")\n",
    "        print(f\"le chiffré est :{cipher_affine(message,k_affine)}\")\n",
    "    elif(choice == \"3\"):\n",
    "        k_hill=keygen_hill()\n",
    "        print(f\"\\n\\n votre clef de chiffrement est {k_hill}  noter le ! \\n\\n\")\n",
    "        print(f\"le chiffré est :{cipher_hill(message,k_hill)}\")\n",
    "    elif(choice == \"4\"):\n",
    "        k_vigenere=keygen_vigenere()\n",
    "        print(f\"\\n\\n votre clef de chiffrement est {k_vigenere}  noter le ! \\n\\n\")\n",
    "        print(f\"le chiffré est :{cipher_vigenere(message,k_vigenere)}\")\n",
    "    elif(choice == \"5\"):\n",
    "        k_permut=keygen_permutation(message)\n",
    "        print(f\"\\n\\n votre clef de chiffrement est {k_permut}  noter le ! \\n\\n\")\n",
    "        print(f\"le chiffré est :{cipher_permutation(message,k_permut)}\")\n",
    "    elif(choice == \"6\"):\n",
    "        k_vernam=keygen_vernam(message)\n",
    "        print(f\"\\n\\n votre clef de chiffrement est {k_vernam}  noter le ! \\n\\n\")\n",
    "        print(f\"le chiffré est :{cipher_vernam(message,k_vernam)}\")\n",
    "    elif(choice == \"7\"):\n",
    "        k_substitution=keygen_subs()\n",
    "        print(f\"\\n\\n votre clef de chiffrement est {k_substitution}  noter le ! \\n\\n\")\n",
    "        print(f\"le chiffré est :{cipher_substitution(message,k_substitution)}\")\n",
    "elif(choice_cipher_decipher == \"2\"):\n",
    "    message = input(\"Entrer le text a dechiffrer : \")\n",
    "    print(algo)\n",
    "    choice = input(\"choississez un algorithme de dechiffrement en donnant son numero :\")\n",
    "    if choice == \"1\":\n",
    "        k_cesar=int(input(\"veillez entrer la cle de dechiffrement : \"))\n",
    "        print(f\"le message claire est :  {decipher_cesar(message,k_cesar)} \")\n",
    "    elif(choice == \"2\"):\n",
    "        k_affine=tuple(eval(input(\"veillez entrer la cle de dechiffrement : \")))\n",
    "        print(f\"le message claire est :  {decipher_affine(message,k_affine)}\")\n",
    "    elif(choice == \"3\"):\n",
    "        k_hill=np.array(eval(input(\"veillez entrer la cle de dechiffrement  utiliser une liste de liste [[a,b],[c,d]]: \")))\n",
    "        print(f\"le message claire est :  {decipher_hill(message,k_hill)}\")\n",
    "    elif(choice == \"4\"):\n",
    "        k_vigenere=input(\"veillez entrer la cle de dechiffrement : \")\n",
    "        print(f\"le message claire est :  {decipher_vigenere(message,k_vigenere)}\")\n",
    "    elif(choice == \"5\"):\n",
    "        k_permut=eval(input(\"veillez entrer la cle de dechiffrement : \"))\n",
    "        print(f\"le message claire est :  {decipher_permutation(message,k_permut)}\")\n",
    "    elif(choice == \"6\"):\n",
    "        k_vernam=input(\"veillez entrer la cle de dechiffrement : \")\n",
    "        print(f\"le message chiffre est : {decipher_vernam(message,k_vernam)}\")\n",
    "    elif(choice == \"7\"):\n",
    "        k_substitution=input(\"veillez entrer la cle de dechiffrement : \")\n",
    "        print(f\"le message claire est :  {decipher_substitution(message,k_substitution)}\")\n",
    "    \n"
   ]
  },
  {
   "cell_type": "code",
   "execution_count": null,
   "metadata": {},
   "outputs": [],
   "source": []
  }
 ],
 "metadata": {
  "kernelspec": {
   "display_name": "Python 3",
   "language": "python",
   "name": "python3"
  },
  "language_info": {
   "codemirror_mode": {
    "name": "ipython",
    "version": 3
   },
   "file_extension": ".py",
   "mimetype": "text/x-python",
   "name": "python",
   "nbconvert_exporter": "python",
   "pygments_lexer": "ipython3",
   "version": "3.7.4"
  }
 },
 "nbformat": 4,
 "nbformat_minor": 2
}
