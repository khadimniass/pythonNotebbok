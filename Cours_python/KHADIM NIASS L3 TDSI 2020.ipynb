{
 "cells": [
  {
   "cell_type": "markdown",
   "metadata": {},
   "source": [
    "# Algorithme de ***Newton-Raphson*** pour  ***l'EMV*** de $\\alpha$ de la loi gamma\n",
    "\n",
    "$\\Gamma(x) := \\int^{\\infty}_{0} t^{x-1} e^{-t} \\mathrm{d}t$"
   ]
  },
  {
   "cell_type": "code",
   "execution_count": 104,
   "metadata": {},
   "outputs": [],
   "source": [
    "import numpy\n",
    "import sympy\n",
    "import random\n",
    "x=sympy.Symbol(\"x\")\n",
    "def newton_raphson(a,ltx):\n",
    "    i=0\n",
    "    while(True):\n",
    "        if(numpy.abs(a-i)<0.0001):\n",
    "            break\n",
    "        a=a-funcinipri(a,ltx)/funcini(a,ltx)\n",
    "        i=a\n",
    "    return a\n",
    "\n",
    "\n",
    "def sommeln(lst_x):    \n",
    "\n",
    "    return float(sum([sympy.ln(i) for i in (lst_x)]))\n",
    "\n",
    "def sommexi(lst_x):\n",
    "    \n",
    "    return sum(Listx)/len(lst_x)\n",
    "\n",
    "def derivative(func):\n",
    "    fp=sympy.diff(func,x)\n",
    "    fla=sympy.lambdify(x,fp)\n",
    "    return fla\n",
    "\n",
    "def funcini(a,Listx):\n",
    "    return float(-len(Listx)*(derivative(sympy.gamma(x))(a)/sympy.gamma(a)) -sommeln(Listx)*len(Listx) +len(Listx)*sympy.ln(a)+sommeln(Listx))\n",
    "\n",
    "def funcinipri(a,Listx):\n",
    "    return float(-len(Listx)*sympy.trigamma(a) + len(Listx)*(1/a))"
   ]
  },
  {
   "cell_type": "markdown",
   "metadata": {},
   "source": [
    "## L'echantillon généré a partir de ***R***"
   ]
  },
  {
   "cell_type": "code",
   "execution_count": 100,
   "metadata": {},
   "outputs": [],
   "source": [
    "echantillon=[4.9715277, 2.3950684,6.9276035,9.8178890,8.8592062,3.6318223,\n",
    "  8.2100328,2.4059565,0.3542640,3.8746461,5.5771696,4.5065179,\n",
    "  0.9084919,3.7921954,1.0863522,6.7619878,2.4788662,4.1752563,\n",
    "  2.2037817,9.2142301,4.2471287,4.2027407,2.5067747,2.7854016,\n",
    "  4.6291707,5.3205667,4.2967073,6.0430255,2.3958655,8.5496704,\n",
    "  7.2022812,1.6872423,2.2993789,2.3954743,4.5859868,1.3977662,\n",
    "  4.9985051,2.3576235,11.3064630,5.2523982,5.2992748,3.7987439,\n",
    "  2.2967666,7.7092264,6.8806153,3.4035323,3.7402224,4.7458975,\n",
    "  2.8234112,1.0495046,3.5277914,6.0443621,3.6217245,8.9109427,\n",
    "  5.4037658,6.7881035,4.5993294,7.1773837,4.6333468,3.6381851,\n",
    "  3.2721471,1.0378773,4.1546943,8.5143052,1.7815878,2.6005386,\n",
    "  3.5153600,4.7998715,5.6354831,10.7489601,2.9337384,0.7787420,\n",
    "  2.8308490,5.7262069,2.4334167,4.1679139,7.4558313,1.1213301,\n",
    "  8.4678003,1.6146869,5.3897647,7.9084252,6.5060000,9.5796112,\n",
    "  8.0392609,5.3504714,2.2807428,7.6524203,7.2802571,4.6570637,\n",
    "  5.0210393,1.9201287,6.7524730,11.4284631,4.7644799,2.0647705,\n",
    "  2.0586914,1.7462533,9.7993866,10.6600198]"
   ]
  },
  {
   "cell_type": "code",
   "execution_count": 101,
   "metadata": {},
   "outputs": [
    {
     "name": "stdout",
     "output_type": "stream",
     "text": [
      "-13696.674605675611\n",
      "-0.8137014694031549\n",
      "7.999940591311918\n"
     ]
    }
   ],
   "source": [
    "print(funcini(8,echantillon))\n",
    "print(funcinipri(8,echantillon))\n",
    "print(newton_raphson(8,echantillon))                 \n"
   ]
  },
  {
   "cell_type": "code",
   "execution_count": 103,
   "metadata": {},
   "outputs": [
    {
     "data": {
      "text/latex": [
       "$\\displaystyle \\operatorname{polygamma}{\\left(0,z \\right)}$"
      ],
      "text/plain": [
       "polygamma(0, z)"
      ]
     },
     "execution_count": 103,
     "metadata": {},
     "output_type": "execute_result"
    }
   ],
   "source": [
    "z = sympy.Symbol('z')\n",
    "b=sympy.diff(sympy.gamma(z))/sympy.gamma(z)\n",
    "b"
   ]
  }
 ],
 "metadata": {
  "kernelspec": {
   "display_name": "Python 3",
   "language": "python",
   "name": "python3"
  },
  "language_info": {
   "codemirror_mode": {
    "name": "ipython",
    "version": 3
   },
   "file_extension": ".py",
   "mimetype": "text/x-python",
   "name": "python",
   "nbconvert_exporter": "python",
   "pygments_lexer": "ipython3",
   "version": "3.7.4"
  }
 },
 "nbformat": 4,
 "nbformat_minor": 4
}
