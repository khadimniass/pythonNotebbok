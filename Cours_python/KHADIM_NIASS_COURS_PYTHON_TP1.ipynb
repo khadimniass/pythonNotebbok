{
 "cells": [
  {
   "cell_type": "markdown",
   "metadata": {},
   "source": [
    "# KHADIM NIASS L3 TDSI 2020 option: MCS"
   ]
  },
  {
   "cell_type": "markdown",
   "metadata": {},
   "source": [
    "# Exercice1"
   ]
  },
  {
   "cell_type": "markdown",
   "metadata": {},
   "source": [
    "## 0"
   ]
  },
  {
   "cell_type": "code",
   "execution_count": null,
   "metadata": {},
   "outputs": [],
   "source": [
    "chaine=str(input(\"entrez un;e chaine: \"))\n",
    "chaine=list(chaine)\n",
    "if len(chaine)%2==0:\n",
    "    chaine.insert(len(chaine)//2,\"-\")\n",
    "else:\n",
    "    chaine[len(chaine)//2]=\"_\"\n",
    "\"\".join(chaine)"
   ]
  },
  {
   "cell_type": "code",
   "execution_count": null,
   "metadata": {},
   "outputs": [],
   "source": [
    "chaine=str(input(\"entrez un;e chaine: \"))\n",
    "if len(chaine)%2==1:\n",
    "    res=chaine[: len(chaine)//2]+\"-\"+chaine[: len(chaine)//2+ 1 :]\n",
    "print(res)"
   ]
  },
  {
   "cell_type": "markdown",
   "metadata": {},
   "source": [
    "# 1"
   ]
  },
  {
   "cell_type": "code",
   "execution_count": null,
   "metadata": {},
   "outputs": [],
   "source": [
    "import math\n",
    "nombre=int (input(\"entrez un nombre : \"))\n",
    "test=False\n",
    "for i in range(2,int(math.sqrt(nombre))):\n",
    "     if nombre%i==0:\n",
    "        test=True\n",
    "if test:\n",
    "    print(nombre, \" n'est pas un nombre premier\")\n",
    "else :\n",
    "    print(nombre, \" est un nombre premier\")"
   ]
  },
  {
   "cell_type": "markdown",
   "metadata": {},
   "source": [
    "# 2"
   ]
  },
  {
   "cell_type": "code",
   "execution_count": 2,
   "metadata": {},
   "outputs": [
    {
     "name": "stdout",
     "output_type": "stream",
     "text": [
      "entrez une variable 4\n",
      "<class 'int'>\n"
     ]
    }
   ],
   "source": [
    "var=eval(input(\"entrez une variable \"))\n",
    "isinstance(var,type(var))\n",
    "print(type(var))"
   ]
  },
  {
   "cell_type": "markdown",
   "metadata": {},
   "source": [
    "# 3"
   ]
  },
  {
   "cell_type": "code",
   "execution_count": null,
   "metadata": {},
   "outputs": [],
   "source": [
    "test=eval(input(\"entrez un nombre\"))\n",
    "if test>5:\n",
    "    print(\"Félicitation !!!!!!!!!!!\")\n",
    "else :\n",
    "    print(test,\" n'est pas supérieurs a 5\")"
   ]
  },
  {
   "cell_type": "markdown",
   "metadata": {},
   "source": [
    "# 4"
   ]
  },
  {
   "cell_type": "code",
   "execution_count": null,
   "metadata": {},
   "outputs": [],
   "source": [
    "test2=int(input(\"entrez un nombre \"))\n",
    "if test2%2!=0:\n",
    "    print(\"J’ai trouvé un nombre impair\")\n",
    "else:\n",
    "    print(\"J’ai trouvé un nombre pair\")"
   ]
  },
  {
   "cell_type": "markdown",
   "metadata": {},
   "source": [
    "# 5"
   ]
  },
  {
   "cell_type": "code",
   "execution_count": 31,
   "metadata": {},
   "outputs": [
    {
     "name": "stdout",
     "output_type": "stream",
     "text": [
      "entrez une variable\n"
     ]
    },
    {
     "ename": "SyntaxError",
     "evalue": "unexpected EOF while parsing (<string>, line 0)",
     "output_type": "error",
     "traceback": [
      "Traceback \u001b[1;36m(most recent call last)\u001b[0m:\n",
      "  File \u001b[0;32m\"C:\\ProgramData\\Anaconda3\\lib\\site-packages\\IPython\\core\\interactiveshell.py\"\u001b[0m, line \u001b[0;32m3326\u001b[0m, in \u001b[0;35mrun_code\u001b[0m\n    exec(code_obj, self.user_global_ns, self.user_ns)\n",
      "\u001b[1;36m  File \u001b[1;32m\"<ipython-input-31-11c3cd8858a3>\"\u001b[1;36m, line \u001b[1;32m1\u001b[1;36m, in \u001b[1;35m<module>\u001b[1;36m\u001b[0m\n\u001b[1;33m    test3=eval(input(\"entrez une variable\"))\u001b[0m\n",
      "\u001b[1;36m  File \u001b[1;32m\"<string>\"\u001b[1;36m, line \u001b[1;32munknown\u001b[0m\n\u001b[1;33m    \u001b[0m\n\u001b[1;37m    ^\u001b[0m\n\u001b[1;31mSyntaxError\u001b[0m\u001b[1;31m:\u001b[0m unexpected EOF while parsing\n"
     ]
    }
   ],
   "source": [
    "test3=eval(input(\"entrez une variable\"))\n",
    "if type(test3)!=int:\n",
    "    print(\"Un nombre fantastique\")"
   ]
  },
  {
   "cell_type": "markdown",
   "metadata": {},
   "source": [
    "# 6"
   ]
  },
  {
   "cell_type": "code",
   "execution_count": null,
   "metadata": {},
   "outputs": [],
   "source": [
    "test4=eval(input(\"entrez un nombre\"))\n",
    "if -3<=test4<=3:\n",
    "    print(\"Petit nombre !\")\n",
    "elif -10<=test4<=10:\n",
    "    print(\"Nombre moyen !\")\n",
    "elif test4>10:\n",
    "    print(\"grand nombre!\")"
   ]
  },
  {
   "cell_type": "markdown",
   "metadata": {},
   "source": [
    "# 7"
   ]
  },
  {
   "cell_type": "code",
   "execution_count": null,
   "metadata": {},
   "outputs": [],
   "source": [
    "test6=int(input(\"entrez un entier: \"))\n",
    "if test6<0:\n",
    "    t6=test6*-3\n",
    "    if t6%9==0:\n",
    "        print(\"hello, mon ami\")\n",
    "    else:\n",
    "        print(\"Oh, non, pas vous\")\n",
    "else:\n",
    "    print(\"Oh, non, pas vous\")"
   ]
  },
  {
   "cell_type": "markdown",
   "metadata": {},
   "source": [
    "# 8"
   ]
  },
  {
   "cell_type": "code",
   "execution_count": null,
   "metadata": {},
   "outputs": [],
   "source": [
    "numb_jour=int(input(\"entrez le numéro de jour :\"))\n",
    "if 1<=numb_jour<=7:\n",
    "    if numb_jour==1:\n",
    "        print(\"Lundi\")\n",
    "    elif numb_jour==2:\n",
    "        print(\"Mardi\")\n",
    "    elif numb_jour==3:\n",
    "        print(\"Mercredi\")\n",
    "    elif numb_jour==4:\n",
    "        print(\"Jeudi\")\n",
    "    elif numb_jour==5:\n",
    "        print(\"Vendredi\")\n",
    "    else:\n",
    "        print(\"Week-end\")\n",
    "else :\n",
    "    print(\"Les jours de la semaine c'est entre 1 & 7\")"
   ]
  },
  {
   "cell_type": "code",
   "execution_count": 37,
   "metadata": {},
   "outputs": [
    {
     "name": "stdout",
     "output_type": "stream",
     "text": [
      "entrez le numéro de jour :1\n",
      "L\n"
     ]
    }
   ],
   "source": [
    "numb_jr=int(input(\"entrez le numéro de jour :\"))\n",
    "if 1<=numb_jr<=7:\n",
    "    dico={1:\"L\",2:\"Mar\",3:\"Mer\",4:\"J\",5:\"V\",6:\"S\",7:\"D\"}\n",
    "    if 1<=numb_jr<=5:\n",
    "        print(dico[numb_jr])\n",
    "    else:\n",
    "        print(\"Week-end\")\n",
    "else:\n",
    "    print(\"Les jours de la semaine c'est entre 1 & 7\")"
   ]
  },
  {
   "cell_type": "markdown",
   "metadata": {},
   "source": [
    "# 9"
   ]
  },
  {
   "cell_type": "code",
   "execution_count": null,
   "metadata": {},
   "outputs": [],
   "source": [
    "numb_mois=int(input(\"entrez le numéro du mois :\"))\n",
    "if 1<=numb_mois<=12:\n",
    "    if numb_mois%2==0:\n",
    "        if numb_mois==2:\n",
    "            print(28)\n",
    "        elif numb_mois==4 or numb_mois==6: print(30)\n",
    "        else: print(31)\n",
    "    else:\n",
    "        if numb_mois==1 or numb_mois==9 or numb_mois==11:\n",
    "            print(31)\n",
    "        else: print(30)\n",
    "else : print(\"annee entre 1 & 12\")"
   ]
  },
  {
   "cell_type": "markdown",
   "metadata": {},
   "source": [
    "# 10"
   ]
  },
  {
   "cell_type": "code",
   "execution_count": null,
   "metadata": {},
   "outputs": [],
   "source": [
    "n=int(input(\"entrez un nombre: \"))\n",
    "somme=0\n",
    "for i in range(n+1):\n",
    "    somme=somme+i**2\n",
    "somme"
   ]
  },
  {
   "cell_type": "markdown",
   "metadata": {},
   "source": [
    "# 11"
   ]
  },
  {
   "cell_type": "code",
   "execution_count": 3,
   "metadata": {},
   "outputs": [
    {
     "name": "stdout",
     "output_type": "stream",
     "text": [
      "entrez un entier entre 0 et 9 :7\n",
      "La table de multiplication s'arrête où ? :5\n",
      "La table de  7  : est\n",
      "7 * 0 = 0 \n",
      "\n",
      "7 * 1 = 7 \n",
      "\n",
      "7 * 2 = 14 \n",
      "\n",
      "7 * 3 = 21 \n",
      "\n",
      "7 * 4 = 28 \n",
      "\n",
      "7 * 5 = 35 \n",
      "\n"
     ]
    }
   ],
   "source": [
    "n=int(input(\"entrez un entier entre 0 et 9 :\"))\n",
    "if 0<=n<=9:\n",
    "    N=int(input(\"La table de multiplication s'arrête où ? :\"))\n",
    "    print(\"La table de \",n,\" : est\")\n",
    "    for i in range(N+1):\n",
    "        print(n,\"*\",i,\"=\",i*n,\"\\n\")\n",
    "else :\n",
    "    print(\"Sorry, L'entier doit etre compris entre 0 & 9\")"
   ]
  },
  {
   "cell_type": "markdown",
   "metadata": {},
   "source": [
    "# 12"
   ]
  },
  {
   "cell_type": "code",
   "execution_count": null,
   "metadata": {},
   "outputs": [],
   "source": [
    "for entier in range(40):\n",
    "    if entier%3==0 or entier%7==0 or entier%11==0:\n",
    "        print(entier)"
   ]
  },
  {
   "cell_type": "markdown",
   "metadata": {},
   "source": [
    "# 13"
   ]
  },
  {
   "cell_type": "code",
   "execution_count": 32,
   "metadata": {},
   "outputs": [
    {
     "name": "stdout",
     "output_type": "stream",
     "text": [
      "Choisis un entier : 7\n",
      "P = 15 \n",
      " S=  21\n"
     ]
    }
   ],
   "source": [
    "n=int(input(\"Choisis un entier : \"))\n",
    "S=0\n",
    "P=1\n",
    "for i in range(1,n):\n",
    "    if i%2==0:\n",
    "        S=S+i+3\n",
    "    elif i%3==0:\n",
    "        P=P*(i**2+2*i)\n",
    "print(\"P\",\"=\",P,\"\\n\",\"S= \",S)"
   ]
  },
  {
   "cell_type": "code",
   "execution_count": 16,
   "metadata": {},
   "outputs": [],
   "source": [
    "def mutil(n):\n",
    "    n=int(n)\n",
    "    for i in range(1,11):\n",
    "        print(i*n)"
   ]
  },
  {
   "cell_type": "code",
   "execution_count": 17,
   "metadata": {},
   "outputs": [
    {
     "name": "stdout",
     "output_type": "stream",
     "text": [
      "2\n",
      "4\n",
      "6\n",
      "8\n",
      "10\n",
      "12\n",
      "14\n",
      "16\n",
      "18\n",
      "20\n"
     ]
    }
   ],
   "source": [
    "mutil(2)"
   ]
  },
  {
   "cell_type": "markdown",
   "metadata": {},
   "source": [
    "# 14"
   ]
  },
  {
   "cell_type": "code",
   "execution_count": null,
   "metadata": {},
   "outputs": [],
   "source": [
    "s=0\n",
    "for i in range(3,200):\n",
    "    if i%3==0 or i%5==0:\n",
    "        s=s+i\n",
    "        print(i,end=\",\")    \n",
    "s"
   ]
  },
  {
   "cell_type": "markdown",
   "metadata": {},
   "source": [
    "# Exercice2\n",
    "## Chiffrement par décalage"
   ]
  },
  {
   "cell_type": "markdown",
   "metadata": {},
   "source": [
    "## 2.1 Partie 1:"
   ]
  },
  {
   "cell_type": "markdown",
   "metadata": {},
   "source": [
    "# 1 & 2"
   ]
  },
  {
   "cell_type": "code",
   "execution_count": 11,
   "metadata": {},
   "outputs": [],
   "source": [
    "dico={\"A\":0,\"B\":1,\"C\":2,\"D\":3,\"E\":4,\"F\":5,\"G\":6,\"H\":7,\"I\":8,\"J\":9,\"K\":10,\"L\":11,\"M\":12,\"N\":13,\"O\":14,\"P\":15,\"Q\":16,\"R\":17,\"S\":18,\"T\":19,\"U\":20,\"V\":21,\"W\":22,\"X\":23,\"Y\":24,\"Z\":25}\n",
    "dico_inv={0:\"A\",1:\"B\",2:\"C\",3:\"D\",4:\"E\",5:\"F\",6:\"G\",7:\"H\",8:\"I\",9:\"J\",10:\"K\",11:\"L\",12:\"M\",13:\"N\",14:\"O\",15:\"P\",16:\"Q\",17:\"R\",18:\"S\",19:\"T\",20:\"U\",21:\"V\",22:\"W\",23:\"X\",24:\"Y\",25:\"Z\"}"
   ]
  },
  {
   "cell_type": "code",
   "execution_count": 5,
   "metadata": {},
   "outputs": [],
   "source": [
    "#import string\n",
    "#for i in range(26):\n",
    "#    for j in string.ascii_uppercase:\n",
    "#        print(i=j)"
   ]
  },
  {
   "cell_type": "markdown",
   "metadata": {},
   "source": [
    "# 3"
   ]
  },
  {
   "cell_type": "markdown",
   "metadata": {},
   "source": [
    "# generer une clé de chiffrement"
   ]
  },
  {
   "cell_type": "code",
   "execution_count": 22,
   "metadata": {},
   "outputs": [
    {
     "name": "stdout",
     "output_type": "stream",
     "text": [
      "5\n"
     ]
    }
   ],
   "source": [
    "#from random import *\n",
    "import numpy\n",
    "k = random.randint(0, 25)\n",
    "# k peut être égal a 0 ou 25\n",
    "print(k)"
   ]
  },
  {
   "cell_type": "code",
   "execution_count": 23,
   "metadata": {},
   "outputs": [
    {
     "name": "stdout",
     "output_type": "stream",
     "text": [
      "saisir un message à crypter : yes\n",
      "Votre clef k= 5\n",
      "----------CHIFFRE----------\n",
      "DJX\n"
     ]
    }
   ],
   "source": [
    "import unidecode\n",
    "import string\n",
    "import random\n",
    "message=str(input(\"saisir un message à crypter : \"))\n",
    "message=unidecode.unidecode(message)\n",
    "caract_message=list(message.upper())\n",
    "for i in caract_message:\n",
    "    if i in string.ascii_uppercase:\n",
    "        i=list(i)\n",
    "# 4\n",
    "chiffre=[]\n",
    "#k=int(input(\"entrez une cle k : \"))\n",
    "#k=k%26\n",
    "#5 chiffrer\n",
    "#k=int(input(\"cle\"))\n",
    "print('Votre clef k= {}'.format(k))\n",
    "print('----------CHIFFRE----------')\n",
    "for i in caract_message:\n",
    "    c=(k+dico.get(i,i))%26\n",
    "    chiffre.append(list(dico.keys())[list(dico.values()).index(c)])\n",
    "print(\"\".join(chiffre))"
   ]
  },
  {
   "cell_type": "markdown",
   "metadata": {},
   "source": [
    "## 2.2 Partie 2:\n",
    "### Dechiffrement"
   ]
  },
  {
   "cell_type": "code",
   "execution_count": 17,
   "metadata": {},
   "outputs": [
    {
     "name": "stdout",
     "output_type": "stream",
     "text": [
      "entrez le message à déchiffrer : VFUK\n",
      "donnez la clé de 2\n",
      "TDSI\n"
     ]
    }
   ],
   "source": [
    "chiffer=str(input(\"entrez le message à déchiffrer : \"))\n",
    "k=int(input(\"donnez la clé de \"))\n",
    "caract_dechiffre=list(chiffer)\n",
    "dechiffre=[]\n",
    "for i in chiffer:\n",
    "    d=(dico.get(i,i)-k)%26\n",
    "    dechiffre.append(list(dico.keys())[list(dico.values()).index(d)])\n",
    "print(\"\".join(dechiffre))"
   ]
  },
  {
   "cell_type": "markdown",
   "metadata": {},
   "source": [
    "## Le chiffrement de  César Autrement"
   ]
  },
  {
   "cell_type": "code",
   "execution_count": 14,
   "metadata": {},
   "outputs": [],
   "source": [
    "#def chiffrement_cesar(message,k):\n",
    "#    chiffre=[]\n",
    "#    for i in message:\n",
    "#        nb=ord(i)-65\n",
    "#        nb_chiffre=(nb+k)%26\n",
    "#        lettre_chiffre=chr(nb_chiffre+65)\n",
    "#        chiffre=\"\".join(chiffre)\n",
    "#    return chiffre\n",
    "def cesar_chiffre_mot(mot,k):\n",
    "    message_code=[]                               #Liste vide\n",
    "    for lettre in mot:                            #Pour chaque lettre\n",
    "        nb = ord(lettre)-65                       #Lettre devient nb de 0 à 25\n",
    "        nb_crypte=(nb+k)%26                       #Chiffrement de César\n",
    "        lettre_crypte = chr(nb_crypte+65)         #Retour aux lettres\n",
    "        message_code.append(lettre_crypte)        #Ajoute lettre au message\n",
    "        message_code = \"\".join(message_code)      #Revient à chaine caractères\n",
    "    return(message_code)"
   ]
  },
  {
   "cell_type": "code",
   "execution_count": 16,
   "metadata": {},
   "outputs": [],
   "source": [
    "#cesar_chiffre_mot(\"TDSI\",4)"
   ]
  },
  {
   "cell_type": "markdown",
   "metadata": {},
   "source": [
    "# Exercice 3\n",
    "## recherche"
   ]
  },
  {
   "cell_type": "markdown",
   "metadata": {},
   "source": [
    "## Les opération sur les dictionnaires:\n",
    "```python\n",
    "del\n",
    "values\n",
    "```"
   ]
  },
  {
   "cell_type": "code",
   "execution_count": 57,
   "metadata": {},
   "outputs": [
    {
     "data": {
      "text/plain": [
       "({'A': 0, 'B': 1, 'C': 1}, {'A': 0, 'B': 1, 'R': 1})"
      ]
     },
     "execution_count": 57,
     "metadata": {},
     "output_type": "execute_result"
    }
   ],
   "source": [
    "dico1={\"A\":0,\"B\":1,\"C\":1}\n",
    "dico2={\"A\":0,\"B\":1,\"R\":1}\n",
    "dico1,dico2"
   ]
  },
  {
   "cell_type": "markdown",
   "metadata": {},
   "source": [
    "### merge de dictionnaire"
   ]
  },
  {
   "cell_type": "code",
   "execution_count": 50,
   "metadata": {},
   "outputs": [
    {
     "data": {
      "text/plain": [
       "['A', 'B', 'C', 'R']"
      ]
     },
     "execution_count": 50,
     "metadata": {},
     "output_type": "execute_result"
    }
   ],
   "source": [
    "list({**dico1,**dico2})"
   ]
  },
  {
   "cell_type": "code",
   "execution_count": 52,
   "metadata": {},
   "outputs": [
    {
     "data": {
      "text/plain": [
       "[(0, 1), (1, 2), (2, 3), (3, 6), (4, 8)]"
      ]
     },
     "execution_count": 52,
     "metadata": {},
     "output_type": "execute_result"
    }
   ],
   "source": [
    "list(enumerate([1,2,3,6,8]))\n"
   ]
  },
  {
   "cell_type": "code",
   "execution_count": 32,
   "metadata": {},
   "outputs": [],
   "source": [
    "chai=\"Khadim niass etudiant L3 TDSI\"\n",
    "for i in enumerate (chai):\n",
    "    if i==\"k\":\n",
    "        print(i)"
   ]
  }
 ],
 "metadata": {
  "kernelspec": {
   "display_name": "Python 3",
   "language": "python",
   "name": "python3"
  },
  "language_info": {
   "codemirror_mode": {
    "name": "ipython",
    "version": 3
   },
   "file_extension": ".py",
   "mimetype": "text/x-python",
   "name": "python",
   "nbconvert_exporter": "python",
   "pygments_lexer": "ipython3",
   "version": "3.7.4"
  }
 },
 "nbformat": 4,
 "nbformat_minor": 2
}
