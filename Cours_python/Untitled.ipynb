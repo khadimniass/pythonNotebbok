{
 "cells": [
  {
   "cell_type": "markdown",
   "metadata": {},
   "source": [
    "# Algorithme de ***Newton-Raphson*** pour  ***l'EMV*** de $\\alpha$ de la loi gamma\n",
    "\n",
    "$\\Gamma(x) := \\int^{\\infty}_{0} t^{x-1} e^{-t} \\mathrm{d}t$"
   ]
  },
  {
   "cell_type": "markdown",
   "metadata": {},
   "source": [
    "$\\psi(x) := \\frac{\\mathrm{d}}{\\mathrm{d} z} \\log\\Gamma(z)= \\frac{\\Gamma'(z)}{\\Gamma(z) }$"
   ]
  },
  {
   "cell_type": "code",
   "execution_count": 23,
   "metadata": {},
   "outputs": [],
   "source": [
    "import sympy # Le module sympy me donnera les fonctions gamma, digamma, log ...\n",
    "import math\n",
    "\n",
    "def derivate(f, x, dx=1e-6):\n",
    "    df = f(x + dx) - f(x - dx)\n",
    "    return df/(2*dx)\n",
    "\n",
    "def f(alpha, n, x_barre, sigmaLog_xi):\n",
    "    return (-n*sympy.digamma(alpha).evalf(5) - n*sympy.log((x_barre/alpha)).evalf(5) + sigmaLog_xi)\n",
    "\n",
    "def f_prime(alpha, n):\n",
    "    return (-n*(sympy.trigamma(alpha).evalf(5)) + n/alpha)\n",
    " \n",
    "def mme_alpha(X, x_barre):\n",
    "    sigma_xi_moins_x_barre_carree = 0\n",
    "    for i in range(len(X)):\n",
    "        sigma_xi_moins_x_barre_carree += (X[i] - x_barre)**2\n",
    "    return len(X)*x_barre*x_barre/sigma_xi_moins_x_barre_carree\n",
    "\n",
    "def EMV(X):\n",
    "    n = len(X)\n",
    "    sigma_log_xi = 0\n",
    "    x_barre = 0\n",
    "    for i in range(n):\n",
    "        sigma_log_xi += math.log(X[i])\n",
    "        x_barre += X[i]/n\n",
    "    alpha = mme_alpha(X, x_barre)\n",
    "    alpha = 6\n",
    "    i = 0\n",
    "    while abs(f(alpha, n, x_barre, sigma_log_xi)/f_prime(alpha, n)) >= 10e-6 and i<10:\n",
    "        i+=1\n",
    "        alpha = alpha - (f(alpha, n, x_barre, sigma_log_xi)/f_prime(alpha, n))\n",
    "    #print(f(alpha, n, x_barre, sigma_log_xi))\n",
    "    print(\"L'EMV de alpha est : \", alpha)\n",
    "    print(\"\\n\\n Voir l'EMV de Beta : (1) oui (0) Non\")\n",
    "    if int(input()) == 1:\n",
    "        print(\"L'EMV de alpha est : \", x_barre/alpha)\n",
    "    else:\n",
    "        print(\"Au-revoir\")"
   ]
  },
  {
   "cell_type": "code",
   "execution_count": 24,
   "metadata": {},
   "outputs": [
    {
     "name": "stdout",
     "output_type": "stream",
     "text": [
      "L'EMV de alpha est :  8.39018275969633\n",
      "\n",
      "\n",
      " Voir l'EMV de Beta : (1) oui (0) Non\n",
      "1\n",
      "L'EMV de alpha est :  6.19963372548545\n"
     ]
    }
   ],
   "source": [
    "X = [77.551, 45.195, 50.626, 39.878, 29.137, 57.321, 39.140, 66.776,\n",
    "    48.028, 42.325, 31.200, 38.632, 42.914, 60.969, 22.076, 52.446,\n",
    "    45.257, 42.626, 62.504, 22.684, 69.196, 42.383, 61.339, 45.803,\n",
    "    74.707, 33.048, 72.423, 43.670, 65.279, 42.714, 59.785, 101.742,\n",
    "    59.641, 44.749, 44.161, 58.488, 46.448, 25.280, 67.619, 66.846,\n",
    "    80.208, 98.492, 41.149, 40.395, 22.220, 34.628, 77.768, 48.161,\n",
    "    48.909, 66.267]\n",
    "\n",
    "EMV(X)"
   ]
  },
  {
   "cell_type": "code",
   "execution_count": 8,
   "metadata": {},
   "outputs": [],
   "source": [
    "import sympy\n",
    "import math\n",
    "import scipy"
   ]
  },
  {
   "cell_type": "code",
   "execution_count": 9,
   "metadata": {},
   "outputs": [
    {
     "data": {
      "text/latex": [
       "$\\displaystyle 0.28382$"
      ],
      "text/plain": [
       "0.28382"
      ]
     },
     "execution_count": 9,
     "metadata": {},
     "output_type": "execute_result"
    }
   ],
   "source": [
    "a = sympy.trigamma(4).evalf(5)\n",
    "a"
   ]
  },
  {
   "cell_type": "code",
   "execution_count": null,
   "metadata": {},
   "outputs": [],
   "source": [
    "import numpy as np\n",
    "n=np"
   ]
  }
 ],
 "metadata": {
  "kernelspec": {
   "display_name": "Python 3",
   "language": "python",
   "name": "python3"
  },
  "language_info": {
   "codemirror_mode": {
    "name": "ipython",
    "version": 3
   },
   "file_extension": ".py",
   "mimetype": "text/x-python",
   "name": "python",
   "nbconvert_exporter": "python",
   "pygments_lexer": "ipython3",
   "version": "3.7.4"
  }
 },
 "nbformat": 4,
 "nbformat_minor": 2
}
