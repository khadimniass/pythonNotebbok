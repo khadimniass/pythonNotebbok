{
 "cells": [
  {
   "cell_type": "code",
   "execution_count": 1,
   "metadata": {},
   "outputs": [],
   "source": [
    "import random\n",
    "from operator import xor\n",
    "import textwrap"
   ]
  },
  {
   "cell_type": "code",
   "execution_count": 2,
   "metadata": {},
   "outputs": [],
   "source": [
    "pc1=[57, 49, 41, 33, 25, 17, 9,1, 58, 50, 42, 34, 26, 18 ,10, 2, 59, 51, 43, 35, 27,19, 11, 3, 60, 52, 44, 36, 63, 55, 47, 39, 31, 23, 15,7, 62, 54, 46, 38, 30, 22, 14, 6, 61, 53, 45, 37, 29,21, 13, 5, 28, 20, 12, 4 ]\n",
    "\n",
    "permu_mess2=[40, 8, 48, 16, 56, 24, 64, 32,39, 7, 47, 15, 55, 23, 63, 31,38, 6, 46, 14, 54, 22, 62, 30,37, 5, 45, 13, 53, 21, 61, 29,36, 4, 44, 12, 52, 20, 60, 28,35, 3, 43, 11, 51, 19, 59, 27,34, 2, 42, 10, 50, 18, 58, 26,33, 1, 41, 9, 49, 17, 57, 25 ]\n",
    "\n",
    "perm=[58,50,42,34,26,18,10,2,60,52,44,36,28,20,12,4,62,54,46,38,30,22,14,6,64,56,48,40,32,24,16,8,57,49,41,33,25,17,9,1,59,51,43,35,27,19,11,3,61,53,45,37,29,21,13,5,63,55,47,39,31,23,15,7]\n",
    "\n",
    "perm_choice=[14,17,11,24,1,5,3,28,15,6,21,10,23,19,12,4,26,8,16,7,27,20,13,2,41,52,31,37,47,55,30,40,51,45,33,48,44,49,39,56,34,53,46,42,50,36,29,32]\n",
    "\n",
    "tab_left_shift= [1,1, 2, 2, 2, 2, 2, 2, 1, 2, 2, 2, 2, 2, 2, 1]\n",
    "\n",
    "p=[16,7,20, 21,29,12,28,17,1,15,23,26,5,18,31,10,2,8,24,14,32,27,3,9,19,13,30,6,22,11,4,25]\n",
    "\n",
    "E=[32,1,2,3,4,5,4,5,6,7,8,9,8,9,10,11,12,13,12,13,14,15,16,17,16,17,18,19,20,21,20,21,22,23,24,25,24,25,26,27,28,29,28,29,30,31,32,1]\n",
    "\n",
    "\n",
    "SBOX =[[[14, 4, 13, 1, 2, 15, 11, 8, 3, 10, 6, 12, 5, 9, 0, 7],\n",
    "             [0, 15, 7, 4, 14, 2, 13, 1, 10, 6, 12, 11, 9, 5, 3, 8],\n",
    "             [4, 1, 14, 8, 13, 6, 2, 11, 15, 12, 9, 7, 3, 10, 5, 0],\n",
    "             [15, 12, 8, 2, 4, 9, 1, 7, 5, 11, 3, 14, 10, 0, 6, 13]],\n",
    "[[15, 1, 8, 14, 6, 11, 3, 4, 9, 7, 2, 13, 12, 0, 5, 10],\n",
    "             [3, 13, 4, 7, 15, 2, 8, 14, 12, 0, 1, 10, 6, 9, 11, 5],\n",
    "             [0, 14, 7, 11, 10, 4, 13, 1, 5, 8, 12, 6, 9, 3, 2, 15],\n",
    "             [13, 8, 10, 1, 3, 15, 4, 2, 11, 6, 7, 12, 0, 5, 14, 9]],\n",
    "[[10, 0, 9, 14, 6, 3, 15, 5, 1, 13, 12, 7, 11, 4, 2, 8],\n",
    "             [13, 7, 0, 9, 3, 4, 6, 10, 2, 8, 5, 14, 12, 11, 15, 1],\n",
    "             [13, 6, 4, 9, 8, 15, 3, 0, 11, 1, 2, 12, 5, 10, 14, 7],\n",
    "             [1, 10, 13, 0, 6, 9, 8, 7, 4, 15, 14, 3, 11, 5, 2, 12]],\n",
    "[[7, 13, 14, 3, 0, 6, 9, 10, 1, 2, 8, 5, 11, 12, 4, 15],\n",
    "             [13, 8, 11, 5, 6, 15, 0, 3, 4, 7, 2, 12, 1, 10, 14, 9],\n",
    "             [10, 6, 9, 0, 12, 11, 7, 13, 15, 1, 3, 14, 5, 2, 8, 4],\n",
    "             [3, 15, 0, 6, 10, 1, 13, 8, 9, 4, 5, 11, 12, 7, 2, 14]],\n",
    "[[2, 12, 4, 1, 7, 10, 11, 6, 8, 5, 3, 15, 13, 0, 14, 9],\n",
    "             [14, 11, 2, 12, 4, 7, 13, 1, 5, 0, 15, 10, 3, 9, 8, 6],\n",
    "             [4, 2, 1, 11, 10, 13, 7, 8, 15, 9, 12, 5, 6, 3, 0, 14],\n",
    "             [11, 8, 12, 7, 1, 14, 2, 13, 6, 15, 0, 9, 10, 4, 5, 3]],\n",
    "[[12, 1, 10, 15, 9, 2, 6, 8, 0, 13, 3, 4, 14, 7, 5, 11],\n",
    "             [10, 15, 4, 2, 7, 12, 9, 5, 6, 1, 13, 14, 0, 11, 3, 8],\n",
    "             [9, 14, 15, 5, 2, 8, 12, 3, 7, 0, 4, 10, 1, 13, 11, 6],\n",
    "             [4, 3, 2, 12, 9, 5, 15, 10, 11, 14, 1, 7, 6, 0, 8, 13]],\n",
    "[[4, 11, 2, 14, 15, 0, 8, 13, 3, 12, 9, 7, 5, 10, 6, 1],\n",
    "             [13, 0, 11, 7, 4, 9, 1, 10, 14, 3, 5, 12, 2, 15, 8, 6],\n",
    "             [1, 4, 11, 13, 12, 3, 7, 14, 10, 15, 6, 8, 0, 5, 9, 2],\n",
    "             [6, 11, 13, 8, 1, 4, 10, 7, 9, 5, 0, 15, 14, 2, 3, 12]],\n",
    "[[13, 2, 8, 4, 6, 15, 11, 1, 10, 9, 3, 14, 5, 0, 12, 7],\n",
    "             [1, 15, 13, 8, 10, 3, 7, 4, 12, 5, 6, 11, 0, 14, 9, 2],\n",
    "             [7, 11, 4, 1, 9, 12, 14, 2, 0, 6, 10, 13, 15, 3, 5, 8],\n",
    "             [2, 1, 14, 7, 4, 10, 8, 13, 15, 12, 9, 0, 3, 5, 6, 11]]]\n",
    "\n",
    "INVERSE_PERMUTATION = ['40 ', '8 ', '48 ', '16 ', '56 ', '24 ', '64 ','32',\n",
    "                       '39 ', '7 ', '47 ', '15 ', '55 ', '23 ', '63 ', '31',\n",
    "                       '38 ', '6 ', '46 ', '14 ',  '54 ', '22 ', '62 ','30',\n",
    "                       '37 ', '5 ', '45 ', '13 ', '53 ', '21 ', '61 ', '29',\n",
    "                       '36 ', '4 ', '44 ', '12 ', '52 ', '20 ', '60 ', '28',\n",
    "                       '35 ', '3 ', '43 ', '11 ', '51 ', '19 ', '59 ', '27', \n",
    "                       '34 ', '2 ', '42 ', '10 ', '50 ', '18 ', '58 ', '26',\n",
    "                       '33 ', '1 ', '41 ', '9 ', '49 ', '17 ', '57 ', '25']\n",
    "\n",
    "HEX_to_Binary = {'0':'0000','1':'0001', '2':'0010', '3':'0011', '4':'0100', \n",
    "                 '5':'0101','6':'0110', '7':'0111','8':'1000', '9':'1001', \n",
    "                 'A':'1010','B':'1011','C':'1100','D':'1101', 'E':'1110', 'F':'1111',}\n"
   ]
  },
  {
   "cell_type": "markdown",
   "metadata": {},
   "source": [
    "Definition des sous_fonctions pour l'implementation de DES"
   ]
  },
  {
   "cell_type": "code",
   "execution_count": 3,
   "metadata": {},
   "outputs": [],
   "source": [
    "#conversion binaire decimal\n",
    "def conversionBinaire(binaire):\n",
    "    nombre=0;\n",
    "    longueur=len(binaire)\n",
    "    for i in range(0,longueur):\n",
    "        if(binaire[i] !=0 and binaire[i] !=1):\n",
    "            nombre=0;\n",
    "            break;\n",
    "        nombre+=binaire[longueur-1-i]*(2**i)\n",
    "    return nombre;\n",
    "\n",
    "def LeftShift(co,n):\n",
    "    n=n%len(co)\n",
    "    head=co[:n]\n",
    "    co[:n]=[]\n",
    "    co.extend(head)\n",
    "    return co\n",
    "\n",
    "def XOR(bits1,bits2):\n",
    "    xor_result = \"\"\n",
    "    for i in range(len(bits1)):\n",
    "        if bits1[i] == bits2[i]:\n",
    "            xor_result += '0'\n",
    "        else:\n",
    "            xor_result += '1'\n",
    "    return xor_result\n",
    "\n",
    "def permute_message(k):\n",
    "    tab_mess=[]\n",
    "    for i in pc1:\n",
    "        tab_mess.append(k[i-1])\n",
    "    return tab_mess\n",
    "\n",
    "def co_do(tab_mess):\n",
    "    co,do=tab_mess[:28],tab_mess[28:]\n",
    "    return co,do\n",
    "\n",
    "def perm_choice2(keys_56bits):\n",
    "    keys_48bits = []\n",
    "    for i in range(len(perm_choice)):\n",
    "        keys_48bits.append(keys_56bits[perm_choice[i]-1])\n",
    "    return keys_48bits"
   ]
  },
  {
   "cell_type": "markdown",
   "metadata": {},
   "source": [
    "## fonction d'expansion de la clef 32bits"
   ]
  },
  {
   "cell_type": "code",
   "execution_count": 4,
   "metadata": {},
   "outputs": [
    {
     "name": "stdout",
     "output_type": "stream",
     "text": [
      "Expansion clef:  011110100001010101010101011110100001010101010101\n"
     ]
    }
   ],
   "source": [
    "def Expansion(bits32):\n",
    "    bits48 = \"\"\n",
    "    for i in E:\n",
    "        bits48 += bits32[i-1]\n",
    "    return bits48\n",
    "#exemple\n",
    "bits32 = '11110000101010101111000010101010'\n",
    "result_48 = Expansion(bits32)\n",
    "print (\"Expansion clef: \",result_48)"
   ]
  },
  {
   "cell_type": "markdown",
   "metadata": {},
   "source": [
    "## separation en bloc de 6 "
   ]
  },
  {
   "cell_type": "code",
   "execution_count": 5,
   "metadata": {},
   "outputs": [],
   "source": [
    "def separer_en_6bits(XOR_48bits):\n",
    "    list_of_6bits = textwrap.wrap(XOR_48bits,6)\n",
    "    return list_of_6bits"
   ]
  },
  {
   "cell_type": "markdown",
   "metadata": {},
   "source": [
    "## recuperation du Premier et Dernier bits et les 4 bits du Milieu"
   ]
  },
  {
   "cell_type": "code",
   "execution_count": 6,
   "metadata": {},
   "outputs": [],
   "source": [
    " def premier_dernier_bits(bits6):\n",
    "    twobits = bits6[0] + bits6[-1] \n",
    "    return twobits\n",
    "\n",
    "def middle(bits6):\n",
    "    fourbits = bits6[1:5] \n",
    "    return fourbits"
   ]
  },
  {
   "cell_type": "markdown",
   "metadata": {},
   "source": [
    "## Conversion binaire - decimal et decimal - binaire"
   ]
  },
  {
   "cell_type": "code",
   "execution_count": 7,
   "metadata": {},
   "outputs": [],
   "source": [
    "\n",
    "def binary_to_decimal(binarybits):\n",
    "    decimal = int(binarybits,2)\n",
    "    return decimal\n",
    "\n",
    "def decimal_to_binary(decimal):\n",
    "    table_conver_binaire=((6-len(bin(decimal)))*'0'+bin(decimal)[2:])\n",
    "    return table_conver_binaire"
   ]
  },
  {
   "cell_type": "markdown",
   "metadata": {},
   "source": [
    "## sbox et somme binaire"
   ]
  },
  {
   "cell_type": "code",
   "execution_count": 8,
   "metadata": {},
   "outputs": [],
   "source": [
    "def sbox(nb,f_l,mid):\n",
    "    p_d = binary_to_decimal(f_l)\n",
    "    midd = binary_to_decimal(mid)\n",
    "    result= SBOX[nb][p_d][midd]\n",
    "    return decimal_to_binary(result)\n",
    "\n",
    "def som(b1,b2):\n",
    "    xor_result = \"\"\n",
    "    for i in range(len(b1)):\n",
    "        if b1[i] == b2[i]: \n",
    "            xor_result += '0'\n",
    "        else:\n",
    "            xor_result += '1'\n",
    "    return xor_result"
   ]
  },
  {
   "cell_type": "code",
   "execution_count": 9,
   "metadata": {},
   "outputs": [],
   "source": [
    "def Permutation(sbox_result):\n",
    "    final_32bits = \"\"\n",
    "    for i in p:\n",
    "        final_32bits += sbox_result[i-1]\n",
    "    return final_32bits\n",
    "\n",
    "def fonction_F(r, k):\t\n",
    "    result = \"\"\n",
    "    expan = Expansion(r)\n",
    "    xor_result = som(expan,k)\n",
    "    bloc_6 = separer_en_6bits(xor_result)\n",
    "    for nb, i in enumerate(bloc_6):\n",
    "        first_last = premier_dernier_bits(i)\n",
    "        middle4 = middle(i)\n",
    "        sboxvalue = sbox(nb,first_last,middle4)\n",
    "        result += sboxvalue\n",
    "    final32bits = Permutation(result)\t\n",
    "    return final32bits"
   ]
  },
  {
   "cell_type": "markdown",
   "metadata": {},
   "source": [
    "## conversion hexadecimal-binaire"
   ]
  },
  {
   "cell_type": "code",
   "execution_count": 10,
   "metadata": {},
   "outputs": [],
   "source": [
    "def hexa_binair(hex):\n",
    "    binaire = \"\"\n",
    "    for hexdigit in hex:\n",
    "        binaire += bin(int(hex,16))[2:].zfill(4)\n",
    "    return binaire"
   ]
  },
  {
   "cell_type": "markdown",
   "metadata": {},
   "source": [
    "## fonction left shift "
   ]
  },
  {
   "cell_type": "code",
   "execution_count": 11,
   "metadata": {},
   "outputs": [],
   "source": [
    "def spliHalf(binarybits):\n",
    "    return binarybits[:32],binarybits[32:]"
   ]
  },
  {
   "cell_type": "code",
   "execution_count": 12,
   "metadata": {},
   "outputs": [],
   "source": [
    "def permut_mess(m):\n",
    "    permutated_M = \"\"\n",
    "    for i in perm:\n",
    "        permutated_M += m[int(i)-1]\n",
    "    return permutated_M\n",
    "\n",
    "def permut_inv(ROUND_OUT):\n",
    "    cipher = \"\"\n",
    "    for i in INVERSE_PERMUTATION:\n",
    "        cipher += ROUND_OUT[int(i)-1]\n",
    "    return cipher"
   ]
  },
  {
   "cell_type": "markdown",
   "metadata": {},
   "source": [
    "## generation des clefs"
   ]
  },
  {
   "cell_type": "code",
   "execution_count": 13,
   "metadata": {},
   "outputs": [
    {
     "name": "stdout",
     "output_type": "stream",
     "text": [
      "[0, 0, 1, 1, 1, 0, 1, 1, 1, 0, 0, 1, 1, 1, 0, 1, 1, 1, 0, 1, 1, 0, 1, 0, 0, 0, 1, 0, 1, 0, 0, 1, 0, 1, 1, 1, 1, 0, 1, 1, 0, 1, 1, 1, 0, 0, 0, 1, 1, 0, 0, 1, 0, 0, 1, 1, 1, 1, 0, 1, 0, 0, 0, 0]\n"
     ]
    }
   ],
   "source": [
    "import random\n",
    "def genkey_system():\n",
    "     clef=([(random.randint(0,1)) for i in range(64)])    \n",
    "     return clef\n",
    "print(genkey_system())"
   ]
  },
  {
   "cell_type": "code",
   "execution_count": null,
   "metadata": {},
   "outputs": [],
   "source": []
  }
 ],
 "metadata": {
  "kernelspec": {
   "display_name": "Python 3",
   "language": "python",
   "name": "python3"
  },
  "language_info": {
   "codemirror_mode": {
    "name": "ipython",
    "version": 3
   },
   "file_extension": ".py",
   "mimetype": "text/x-python",
   "name": "python",
   "nbconvert_exporter": "python",
   "pygments_lexer": "ipython3",
   "version": "3.7.6"
  }
 },
 "nbformat": 4,
 "nbformat_minor": 2
}
