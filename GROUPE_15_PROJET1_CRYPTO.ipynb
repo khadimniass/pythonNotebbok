{
 "cells": [
  {
   "cell_type": "markdown",
   "metadata": {},
   "source": [
    "# Projet 1 de Cryptographie"
   ]
  },
  {
   "cell_type": "markdown",
   "metadata": {},
   "source": [
    "# Les participants:\n",
    "## Khadim Niass\n",
    "## Yacine Samb"
   ]
  },
  {
   "cell_type": "markdown",
   "metadata": {},
   "source": [
    "# Partie 1"
   ]
  },
  {
   "cell_type": "markdown",
   "metadata": {},
   "source": [
    "## Les importation"
   ]
  },
  {
   "cell_type": "code",
   "execution_count": 7,
   "metadata": {},
   "outputs": [],
   "source": [
    "import random\n",
    "import string \n",
    "import unidecode"
   ]
  },
  {
   "cell_type": "markdown",
   "metadata": {},
   "source": [
    "# decalage"
   ]
  },
  {
   "cell_type": "code",
   "execution_count": 17,
   "metadata": {},
   "outputs": [],
   "source": [
    "dico={\"A\":0,\"B\":1,\"C\":2,\"D\":3,\"E\":4,\"F\":5,\"G\":6,\"H\":7,\"I\":8,\"J\":9,\"K\":10,\"L\":11,\"M\":12,\"N\":13,\"O\":14,\"P\":15,\"Q\":16,\"R\":17,\"S\":18,\"T\":19,\"U\":20,\"V\":21,\"W\":22,\"X\":23,\"Y\":24,\"Z\":25}"
   ]
  },
  {
   "cell_type": "code",
   "execution_count": 11,
   "metadata": {},
   "outputs": [
    {
     "data": {
      "text/plain": [
       "6"
      ]
     },
     "execution_count": 11,
     "metadata": {},
     "output_type": "execute_result"
    }
   ],
   "source": [
    "def genkey_decalage():   \n",
    "    k=random.randint(0,25)\n",
    "    return k\n",
    "genkey_decalage()"
   ]
  },
  {
   "cell_type": "code",
   "execution_count": 47,
   "metadata": {},
   "outputs": [
    {
     "name": "stdout",
     "output_type": "stream",
     "text": [
      "--------------Chiffré--------------\n",
      "Le message est chiffré avec la clé k= 22\n"
     ]
    },
    {
     "data": {
      "text/plain": [
       "'UAOJK'"
      ]
     },
     "execution_count": 47,
     "metadata": {},
     "output_type": "execute_result"
    }
   ],
   "source": [
    "def cipher_decalage(message_decalage):\n",
    "    k_deca=genkey_decalage()\n",
    "    message_decalage=str(message_decalage)\n",
    "    message_decalage=message_decalage.replace(\" \",\"\")\n",
    "    message_decalage=unidecode.unidecode(message_decalage)\n",
    "    caract_message_decalage=list(message_decalage.upper())\n",
    "    chiffre_decalage=[]\n",
    "    print(\"--------------Chiffré--------------\")\n",
    "    for i in caract_message_decalage:\n",
    "        c=(k_deca+dico.get(i,i))%26\n",
    "        chiffre_decalage.append(list(dico.keys())[list(dico.values()).index(c)])\n",
    "    chiffre_decalage=\"\".join(chiffre_decalage)\n",
    "    print(\"Le message est chiffré avec la clé k= {}\".format(k_deca))\n",
    "    return chiffre_decalage\n",
    "cipher_decalage(\"yes no\")"
   ]
  },
  {
   "cell_type": "code",
   "execution_count": null,
   "metadata": {},
   "outputs": [],
   "source": []
  },
  {
   "cell_type": "code",
   "execution_count": 249,
   "metadata": {},
   "outputs": [
    {
     "name": "stdout",
     "output_type": "stream",
     "text": [
      "Le message a été chiffré avec la cle k = 4 :\n"
     ]
    },
    {
     "data": {
      "text/plain": [
       "'UAO'"
      ]
     },
     "execution_count": 249,
     "metadata": {},
     "output_type": "execute_result"
    }
   ],
   "source": [
    "def decipher_decalage(k_deca,message_decalage):\n",
    "    message_decalage=str(message_decalage)\n",
    "    message_decalage=message_decalage.replace(\" \",\"\")\n",
    "    message_decalage=unidecode.unidecode(message_decalage)\n",
    "    caract_message_decalage=list(message_decalage.upper())\n",
    "    chiffre_decalage=[]\n",
    "    for i in caract_message_decalage:\n",
    "        c=(dico.get(i,i)-k_deca)%26\n",
    "        chiffre_decalage.append(list(dico.keys())[list(dico.values()).index(c)])\n",
    "    chiffre_decalage=\"\".join(chiffre_decalage)\n",
    "    print(\"Le message a été chiffré avec la cle k = {} :\".format(k_deca))\n",
    "    return chiffre_decalage\n",
    "decipher_decalage(4,\"YES\")"
   ]
  },
  {
   "cell_type": "code",
   "execution_count": 265,
   "metadata": {},
   "outputs": [
    {
     "name": "stdout",
     "output_type": "stream",
     "text": [
      "entrez le message :::-)dgbvcà\n",
      "--------------Chiffré--------------\n",
      "Le message est chiffré avec la clé k= 20\n"
     ]
    },
    {
     "data": {
      "text/plain": [
       "'XAVPWU'"
      ]
     },
     "execution_count": 265,
     "metadata": {},
     "output_type": "execute_result"
    }
   ],
   "source": [
    "messa=str(input(\"entrez le message :::-)\"))\n",
    "cipher_decalage(genkey_decalage(),messa)"
   ]
  },
  {
   "cell_type": "markdown",
   "metadata": {},
   "source": [
    "### Cryptanalyse"
   ]
  },
  {
   "cell_type": "code",
   "execution_count": 94,
   "metadata": {},
   "outputs": [],
   "source": [
    "def attaque_decalage(crypt):\n",
    "    crypt=str(crypt)\n",
    "#    crypt=list(crypt.upper())\n",
    "    for ke in range(26):\n",
    "        print(decipher_decalage(ke,crypt))"
   ]
  },
  {
   "cell_type": "code",
   "execution_count": 138,
   "metadata": {},
   "outputs": [
    {
     "name": "stdout",
     "output_type": "stream",
     "text": [
      "--------------Chiffré--------------\n",
      "Le message est chiffré avec la clé k= 0\n"
     ]
    },
    {
     "data": {
      "text/plain": [
       "'NON'"
      ]
     },
     "execution_count": 138,
     "metadata": {},
     "output_type": "execute_result"
    }
   ],
   "source": [
    "cipher_decalage(genkey_decalage(),\"non\")"
   ]
  },
  {
   "cell_type": "code",
   "execution_count": 144,
   "metadata": {},
   "outputs": [
    {
     "name": "stdout",
     "output_type": "stream",
     "text": [
      "Le message a été chiffré avec la cle k = 8 :\n"
     ]
    },
    {
     "data": {
      "text/plain": [
       "'QWK'"
      ]
     },
     "execution_count": 144,
     "metadata": {},
     "output_type": "execute_result"
    }
   ],
   "source": [
    "decipher_decalage(genkey_decalage(),\"yes\")"
   ]
  },
  {
   "cell_type": "markdown",
   "metadata": {},
   "source": [
    "# -------------------------------------------------------------------------------------------------------------#"
   ]
  },
  {
   "cell_type": "markdown",
   "metadata": {},
   "source": [
    "# cesar"
   ]
  },
  {
   "cell_type": "markdown",
   "metadata": {},
   "source": [
    "## Affine"
   ]
  },
  {
   "cell_type": "markdown",
   "metadata": {},
   "source": [
    "### genkey_affine"
   ]
  },
  {
   "cell_type": "markdown",
   "metadata": {},
   "source": [
    "#### pgcd de deux nombres"
   ]
  },
  {
   "cell_type": "code",
   "execution_count": 1,
   "metadata": {},
   "outputs": [],
   "source": [
    "def pgcd(a,b):\n",
    "    if b==0:\n",
    "        return a\n",
    "    else:\n",
    "        r=a%b\n",
    "        return pgcd(b,r)"
   ]
  },
  {
   "cell_type": "code",
   "execution_count": 8,
   "metadata": {},
   "outputs": [
    {
     "data": {
      "text/plain": [
       "6"
      ]
     },
     "execution_count": 8,
     "metadata": {},
     "output_type": "execute_result"
    }
   ],
   "source": [
    "14%8"
   ]
  },
  {
   "cell_type": "code",
   "execution_count": 9,
   "metadata": {},
   "outputs": [
    {
     "data": {
      "text/plain": [
       "2"
      ]
     },
     "execution_count": 9,
     "metadata": {},
     "output_type": "execute_result"
    }
   ],
   "source": [
    "8%6"
   ]
  },
  {
   "cell_type": "code",
   "execution_count": 10,
   "metadata": {},
   "outputs": [
    {
     "data": {
      "text/plain": [
       "0"
      ]
     },
     "execution_count": 10,
     "metadata": {},
     "output_type": "execute_result"
    }
   ],
   "source": [
    "6%2"
   ]
  },
  {
   "cell_type": "code",
   "execution_count": 11,
   "metadata": {},
   "outputs": [
    {
     "data": {
      "text/plain": [
       "2"
      ]
     },
     "execution_count": 11,
     "metadata": {},
     "output_type": "execute_result"
    }
   ],
   "source": [
    "pgcd(14,8)"
   ]
  },
  {
   "cell_type": "code",
   "execution_count": 155,
   "metadata": {},
   "outputs": [
    {
     "name": "stdout",
     "output_type": "stream",
     "text": [
      "[1, 3, 5, 7, 9, 11, 15, 17, 19, 21, 23, 25]\n"
     ]
    },
    {
     "data": {
      "text/plain": [
       "12"
      ]
     },
     "execution_count": 155,
     "metadata": {},
     "output_type": "execute_result"
    }
   ],
   "source": [
    "espace_key_k1=[i for i in range(26) if pgcd(i,26)==1]\n",
    "print(espace_key_k1)\n",
    "len(espace_key_k1)"
   ]
  },
  {
   "cell_type": "code",
   "execution_count": null,
   "metadata": {},
   "outputs": [],
   "source": [
    "[j ]"
   ]
  },
  {
   "cell_type": "code",
   "execution_count": 562,
   "metadata": {},
   "outputs": [
    {
     "data": {
      "text/plain": [
       "(5, 24)"
      ]
     },
     "execution_count": 562,
     "metadata": {},
     "output_type": "execute_result"
    }
   ],
   "source": [
    "def genkey_affine():\n",
    "    k1=random.choice(espace_key_k1)\n",
    "    #generation de k2\n",
    "    k2=random.randint(1,25)\n",
    "    #print(\"(k1,k2)=({},{})\".format(k1,k2))\n",
    "    return (k1,k2)\n",
    "genkey_affine()"
   ]
  },
  {
   "cell_type": "markdown",
   "metadata": {},
   "source": [
    "## cipher_affine()"
   ]
  },
  {
   "cell_type": "code",
   "execution_count": 529,
   "metadata": {},
   "outputs": [],
   "source": [
    "def cipher_affine(k1,k2,message_affine):\n",
    "    message_affine=message_affine.replace(\" \",\"\")\n",
    "    message_affine=str(message_affine)\n",
    "    message_affine=unidecode.unidecode(message_affine)\n",
    "    caract_message_affine=list(message_affine.upper())\n",
    "    ciffre_affine=[]\n",
    "    print('----------CHIFFRE----------')\n",
    "    for i in caract_message_affine:\n",
    "        c=(k1*dico.get(i,i)+k2)%26\n",
    "        ciffre_affine.append(list(dico.keys())[list(dico.values()).index(c)])\n",
    "    ciffre_affine=\"\".join(ciffre_affine)\n",
    "    print(\"Le message est chiffré avec les clés (k1={},k2={}):\".format(k1,k2))\n",
    "    return ciffre_affine\n"
   ]
  },
  {
   "cell_type": "code",
   "execution_count": 547,
   "metadata": {},
   "outputs": [],
   "source": [
    "key1,key2=genkey_affine()"
   ]
  },
  {
   "cell_type": "code",
   "execution_count": 548,
   "metadata": {},
   "outputs": [
    {
     "name": "stdout",
     "output_type": "stream",
     "text": [
      "----------CHIFFRE----------\n",
      "Le message est chiffré avec les clés (k1=25,k2=3):\n"
     ]
    },
    {
     "data": {
      "text/plain": [
       "'QLD'"
      ]
     },
     "execution_count": 548,
     "metadata": {},
     "output_type": "execute_result"
    }
   ],
   "source": [
    "cipher_affine(key1,key2,\"nsa\")"
   ]
  },
  {
   "cell_type": "markdown",
   "metadata": {},
   "source": [
    "## dechipher_affine"
   ]
  },
  {
   "cell_type": "code",
   "execution_count": 1,
   "metadata": {
    "scrolled": true
   },
   "outputs": [
    {
     "ename": "NameError",
     "evalue": "name 'spaceKey1' is not defined",
     "output_type": "error",
     "traceback": [
      "\u001b[1;31m---------------------------------------------------------------------------\u001b[0m",
      "\u001b[1;31mNameError\u001b[0m                                 Traceback (most recent call last)",
      "\u001b[1;32m<ipython-input-1-5affb28288cf>\u001b[0m in \u001b[0;36m<module>\u001b[1;34m\u001b[0m\n\u001b[1;32m----> 1\u001b[1;33m \u001b[0minvk1\u001b[0m\u001b[1;33m=\u001b[0m\u001b[1;33m[\u001b[0m\u001b[0mi\u001b[0m \u001b[1;32mfor\u001b[0m \u001b[0mi\u001b[0m \u001b[1;32min\u001b[0m \u001b[0mspaceKey1\u001b[0m \u001b[1;32mif\u001b[0m \u001b[0mkey1\u001b[0m\u001b[1;33m*\u001b[0m\u001b[0mi\u001b[0m\u001b[1;33m%\u001b[0m\u001b[1;36m26\u001b[0m\u001b[1;33m==\u001b[0m\u001b[1;36m1\u001b[0m\u001b[1;33m]\u001b[0m\u001b[1;33m\u001b[0m\u001b[1;33m\u001b[0m\u001b[0m\n\u001b[0m\u001b[0;32m      2\u001b[0m \u001b[0minvk1\u001b[0m\u001b[1;33m\u001b[0m\u001b[1;33m\u001b[0m\u001b[0m\n",
      "\u001b[1;31mNameError\u001b[0m: name 'spaceKey1' is not defined"
     ]
    }
   ],
   "source": [
    "invk1=[i for i in spaceKey1 if key1*i%26==1]\n",
    "invk1"
   ]
  },
  {
   "cell_type": "code",
   "execution_count": 229,
   "metadata": {},
   "outputs": [
    {
     "name": "stdout",
     "output_type": "stream",
     "text": [
      "----------MESSAGE EN CLAIR----------\n",
      "\n",
      "le message a été chiffré avec les clé : (k1=9,k2=11)\n"
     ]
    },
    {
     "data": {
      "text/plain": [
       "'YNL'"
      ]
     },
     "execution_count": 229,
     "metadata": {},
     "output_type": "execute_result"
    }
   ],
   "source": [
    "import unidecode\n",
    "import string\n",
    "import random\n",
    "def decipher_affine(invk1,k2,chiffre_affine):\n",
    "    caract_chiffre_affine=list(chiffre_affine.upper())\n",
    "    message_affine=[]\n",
    "#    caract_chiffre_affine=list(upe)\n",
    "    print('----------MESSAGE EN CLAIR----------\\n')\n",
    "    for i in caract_chiffre_affine:\n",
    "        m=(invk1*(dico.get(i,i)-k2))%26\n",
    "        message_affine.append(list(dico.keys())[list(dico.values()).index(m)])\n",
    "    message_affine=\"\".join(chiffre_affine)\n",
    "    print(\"le message a été chiffré avec les clé : (k1={},k2={})\".format(invk1,k2))\n",
    "    return message_affine\n",
    "decipher_affine(9,11,\"YNL\")"
   ]
  },
  {
   "cell_type": "markdown",
   "metadata": {},
   "source": [
    "# -------------------------------------------------------------------------------------------------------------#"
   ]
  },
  {
   "cell_type": "markdown",
   "metadata": {},
   "source": [
    "# Permutation"
   ]
  },
  {
   "cell_type": "markdown",
   "metadata": {},
   "source": [
    "## la clé "
   ]
  },
  {
   "cell_type": "code",
   "execution_count": 592,
   "metadata": {},
   "outputs": [
    {
     "name": "stdout",
     "output_type": "stream",
     "text": [
      "['O', 'Y', 'U', 'S', 'V', 'L', 'I', 'R', 'E', 'C', 'F', 'T', 'X', 'W', 'G', 'A', 'N', 'H', 'D', 'K', 'Q', 'B', 'Z', 'M', 'J', 'P']\n"
     ]
    }
   ],
   "source": [
    "import random\n",
    "alphabet=\"ABCDEFGHIJKLMNOPQRSTUVWXYZ\"\n",
    "alphabet=list(alphabet)\n",
    "random.shuffle(alphabet)\n",
    "print(alphabet)"
   ]
  },
  {
   "cell_type": "code",
   "execution_count": 598,
   "metadata": {},
   "outputs": [],
   "source": [
    "def genkey_permutation():\n",
    "    alphabet=\"ABCDEFGHIJKLMNOPQRSTUVWXYZ\"\n",
    "    alphabet=list(alphabet)\n",
    "    random.shuffle(alphabet)\n",
    "    return alphabet"
   ]
  },
  {
   "cell_type": "markdown",
   "metadata": {},
   "source": [
    "# chiper permutation"
   ]
  },
  {
   "cell_type": "code",
   "execution_count": 599,
   "metadata": {},
   "outputs": [
    {
     "name": "stdout",
     "output_type": "stream",
     "text": [
      "{'A': 'O', 'B': 'Y', 'C': 'U', 'D': 'S', 'E': 'V', 'F': 'L', 'G': 'I', 'H': 'R', 'I': 'E', 'J': 'C', 'K': 'F', 'L': 'T', 'M': 'X', 'N': 'W', 'O': 'G', 'P': 'A', 'Q': 'N', 'R': 'H', 'S': 'D', 'T': 'K', 'U': 'Q', 'V': 'B', 'W': 'Z', 'X': 'M', 'Y': 'J', 'Z': 'P'}\n"
     ]
    }
   ],
   "source": [
    "dico2=dico.copy()\n",
    "for i,j in enumerate(dico2.keys()):\n",
    "    dico2[j]=alphabet[i]\n",
    "print(dico2)"
   ]
  },
  {
   "cell_type": "markdown",
   "metadata": {},
   "source": [
    "# cipher "
   ]
  },
  {
   "cell_type": "code",
   "execution_count": 528,
   "metadata": {},
   "outputs": [
    {
     "data": {
      "text/plain": [
       "'CCC'"
      ]
     },
     "execution_count": 528,
     "metadata": {},
     "output_type": "execute_result"
    }
   ],
   "source": [
    "def cipher_substituion(message_sub):\n",
    "    message_sub=str(message_sub.upper())\n",
    "    message_sub=unidecode.unidecode(message_sub)\n",
    "    caract_message_sub=list(message_sub)\n",
    "    chiffre_substitution=[]\n",
    "    for letter in caract_message_sub:\n",
    "        chiffre_substitution.append(dico2[letter])\n",
    "    chiffre_substitution=\"\".join(chiffre_substitution)\n",
    "    return chiffre_substitution\n",
    "cipher_substituion(\"aaa\")"
   ]
  },
  {
   "cell_type": "code",
   "execution_count": 501,
   "metadata": {},
   "outputs": [
    {
     "name": "stdout",
     "output_type": "stream",
     "text": [
      "{'A': 'G', 'B': 'D', 'C': 'X', 'D': 'L', 'E': 'P', 'F': 'N', 'G': 'B', 'H': 'S', 'I': 'K', 'J': 'W', 'K': 'O', 'L': 'H', 'M': 'Y', 'N': 'C', 'O': 'I', 'P': 'U', 'Q': 'Z', 'R': 'Q', 'S': 'E', 'T': 'F', 'U': 'J', 'V': 'R', 'W': 'M', 'X': 'V', 'Y': 'T', 'Z': 'A'}\n"
     ]
    }
   ],
   "source": [
    "dico2=dico.copy()\n",
    "for i,j in enumerate(dico2.keys()):\n",
    "    dico2[j]=alphabet[i]\n",
    "print(dico2)"
   ]
  },
  {
   "cell_type": "markdown",
   "metadata": {},
   "source": [
    "# decipher"
   ]
  },
  {
   "cell_type": "code",
   "execution_count": 515,
   "metadata": {},
   "outputs": [],
   "source": [
    "def decipher_substitution(ciphe_sub):\n",
    "    ciphe_sub=str(ciphe_sub)\n",
    "    ciphe_sub=unidecode.unidecode(ciphe_sub)\n",
    "    caract_ciphe_sub=list(ciphe_sub)\n",
    "    message_deciphe_sub=[]\n",
    "    for l in caract_ciphe_sub:\n",
    "        message_deciphe_sub.append(dico2[l])\n",
    "    message_deciphe_sub=\"\".join(message_deciphe_sub)\n",
    "    return message_deciphe_sub"
   ]
  },
  {
   "cell_type": "markdown",
   "metadata": {},
   "source": [
    "# vigener"
   ]
  },
  {
   "cell_type": "markdown",
   "metadata": {},
   "source": [
    "## generation de cle"
   ]
  },
  {
   "cell_type": "code",
   "execution_count": 528,
   "metadata": {},
   "outputs": [],
   "source": [
    "def genkey_vigenere(kvige):\n",
    "    key_kvige=(random.randint(2,kvige) if kvige<=4 else random.randint(2,int(kvige/2)))\n",
    "    key=[random.randint(0,25) for i in range(0,key_kvige)]\n",
    "    key=random.shuffle(key)\n",
    "    return key"
   ]
  },
  {
   "cell_type": "code",
   "execution_count": 518,
   "metadata": {},
   "outputs": [],
   "source": [
    "def cipher_vigener(messag_vige,k_vige):\n",
    "    L=len(k_vige)\n",
    "    messag_vige=str(messag_vige)\n",
    "    messag_vige=unidecode.unidecode(messag_vige)\n",
    "    messag_vige=messag_vige.replace(\" \",\"\")\n",
    "    car_message_vige=list(message_vge)\n",
    "    chiffre_vige=[]\n",
    "    c_vige=[]\n",
    "    d=0\n",
    "    for let in car_message_vige:\n",
    "        chiffre_vige=(dict.get(let,let)+k_vige[d%L])%26\n",
    "        d+=1\n",
    "        c_vige.append(dict.keys(chiffre_vige))"
   ]
  },
  {
   "cell_type": "markdown",
   "metadata": {},
   "source": [
    "# Partie 2"
   ]
  },
  {
   "cell_type": "code",
   "execution_count": 502,
   "metadata": {},
   "outputs": [],
   "source": [
    "M=\"\"\"DKR XKPGWKR MPIKUPKR WJPRIMIQKPI QP ZKR HDQR VUJR UMRSQKR HJQU\n",
    "IJQIKR DKR JUVGPMRGIMJPR N WJXHUMR WKDDKR GQ RKPKVGD DKR KXHDJNKR ZKR JUVGPMRGIMJPR GNGPI GWWKR GQY RNRIKXKR KI GQY ZJPPKKR WUMIMSQKR RJPI KQYXKXKR QPK XKPGWK WGU HJQAGPI WGQRKU ZKR\n",
    "ZJXXGVKR BMPGPWMKUR KI ZKR ZJXXGVKR G DG UKHQIGIMJP G IUGAKUR DK\n",
    "AJD ZK ZJPPKKR RKPRMODKR WKR KXHDJNKR HKQAKPI KVGDKXKPI QIMDMRKU DKQU WJPPGMRRGPWK ZK DJUVGPMRGIMJP ZGPR DK OQI ZK HKUXKIIUK JQ ZK HKUHKIUKU QPK GIIGSQK AMRGPI G HKUIQUOKU DK OJP BJPWIMJPPKXKPI ZK DKQU JUVGPMRGIMJP JQIUK WKR GWIKR ZKDMOKUKR DKR\n",
    "KXHDJNKR HKQAKPI WGQRKU ZKR ZJXXGVKR HGU MPGZAKUIGPWK ZQ BGMI\n",
    "ZK DKQU MVPJUGPWK ZKR HUJWKZQUKR ZK RKWQUMIK ZK DJUVGPMRGIMJP\n",
    "PJIGXXKPI HGU DK IKDKWFGUVKXKPI ZKR WJPIKPQR PJP RQUR DQRGVK ZK\n",
    "HKUMHFKUMSQKR MPBKWIKR JQ KP JQAUGPI ZQ WJQUUMKD ZFGXKWJPPGVK\n",
    "WKR KXHDJNKR HKQAKPI KVGDKXKPI ZKAKPMU ZKR AMWIMXKR ZGWIKR\n",
    "ZMPVKPMKUMK RJWMGDK G IUGAKUR DKRSQKDR MDR ZJPPKPI GDJUR HGU\n",
    "MVPJUGPWK GWWKR G DKQUR UKRKGQY JQ KYKWQIKPI ZKR MPRIUQWIMJPR\n",
    "GQY GHHGUKPWKR MPJBBKPRMAKR XGMR HUJBMIGPI GQY WNOKUWUMXMPKDR G WKI KVGUZ DG HUKRMZKPWK ZK DG UKHQODMSQK GVMRRGPI HGU\n",
    "DMPIKUXKZMGMUK ZK DG WJXXMRRMJP PGIMJPGDK ZK WUNHIJDJVMK WPW G\n",
    "HUMR DKR ZKAGPIR KI G HUKRWUMI ZKR XKRQUKR ZKIGMDDKKR UKDGIMAKR\n",
    "G DG HJDMIMSQK ZK RKWQUMIK ZKR RNRIKXKR ZMPBJUXGIMJP ZK DKIGI ZQ\n",
    "RKPKVGD HRRMKR\"\"\"\n",
    "l=len(M)"
   ]
  },
  {
   "cell_type": "code",
   "execution_count": 503,
   "metadata": {},
   "outputs": [],
   "source": [
    "M=M.replace(\"\\n\",\"-------\")"
   ]
  },
  {
   "cell_type": "code",
   "execution_count": 511,
   "metadata": {},
   "outputs": [
    {
     "name": "stdout",
     "output_type": "stream",
     "text": [
      "--------------------FREQUENCE DE CHAQUE LETTRE-------------------- en %\n",
      "\n",
      "A : > 1.1441647597254003 %\n",
      "B : > 0.6102212051868803 %\n",
      "C : > 0.0 %\n",
      "D : > 4.0427154843630815 %\n",
      "E : > 0.0 %\n",
      "F : > 0.2288329519450801 %\n",
      "G : > 6.941266209000762 %\n",
      "H : > 2.517162471395881 %\n",
      "I : > 5.720823798627003 %\n",
      "J : > 4.500381388253242 %\n",
      "K : > 14.950419527078566 %\n",
      "L : > 0.0 %\n",
      "M : > 5.415713196033562 %\n",
      "N : > 0.7627765064836003 %\n",
      "O : > 0.5339435545385203 %\n",
      "P : > 6.7887109077040435 %\n",
      "Q : > 4.118993135011442 %\n",
      "R : > 8.619374523264684 %\n",
      "S : > 0.5339435545385203 %\n",
      "T : > 0.0 %\n",
      "U : > 5.644546147978642 %\n",
      "V : > 1.6781083142639208 %\n",
      "W : > 3.585049580472922 %\n",
      "X : > 2.517162471395881 %\n",
      "Y : > 0.5339435545385203 %\n",
      "Z : > 3.6613272311212817 %\n",
      "None\n"
     ]
    }
   ],
   "source": [
    "iA,iB,iC,iD,iE,iF,iG,iH,iI,iJ,iK,iL,iM,iN,iO,iP,iQ,iR,iS,iT,iU,iV,iW,iX,iY,iZ=0,0,0,0,0,0,0,0,0,0,0,0,0,0,0,0,0,0,0,0,0,0,0,0,0,0\n",
    "for i in M:\n",
    "    if i==\"A\":\n",
    "        iA+=1\n",
    "    elif i==\"B\":\n",
    "        iB+=1\n",
    "    elif i==\"C\":\n",
    "        iC+=1\n",
    "    elif i==\"D\":\n",
    "        iD+=1\n",
    "    elif i==\"E\":\n",
    "        iE+=1\n",
    "    elif i==\"F\":\n",
    "        iF+=1\n",
    "    elif i==\"G\":\n",
    "        iG+=1\n",
    "    elif i==\"H\":\n",
    "        iH+=1\n",
    "    elif i==\"I\":\n",
    "        iI+=1\n",
    "    elif i==\"J\":\n",
    "        iJ+=1\n",
    "    elif i==\"K\":\n",
    "        iK+=1\n",
    "    elif i==\"L\":\n",
    "        iL+=1\n",
    "    elif i==\"M\":\n",
    "        iM+=1\n",
    "    elif i==\"N\":\n",
    "        iN+=1\n",
    "    elif i==\"O\":\n",
    "        iO+=1\n",
    "    elif i==\"P\":\n",
    "        iP+=1\n",
    "    elif i==\"Q\":\n",
    "        iQ+=1\n",
    "    elif i==\"R\":\n",
    "        iR+=1\n",
    "    elif i==\"S\":\n",
    "        iS+=1\n",
    "    elif i==\"T\":\n",
    "        iI+=1\n",
    "    elif i==\"U\":\n",
    "        iU+=1\n",
    "    elif i==\"V\":\n",
    "        iV+=1\n",
    "    elif i==\"W\":\n",
    "        iW+=1\n",
    "    elif i==\"X\":\n",
    "        iX+=1\n",
    "    elif i==\"Y\":\n",
    "        iY+=1\n",
    "    elif i==\"Z\":\n",
    "        iZ+=1\n",
    "print(\"--------------------FREQUENCE DE CHAQUE LETTRE-------------------- en %\\n\")\n",
    "print(\"A : >\",(iA/l)*100,\"%\")\n",
    "print(\"B : >\",(iB/l)*100,\"%\")\n",
    "print(\"C : >\",(iC/l)*100,\"%\")\n",
    "print(\"D : >\",(iD/l)*100,\"%\")\n",
    "print(\"E : >\",(iE/l)*100,\"%\")\n",
    "print(\"F : >\",(iF/l)*100,\"%\")\n",
    "print(\"G : >\",(iG/l)*100,\"%\")\n",
    "print(\"H : >\",(iH/l)*100,\"%\")\n",
    "print(\"I : >\",(iI/l)*100,\"%\")\n",
    "print(\"J : >\",(iJ/l)*100,\"%\")\n",
    "print(\"K : >\",(iK/l)*100,\"%\")\n",
    "print(\"L : >\",(iL/l)*100,\"%\")\n",
    "print(\"M : >\",(iM/l)*100,\"%\")\n",
    "print(\"N : >\",(iN/l)*100,\"%\")\n",
    "print(\"O : >\",(iO/l)*100,\"%\")\n",
    "print(\"P : >\",(iP/l)*100,\"%\")\n",
    "print(\"Q : >\",(iQ/l)*100,\"%\")\n",
    "print(\"R : >\",(iR/l)*100,\"%\")\n",
    "print(\"S : >\",(iS/l)*100,\"%\")\n",
    "print(\"T : >\",(iT/l)*100,\"%\")\n",
    "print(\"U : >\",(iU/l)*100,\"%\")\n",
    "print(\"V : >\",(iV/l)*100,\"%\")\n",
    "print(\"W : >\",(iW/l)*100,\"%\")\n",
    "print(\"X : >\",(iX/l)*100,\"%\")\n",
    "print(\"Y : >\",(iY/l)*100,\"%\")\n",
    "print(\"Z : >\",(iZ/l)*100,\"%\")\n",
    "L=[iA,iB,iC,iD,iE,iF,iG,iH,iI,iJ,iK,iL,iM,iN,iO,iP,iQ,iR,iS,iT,iU,iV,iW,iX,iY,iZ]\n",
    "print(L.sort())"
   ]
  },
  {
   "cell_type": "code",
   "execution_count": null,
   "metadata": {},
   "outputs": [],
   "source": [
    "K : > 14.939024390243901 %-----------------------'E': 17.3/100,\n",
    "R : > 8.61280487804878 %------------------------'S': 8.1/100,\n",
    "G : > 6.935975609756098 %------------------------ 'A': 8.2/100\n",
    "P : > 6.783536585365854 %-----------------------'I': 7.34/100,\n",
    "I : > 5.716463414634147 %---------------------- 'T': 7.07/100,\n",
    "U : > 5.640243902439025 %----------------------'N': 7.13/100,\n",
    "M : > 5.411585365853658 %----------------------'R': 6.55/100,\n",
    "J : > 4.496951219512195 %----------------------'L': 6.01/100,\n",
    "Q : > 4.115853658536586 %----------------------'U': 5.74/100\n",
    "D : > 4.039634146341464 %----------------------'O': 5.26/100,\n",
    "Z : > 3.6585365853658534 %---------------------'D': 4.18/100,\n",
    "W : > 3.5823170731707314 %---------------------'P': 3.01/100,\n",
    "X : > 2.5152439024390247 %---------------------'M': 2.96/100,\n",
    "H : > 2.5152439024390247 %---------------------'C': 2.8/100,\n",
    "V : > 1.676829268292683 %----------------------'B': 1.5/100,\n",
    "A : > 1.1432926829268293 %----------------------'V': 1.32/100,\n",
    "N : > 0.7621951219512195 %----------------------'G': 1.27/100,\n",
    "B : > 0.6097560975609756 %----------------------'F': 1.12/100,\n",
    "I : > 0.5335365853658537 %----------------------'Q': 0.99/100,\n",
    "S : > 0.5335365853658537 %----------------------'H': 0.92/100,\n",
    "Y : > 0.5335365853658537 %-----------------------'X': 0.45/100,\n",
    "F : > 0.22865853658536583 %----------------------'J': 0.31/100,"
   ]
  },
  {
   "cell_type": "code",
   "execution_count": 514,
   "metadata": {},
   "outputs": [],
   "source": [
    "m=M"
   ]
  },
  {
   "cell_type": "code",
   "execution_count": 515,
   "metadata": {},
   "outputs": [
    {
     "data": {
      "text/plain": [
       "'les menaces internes constituent un des plus gros risques pour-------toutes les organisations y compris celles au senegal les employes des organisations ayant acces aux systemes et aux donnees critiques sont euxmemes une menace car pouvant causer des-------dommages financiers et des dommages a la reputation a travers le-------vol de donnees sensibles ces employes peuvent egalement utiliser leur connaissance de lorganisation dans le but de permettre ou de perpetrer une attaque visant a perturber le bon fonctionnement de leur organisation outre ces actes deliberes les-------employes peuvent causer des dommages par inadvertance du fait-------de leur ignorance des procedures de securite de lorganisation-------notamment par le telecjargement des contenus non surs lusage de-------peripjeriques infectes ou en ouvrant du courriel djameconnage-------ces employes peuvent egalement devenir des victimes dactes-------dingenierie sociale a travers lesquels ils donnent alors par-------ignorance acces a leurs reseaux ou executent des instructions-------aux apparences inoffensives mais profitant aux cybercriminels a cet egard la presidence de la republique agissant par-------lintermediaire de la commission nationale de cryptologie cnc a-------pris les devants et a prescrit des mesures detaillees relatives-------a la politique de securite des systemes dinformation de letat du-------senegal pssies'"
      ]
     },
     "execution_count": 515,
     "metadata": {},
     "output_type": "execute_result"
    }
   ],
   "source": [
    "m=m.replace(\"K\",\"e\")\n",
    "m=m.replace(\"R\",\"s\")\n",
    "m=m.replace(\"G\",\"a\")\n",
    "m=m.replace(\"P\",\"n\")\n",
    "m=m.replace(\"I\",\"t\")\n",
    "m=m.replace(\"U\",\"r\")\n",
    "m=m.replace(\"M\",\"i\")\n",
    "m=m.replace(\"J\",\"o\")\n",
    "m=m.replace(\"Q\",\"u\")\n",
    "m=m.replace(\"D\",\"l\")\n",
    "m=m.replace(\"Z\",\"d\")\n",
    "m=m.replace(\"W\",\"c\")\n",
    "m=m.replace(\"X\",\"m\")\n",
    "m=m.replace(\"H\",\"p\")\n",
    "m=m.replace(\"V\",\"g\")\n",
    "m=m.replace(\"A\",\"v\")\n",
    "m=m.replace(\"N\",\"y\")\n",
    "m=m.replace(\"B\",\"f\")\n",
    "m=m.replace(\"I\",\"h\")\n",
    "m=m.replace(\"S\",\"q\")\n",
    "m=m.replace(\"Y\",\"x\")\n",
    "m=m.replace(\"F\",\"j\")\n",
    "m=m.replace(\"O\",\"b\")\n",
    "m"
   ]
  },
  {
   "cell_type": "code",
   "execution_count": 516,
   "metadata": {
    "scrolled": true
   },
   "outputs": [
    {
     "data": {
      "text/plain": [
       "'LES MENACES INTERNES CONSTITUENT UN DES PLUS GROS RISQUES POUR TOUTES LES ORGANISATIONS Y COMPRIS CELLES AU SENEGAL LES EMPLOYES DES ORGANISATIONS AYANT ACCES AUX SYSTEMES ET AUX DONNEES CRITIQUES SONT EUXMEMES UNE MENACE CAR POUVANT CAUSER DES DOMMAGES FINANCIERS ET DES DOMMAGES A LA REPUTATION A TRAVERS LE VOL DE DONNEES SENSIBLES CES EMPLOYES PEUVENT EGALEMENT UTILISER LEUR CONNAISSANCE DE LORGANISATION DANS LE BUT DE PERMETTRE OU DE PERPETRER UNE ATTAQUE VISANT A PERTURBER LE BON FONCTIONNEMENT DE LEUR ORGANISATION OUTRE CES ACTES DELIBERES LES EMPLOYES PEUVENT CAUSER DES DOMMAGES PAR INADVERTANCE DU FAIT DE LEUR IGNORANCE DES PROCEDURES DE SECURITE DE LORGANISATION NOTAMMENT PAR LE TELECJARGEMENT DES CONTENUS NON SURS LUSAGE DE PERIPJERIQUES INFECTES OU EN OUVRANT DU COURRIEL DJAMECONNAGE CES EMPLOYES PEUVENT EGALEMENT DEVENIR DES VICTIMES DACTES DINGENIERIE SOCIALE A TRAVERS LESQUELS ILS DONNENT ALORS PAR IGNORANCE ACCES A LEURS RESEAUX OU EXECUTENT DES INSTRUCTIONS AUX APPARENCES INOFFENSIVES MAIS PROFITANT AUX CYBERCRIMINELS A CET EGARD LA PRESIDENCE DE LA REPUBLIQUE AGISSANT PAR LINTERMEDIAIRE DE LA COMMISSION NATIONALE DE CRYPTOLOGIE CNC A PRIS LES DEVANTS ET A PRESCRIT DES MESURES DETAILLEES RELATIVES A LA POLITIQUE DE SECURITE DES SYSTEMES DINFORMATION DE LETAT DU SENEGAL PSSIES'"
      ]
     },
     "execution_count": 516,
     "metadata": {},
     "output_type": "execute_result"
    }
   ],
   "source": [
    "m=m.replace(\"-------\",\" \")\n",
    "m.upper()"
   ]
  }
 ],
 "metadata": {
  "kernelspec": {
   "display_name": "Python 3",
   "language": "python",
   "name": "python3"
  },
  "language_info": {
   "codemirror_mode": {
    "name": "ipython",
    "version": 3
   },
   "file_extension": ".py",
   "mimetype": "text/x-python",
   "name": "python",
   "nbconvert_exporter": "python",
   "pygments_lexer": "ipython3",
   "version": "3.7.4"
  }
 },
 "nbformat": 4,
 "nbformat_minor": 2
}
