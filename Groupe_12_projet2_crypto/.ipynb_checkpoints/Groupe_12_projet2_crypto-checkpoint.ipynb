{
 "cells": [
  {
   "cell_type": "code",
   "execution_count": 13,
   "metadata": {},
   "outputs": [
    {
     "data": {
      "text/html": [
       "<style> p{background-color: orange;padding: 1px 10px 10px 10px;font-size: 18px;border-radius: 12px;box-shadow: 5px 10px 10px black;}li{color: blue ;} h4{letter-spacing: 1px; } h1{background-color: black;font-size: 40px;font-weight: normal;text-align: center;color: white;margin: 15px;box-shadow: 5px 5px 10px orange;border-radius: 15px;} </style>"
      ],
      "text/plain": [
       "<IPython.core.display.HTML object>"
      ]
     },
     "execution_count": 13,
     "metadata": {},
     "output_type": "execute_result"
    }
   ],
   "source": [
    "from IPython.display import Image\n",
    "from IPython.core.display import HTML\n",
    "HTML('<style> p{background-color: orange;padding: 1px 10px 10px 10px;font-size: 18px;border-radius: 12px;box-shadow: 5px 10px 10px black;}li{color: blue ;} h4{letter-spacing: 1px; } h1{background-color: black;font-size: 40px;font-weight: normal;text-align: center;color: white;margin: 15px;box-shadow: 5px 5px 10px orange;border-radius: 15px;} </style>')"
   ]
  },
  {
   "cell_type": "markdown",
   "metadata": {},
   "source": [
    "<h1>GROUPE 12 </h1>"
   ]
  },
  {
   "cell_type": "markdown",
   "metadata": {},
   "source": [
    "<p> <strong>MARIEME MBACKE KA<br> KHADIM NIASS</strong> </p>"
   ]
  },
  {
   "cell_type": "markdown",
   "metadata": {},
   "source": [
    "# 1  Parie I : Modes de Chiffrement"
   ]
  },
  {
   "cell_type": "markdown",
   "metadata": {},
   "source": [
    "Faire un résumé des modes d’opération pour le chiffrement sysmétrique. "
   ]
  },
  {
   "cell_type": "markdown",
   "metadata": {},
   "source": [
    "<h4>Un mode d'opération est la manière de traiter les blocs de texte clairs et chiffrés au sein d'un algorithme de chiffrement\n",
    "par bloc. Il existe des modes d'opérations qui associent chiffrement et authentification de manière efficace.\n",
    "Plusieurs modes existent, certains sont plus vulnérables que d'autres :</h4>\n"
   ]
  },
  {
   "cell_type": "markdown",
   "metadata": {},
   "source": [
    "- Dictionnaire de codes (Electronic Code Book, ECB)\n",
    "- Enchaînement des blocs (Cipher Block Chaining, CBC)\n",
    "- Chiffrement à rétroaction (Cipher Feedback, CFB)\n",
    "- Chiffrement à rétroaction de sortie (Output Feedback, OFB)\n",
    "- Chiffrement basé sur un compteur (CounTeR, CTR)\n",
    "- Chiffrement avec vol de texte (CipherText Stealing, CTS)\n",
    "- Compteur avec CBC-MAC, voir l'article CCMP\n",
    "- EAX (inventé par David Wagner et al.)\n",
    "- CWC (à deux passes)"
   ]
  },
  {
   "cell_type": "markdown",
   "metadata": {},
   "source": [
    "<ul><li><h2>discuter de l’aspect sécurité</h2></li></ul>"
   ]
  },
  {
   "cell_type": "markdown",
   "metadata": {},
   "source": [
    "---> ECB: Il y a cependant plusieurs problèmes de sécurité avec ce mode de chiﬀrement.\n",
    "- Le premier problème est que si on utilise deux fois le même texte en clair et la même clé de chiﬀrement, le résultat du\n",
    "chiﬀrement sera identique. Des régularités dans le texte en clair se reproduisent dans le texte chiﬀré. Le texte chiﬀré permet\n",
    "donc d’obtenir des informations sur le texte en clair, même si on n’arrive pas à le déchiﬀrer.\n",
    "- Le deuxième problème est que si le cryptanalyste a le texte en clair et le texte chiﬀré de plusieurs messages, il peut\n",
    "commencer à construire un carnet de codage sans connaître la clé. Dans la plupart des situations du monde réel, des fragments\n",
    "de messages ont tendances à se répéter, surtout au début et à la ﬁn des messages, où apparaissent souvent des en-têtes et des \n",
    "conclusions bien déﬁnies qui contiennent des informations contenant l’expéditeur, le destinataire, la date, etc. De même, des\n",
    "messages engendrés par ordinateur ont souvent une structure régulière.\n",
    "- Le troisième problème est qu’un attaquant peut changer le texte chiﬀré en ajoutansimplement des blocs chiﬀrés par la même\n",
    "procédure de chiﬀrement et la même clé ou échangeant tout simplement quelques-uns des blocs chiﬀrés. Si des formats de messages\n",
    "standards sont utilisés (par exemple pour des opérations de transfert d’argent entre banques), l’adversaire peut même arriver à\n",
    "modiﬁer les messages chiﬀrés sans connaître la clef, ni même les détails de l’algorithme de chiﬀrement utilisé."
   ]
  },
  {
   "cell_type": "markdown",
   "metadata": {},
   "source": [
    "---> CBC: \n",
    "\n",
    "- Le rôle du vecteur d’initialisation est d’empêcher que si deux textes en clair débutent de la même façon, les textes chiﬀrés correspondants le font également. Il n’est pas obligatoire de le choisir aléatoirement ; il peut aussi être un numéro d’ordre\n",
    "    qui est augmenté après chaque message. La seule chose importante est qu’il doit être diﬀérent pour chaque message chiﬀré avec la même clé. Grâce au vecteur d’initialisation, même un bloc de texte en clair identique donneraun message chiﬀré diﬀérent. Il n’est plus possible pour un espion d’apprendre la moindre information concernant le texte en clair à partir du texte chiﬀré.Il n’est pas nécessaire non plus de tenir secret le vecteur initialisation. Généralement on le transmet en clair avec le texte chiﬀré."
   ]
  },
  {
   "cell_type": "markdown",
   "metadata": {},
   "source": [
    "---> CFB: Le mode CFB oﬀre une grande sécurité.\n",
    "    \n",
    "- Le seul problème est que le texte en clair est seulement soumis à un XOR. Si le texte en clair est connu, un texte en clair complètement diﬀérent peut être substitué en inversant les bits du texte chiﬀré au même endroit où on inverse les bits du texte en clair(bit-ﬂipping attack)."
   ]
  },
  {
   "cell_type": "markdown",
   "metadata": {},
   "source": [
    "---> OFB:\n",
    "    \n",
    "- il peut arriver qu’à partir d’un certain moment le registre de décalage devient constant, ce qui engendre de graves problèmes de sécurité.Pour éviter ce problème, il faut toujours que la taille de rétroaction soit égale à la taille des blocs de texte que manipule l’algorithme utilisé. Pour le DES, par exemple, il faut donc seulement utiliser le mode OFB à 64 bits. Par ailleurs, comme dans le mode CFB, le texte en clair est seulement soumis à un XOR. Le mode OFB est donc également vulnérable à une \"bit-ﬂipping attack\"."
   ]
  },
  {
   "cell_type": "markdown",
   "metadata": {},
   "source": [
    "<ul><li><h2>faire des diagrammes</h2></li></ul>"
   ]
  },
  {
   "cell_type": "markdown",
   "metadata": {},
   "source": [
    "![Image](tof/cbc.PNG)"
   ]
  },
  {
   "cell_type": "markdown",
   "metadata": {},
   "source": [
    "![Image](tof/crt.PNG)"
   ]
  },
  {
   "cell_type": "markdown",
   "metadata": {},
   "source": [
    "![Image](tof/ecb.PNG)"
   ]
  },
  {
   "cell_type": "markdown",
   "metadata": {},
   "source": [
    "![Image](tof/ofb.PNG)"
   ]
  },
  {
   "cell_type": "markdown",
   "metadata": {},
   "source": [
    "CFB"
   ]
  },
  {
   "cell_type": "markdown",
   "metadata": {},
   "source": [
    "![Image](tof/cfb_color.PNG)"
   ]
  },
  {
   "cell_type": "markdown",
   "metadata": {},
   "source": [
    "CTS"
   ]
  },
  {
   "cell_type": "markdown",
   "metadata": {},
   "source": [
    "![Image](tof/cts.PNG)"
   ]
  },
  {
   "cell_type": "markdown",
   "metadata": {},
   "source": [
    "<ul><li><h2>faire des compaisons</h2></li></ul>"
   ]
  },
  {
   "cell_type": "markdown",
   "metadata": {},
   "source": [
    "<ul><li><h3>Dictionnaire de codes (Electronic Code Book, ECB): </h3></li></ul>"
   ]
  },
  {
   "cell_type": "markdown",
   "metadata": {},
   "source": [
    "<h4>Il s'agit du mode le plus simple. Le message à chiffrer est subdivisé en plusieurs blocs qui sont chiffrés séparément \n",
    "les uns après les autres. Le gros défaut de cette méthode est que deux blocs avec le même contenu seront chiffrés de la\n",
    "même manière, on peut donc tirer des informations à partir du texte chiffré en cherchant les séquences identiques.\n",
    "On obtient dès lors un « dictionnaire de codes » avec les correspondances entre le clair et le chiffré d'où le terme codebook.\n",
    "<br>\n",
    "Le seul avantage qu'il peut procurer est un accès rapide à une zone quelconque du texte\n",
    "chiffré et la possibilité de déchiffrer une partie seulement des données. Mais un mode bien \n",
    "plus sûr basé sur un compteur permet également ces accès aléatoires et les déchiffrements partiels.</h4>"
   ]
  },
  {
   "cell_type": "raw",
   "metadata": {},
   "source": [
    "ECB (Electronic Code Book Mode)\n",
    "Encryption:\n",
    "Obtain ciphertext C1,...,Ctas Ci= EK(M),i =1,...,t\n",
    "Decryption:\n",
    "Obtain the plaintext from C1,...,Ctas Mi= E−1K(Ci),i =1,...,t"
   ]
  },
  {
   "cell_type": "markdown",
   "metadata": {},
   "source": [
    "<ul><li><h3>Enchaînement des blocs (Cipher Block Chaining, CBC): </h3></li></ul>"
   ]
  },
  {
   "cell_type": "markdown",
   "metadata": {},
   "source": [
    "<h4>Dans ce mode, on applique sur chaque bloc un ‘OU exclusif’ avec le chiffrement du bloc\n",
    "précédent avant qu’il soit lui-même chiffré. De plus, afin de rendre chaque message unique,\n",
    "un vecteur d'initialisation (IV) est utilisé. Ce mode est un chiffrement par bloc</h4>"
   ]
  },
  {
   "cell_type": "raw",
   "metadata": {},
   "source": [
    "CBC (Cipher Blockchaining mode)\n",
    "CBC uses a (non-secret) initialization vector (IV ) of n bits.\n",
    "Encryption:\n",
    "Obtain ciphertext C1,...,Ct as Ci= EK(Mi⊕Ci−1),i =1,...,t),Co= IV\n",
    "Decryption:\n",
    "Obtain message from C1,...,Ctas Mi= E−1K(Ci) ⊕ Ci−1,i =1,...,t; C0= IV"
   ]
  },
  {
   "cell_type": "markdown",
   "metadata": {},
   "source": [
    "<ul><li><h3> Chiffrement à rétroaction (Cipher Feedback, CFB): </h3></li></ul>"
   ]
  },
  {
   "cell_type": "markdown",
   "metadata": {},
   "source": [
    "<h4>Ce mode agit comme un chiffrement par flux. Ils génèrent un flux de clés qui est ensuite appliqué \n",
    "au document original.Dans ce mode, le flux de clé est obtenu en chiffrant le précédent bloc chiffré. \n",
    "CFB est un chiffrement par flot. Son grand intérêt est qu'il ne nécessite que la fonction de chiffrement,\n",
    "ce qui le rend moins cher à câbler ou programmer pour les algorithmes  ayant une fonction de chiffrement \n",
    "différente de la fonction de déchiffrement (exemple: AES).</h4>"
   ]
  },
  {
   "cell_type": "raw",
   "metadata": {},
   "source": [
    "CFB (Cipher Feedback Mode)\n",
    "Also CFB uses a non-secret IV of n bits.\n",
    "Encryption:\n",
    "Obtain ciphertext C1,...,Ctas Ci= EK(Ci−1) ⊕ Mi,i =1,...,t; C= IV\n",
    "Decryption:\n",
    "Obtain plaintext from C,...,Cas M= E(C) ⊕ C0,i =1,...,t; C= IV"
   ]
  },
  {
   "cell_type": "markdown",
   "metadata": {},
   "source": [
    "<ul><li><h3>Chiffrement à rétroaction de sortie (Output Feedback, OFB): </h3></li></ul>"
   ]
  },
  {
   "cell_type": "markdown",
   "metadata": {},
   "source": [
    "<h4>Dans ce mode, le flux de clé est obtenu en chiffrant le précédent flux de clé.\n",
    "C'est un mode de chiffrement de flot qui possède les mêmes avantages que CFB. \n",
    "De plus, il est possible de le pré-calculer en chiffrant successivement le vecteur d'initialisation.\n",
    "Ce mode est très fragile vis-à-vis d'une attaque au clair. </h4>\n"
   ]
  },
  {
   "cell_type": "raw",
   "metadata": {},
   "source": [
    "OFB (Output Feedback Mode)\n",
    "OFB also uses a non-secret IV of n bits.\n",
    "Encryption:\n",
    "Generate O1,...,Otas Oi= EK(Oi−1),i =1,...,t,O= IV\n",
    "Obtain Ci= Mi⊕ O,i =1,...,t\n",
    "Decrytion:\n",
    "Generate key stream Oi1,...,O as in encryption\n",
    "Obtain Mi= Ci⊕ Oit,i =1,...,t"
   ]
  },
  {
   "cell_type": "markdown",
   "metadata": {},
   "source": [
    "<ul><li><h3>Chiffrement basé sur un compteur (CounTeR, CTR):  </h3></li></ul> "
   ]
  },
  {
   "cell_type": "markdown",
   "metadata": {},
   "source": [
    "<h4>Dans ce mode, le flux de clé est obtenu en chiffrant les valeurs successives d’un compteur.\n",
    "Ce mode combine de nombreux avantages, car il permet le chiffrement par flot et est pré-calculable. \n",
    "De plus, il permet un accès aléatoire aux données, est parallélisable et n'utilise que la fonction \n",
    "de chiffrement.</h4>"
   ]
  },
  {
   "cell_type": "raw",
   "metadata": {},
   "source": [
    "CTR (Counter Mode)\n",
    "The CTR mode uses a nonce N of l bits, l<n\n",
    "CTR uses a counter start value C of n − l bits.\n",
    "Encryption:\n",
    "Generate a Keystream Oi,...,Otas Oi= EK0(N|((C + i)mod2)) Compute\n",
    "Ci= Mi⊕ O,i =1,...,t\n",
    "Decryption:\n",
    "Obtain the message as Mi= Ci⊕ Oi,i =1,...,tn−l"
   ]
  },
  {
   "cell_type": "markdown",
   "metadata": {},
   "source": [
    "<ul><li><h3> Chiffrement avec vol de texte (CipherText Stealing, CTS): </h3></li></ul>"
   ]
  },
  {
   "cell_type": "markdown",
   "metadata": {},
   "source": [
    "<h4>CTS n'est pas un mode de chiffrement par flot, mais permet d'éviter l'utilisation de bourrage dans les chiffrements par blocs, \n",
    "et donne une taille de message chiffré égale à la taille du message clair. Il est très utilisé dans les protocoles ou formats \n",
    "ne supportant pas une taille quelconque.</h4>"
   ]
  },
  {
   "cell_type": "markdown",
   "metadata": {},
   "source": [
    "# 2 Partie II : Implémentation de DES et AES"
   ]
  },
  {
   "cell_type": "code",
   "execution_count": 14,
   "metadata": {},
   "outputs": [],
   "source": [
    "import random\n",
    "from operator import xor\n",
    "import textwrap"
   ]
  },
  {
   "cell_type": "code",
   "execution_count": 119,
   "metadata": {},
   "outputs": [],
   "source": [
    "pc1=[57, 49, 41, 33, 25, 17, 9,1, 58, 50, 42, 34, 26, 18 ,10, 2, 59, 51, 43, 35, 27,19, 11, 3, 60, 52, 44, 36, 63, 55, 47, 39, 31, 23, 15,7, 62, 54, 46, 38, 30, 22, 14, 6, 61, 53, 45, 37, 29,21, 13, 5, 28, 20, 12, 4 ]\n",
    "\n",
    "permu_mess2=[40, 8, 48, 16, 56, 24, 64, 32,39, 7, 47, 15, 55, 23, 63, 31,38, 6, 46, 14, 54, 22, 62, 30,37, 5, 45, 13, 53, 21, 61, 29,36, 4, 44, 12, 52, 20, 60, 28,35, 3, 43, 11, 51, 19, 59, 27,34, 2, 42, 10, 50, 18, 58, 26,33, 1, 41, 9, 49, 17, 57, 25 ]\n",
    "\n",
    "perm=[58,50,42,34,26,18,10,2,60,52,44,36,28,20,12,4,62,54,46,38,30,22,14,6,64,56,48,40,32,24,16,8,57,49,41,33,25,17,9,1,59,51,43,35,27,19,11,3,61,53,45,37,29,21,13,5,63,55,47,39,31,23,15,7]\n",
    "\n",
    "perm_choice=[14,17,11,24,1,5,3,28,15,6,21,10,23,19,12,4,26,8,16,7,27,20,13,2,41,52,31,37,47,55,30,40,51,45,33,48,44,49,39,56,34,53,46,42,50,36,29,32]\n",
    "\n",
    "tab_left_shift= [1,1, 2, 2, 2, 2, 2, 2, 1, 2, 2, 2, 2, 2, 2, 1]\n",
    "\n",
    "p=[16,7,20, 21,29,12,28,17,1,15,23,26,5,18,31,10,2,8,24,14,32,27,3,9,19,13,30,6,22,11,4,25]\n",
    "\n",
    "E=[32,1,2,3,4,5,4,5,6,7,8,9,8,9,10,11,12,13,12,13,14,15,16,17,16,17,18,19,20,21,20,21,22,23,24,25,24,25,26,27,28,29,28,29,30,31,32,1]\n",
    "\n",
    "\n",
    "SBOX =[[[14, 4, 13, 1, 2, 15, 11, 8, 3, 10, 6, 12, 5, 9, 0, 7],\n",
    "             [0, 15, 7, 4, 14, 2, 13, 1, 10, 6, 12, 11, 9, 5, 3, 8],\n",
    "             [4, 1, 14, 8, 13, 6, 2, 11, 15, 12, 9, 7, 3, 10, 5, 0],\n",
    "             [15, 12, 8, 2, 4, 9, 1, 7, 5, 11, 3, 14, 10, 0, 6, 13]],\n",
    "[[15, 1, 8, 14, 6, 11, 3, 4, 9, 7, 2, 13, 12, 0, 5, 10],\n",
    "             [3, 13, 4, 7, 15, 2, 8, 14, 12, 0, 1, 10, 6, 9, 11, 5],\n",
    "             [0, 14, 7, 11, 10, 4, 13, 1, 5, 8, 12, 6, 9, 3, 2, 15],\n",
    "             [13, 8, 10, 1, 3, 15, 4, 2, 11, 6, 7, 12, 0, 5, 14, 9]],\n",
    "[[10, 0, 9, 14, 6, 3, 15, 5, 1, 13, 12, 7, 11, 4, 2, 8],\n",
    "             [13, 7, 0, 9, 3, 4, 6, 10, 2, 8, 5, 14, 12, 11, 15, 1],\n",
    "             [13, 6, 4, 9, 8, 15, 3, 0, 11, 1, 2, 12, 5, 10, 14, 7],\n",
    "             [1, 10, 13, 0, 6, 9, 8, 7, 4, 15, 14, 3, 11, 5, 2, 12]],\n",
    "[[7, 13, 14, 3, 0, 6, 9, 10, 1, 2, 8, 5, 11, 12, 4, 15],\n",
    "             [13, 8, 11, 5, 6, 15, 0, 3, 4, 7, 2, 12, 1, 10, 14, 9],\n",
    "             [10, 6, 9, 0, 12, 11, 7, 13, 15, 1, 3, 14, 5, 2, 8, 4],\n",
    "             [3, 15, 0, 6, 10, 1, 13, 8, 9, 4, 5, 11, 12, 7, 2, 14]],\n",
    "[[2, 12, 4, 1, 7, 10, 11, 6, 8, 5, 3, 15, 13, 0, 14, 9],\n",
    "             [14, 11, 2, 12, 4, 7, 13, 1, 5, 0, 15, 10, 3, 9, 8, 6],\n",
    "             [4, 2, 1, 11, 10, 13, 7, 8, 15, 9, 12, 5, 6, 3, 0, 14],\n",
    "             [11, 8, 12, 7, 1, 14, 2, 13, 6, 15, 0, 9, 10, 4, 5, 3]],\n",
    "[[12, 1, 10, 15, 9, 2, 6, 8, 0, 13, 3, 4, 14, 7, 5, 11],\n",
    "             [10, 15, 4, 2, 7, 12, 9, 5, 6, 1, 13, 14, 0, 11, 3, 8],\n",
    "             [9, 14, 15, 5, 2, 8, 12, 3, 7, 0, 4, 10, 1, 13, 11, 6],\n",
    "             [4, 3, 2, 12, 9, 5, 15, 10, 11, 14, 1, 7, 6, 0, 8, 13]],\n",
    "[[4, 11, 2, 14, 15, 0, 8, 13, 3, 12, 9, 7, 5, 10, 6, 1],\n",
    "             [13, 0, 11, 7, 4, 9, 1, 10, 14, 3, 5, 12, 2, 15, 8, 6],\n",
    "             [1, 4, 11, 13, 12, 3, 7, 14, 10, 15, 6, 8, 0, 5, 9, 2],\n",
    "             [6, 11, 13, 8, 1, 4, 10, 7, 9, 5, 0, 15, 14, 2, 3, 12]],\n",
    "[[13, 2, 8, 4, 6, 15, 11, 1, 10, 9, 3, 14, 5, 0, 12, 7],\n",
    "             [1, 15, 13, 8, 10, 3, 7, 4, 12, 5, 6, 11, 0, 14, 9, 2],\n",
    "             [7, 11, 4, 1, 9, 12, 14, 2, 0, 6, 10, 13, 15, 3, 5, 8],\n",
    "             [2, 1, 14, 7, 4, 10, 8, 13, 15, 12, 9, 0, 3, 5, 6, 11]]]\n",
    "INVERSE_PERMUTATION = ['40 ', '8 ', '48 ', '16 ', '56 ', '24 ', '64 ','32',\n",
    "                       '39 ', '7 ', '47 ', '15 ', '55 ', '23 ', '63 ', '31',\n",
    "                       '38 ', '6 ', '46 ', '14 ',  '54 ', '22 ', '62 ','30',\n",
    "                       '37 ', '5 ', '45 ', '13 ', '53 ', '21 ', '61 ', '29',\n",
    "                       '36 ', '4 ', '44 ', '12 ', '52 ', '20 ', '60 ', '28',\n",
    "                       '35 ', '3 ', '43 ', '11 ', '51 ', '19 ', '59 ', '27', \n",
    "                       '34 ', '2 ', '42 ', '10 ', '50 ', '18 ', '58 ', '26',\n",
    "                       '33 ', '1 ', '41 ', '9 ', '49 ', '17 ', '57 ', '25']\n",
    "\n",
    "HEX_to_Binary = {'0':'0000','1':'0001', '2':'0010', '3':'0011', '4':'0100', '5':'0101','6':'0110', '7':'0111','8':'1000', '9':'1001', 'A':'1010','B':'1011','C':'1100','D':'1101', 'E':'1110', 'F':'1111',}\n",
    "\n",
    "Sbox=(\n",
    "  0x63 , 0x7C , 0x77 , 0x7B , 0xF2 , 0x6B , 0x6F , 0xC5 , 0x30 , 0x01 , 0x67 , 0x2B , 0xFE , 0xD7 , 0xAB , 0x76 ,\n",
    "  0xCA , 0x82 , 0xC9 , 0x7D , 0xFA , 0x59 , 0x47 , 0xF0 , 0xAD , 0xD4 , 0xA2 , 0xAF , 0x9C , 0xA4 , 0x72 , 0xC0 ,\n",
    "  0xB7 , 0xFD , 0x93 , 0x26 , 0x36 , 0x3F , 0xF7 , 0xCC , 0x34 , 0xA5 , 0xE5 , 0xF1 , 0x71 , 0xD8 , 0x31 , 0x15 ,\n",
    "  0x04 , 0xC7 , 0x23 , 0xC3 , 0x18 , 0x96 , 0x05 , 0x9A , 0x07 , 0x12 , 0x80 , 0xE2 , 0xEB , 0x27 , 0xB2 , 0x75 ,\n",
    "  0x09 , 0x83 , 0x2C , 0x1A , 0x1B , 0x6E , 0x5A , 0xA0 , 0x52 , 0x3B , 0xD6 , 0xB3 , 0x29 , 0xE3 , 0x2F , 0x84 ,\n",
    "  0x53 , 0xD1 , 0x00 , 0xED , 0x20 , 0xFC , 0xB1 , 0x5B , 0x6A , 0xCB , 0xBE , 0x39 , 0x4A , 0x4C , 0x58 , 0xCF ,\n",
    "  0xD0 , 0xEF , 0xAA , 0xFB , 0x43 , 0x4D , 0x33 , 0x85 , 0x45 , 0xF9 , 0x02 , 0x7F , 0x50 , 0x3C , 0x9F , 0xA8 ,\n",
    "  0x51 , 0xA3 , 0x40 , 0x8F , 0x92 , 0x9D , 0x38 , 0xF5 , 0xBC , 0xB6 , 0xDA , 0x21 , 0x10 , 0xFF , 0xF3 , 0xD2 ,\n",
    "  0xCD , 0x0C , 0x13 , 0xEC , 0x5F , 0x97 , 0x44 , 0x17 , 0xC4 , 0xA7 , 0x7E , 0x3D , 0x64 , 0x5D , 0x19 , 0x73 ,\n",
    "  0x60 , 0x81 , 0x4F , 0xDC , 0x22 , 0x2A , 0x90 , 0x88 , 0x46 , 0xEE , 0xB8 , 0x14 , 0xDE , 0x5E , 0x0B , 0xDB ,\n",
    "  0xE0 , 0x32 , 0x3A , 0x0A , 0x49 , 0x06 , 0x24 , 0x5C , 0xC2 , 0xD3 , 0xAC , 0x62 , 0x91 , 0x95 , 0xE4 , 0x79 ,\n",
    "  0xE7 , 0xC8 , 0x37 , 0x6D , 0x8D , 0xD5 , 0x4E , 0xA9 , 0x6C , 0x56 , 0xF4 , 0xEA , 0x65 , 0x7A , 0xAE , 0x08 ,\n",
    "  0xBA , 0x78 , 0x25 , 0x2E , 0x1C , 0xA6 , 0xB4 , 0xC6 , 0xE8 , 0xDD , 0x74 , 0x1F , 0x4B , 0xBD , 0x8B , 0x8A ,\n",
    "  0x70 , 0x3E , 0xB5 , 0x66 , 0x48 , 0x03 , 0xF6 , 0x0E , 0x61 , 0x35 , 0x57 , 0xB9 , 0x86 , 0xC1 , 0x1D , 0x9E ,\n",
    "  0xE1 , 0xF8 , 0x98 , 0x11 , 0x69 , 0xD9 , 0x8E , 0x94 , 0x9B , 0x1E , 0x87 , 0xE9 , 0xCE , 0x55 , 0x28 , 0xDF ,\n",
    "  0x8C , 0xA1 , 0x89 , 0x0D , 0xBF , 0xE6 , 0x42 , 0x68 , 0x41 , 0x99 , 0x2D , 0x0F , 0xB0 , 0x54 , 0xBB , 0x16 ,\n",
    ")\n",
    "InvSBox=(\n",
    "  0x52 , 0x09 , 0x6A , 0xD5 , 0x30 , 0x36 , 0xA5 , 0x38 , 0xBF , 0x40 , 0xA3 , 0x9E , 0x81 , 0xF3 , 0xD7 , 0xFB ,\n",
    "  0x7C , 0xE3 , 0x39 , 0x82 , 0x9B , 0x2F , 0xFF , 0x87 , 0x34 , 0x8E , 0x43 , 0x44 , 0xC4 , 0xDE , 0xE9 , 0xCB ,\n",
    "  0x54 , 0x7B , 0x94 , 0x32 , 0xA6 , 0xC2 , 0x23 , 0x3D , 0xEE , 0x4C , 0x95 , 0x0B , 0x42 , 0xFA , 0xC3 , 0x4E ,\n",
    "  0x08 , 0x2E , 0xA1 , 0x66 , 0x28 , 0xD9 , 0x24 , 0xB2 , 0x76 , 0x5B , 0xA2 , 0x49 , 0x6D , 0x8B , 0xD1 , 0x25 ,\n",
    "  0x72 , 0xF8 , 0xF6 , 0x64 , 0x86 , 0x68 , 0x98 , 0x16 , 0xD4 , 0xA4 , 0x5C , 0xCC , 0x5D , 0x65 , 0xB6 , 0x92 ,\n",
    "  0x6C , 0x70 , 0x48 , 0x50 , 0xFD , 0xED , 0xB9 , 0xDA , 0x5E , 0x15 , 0x46 , 0x57 , 0xA7 , 0x8D , 0x9D , 0x84 ,\n",
    "  0x90 , 0xD8 , 0xAB , 0x00 , 0x8C , 0xBC , 0xD3 , 0x0A , 0xF7 , 0xE4 , 0x58 , 0x05 , 0xB8 , 0xB3 , 0x45 , 0x06 ,\n",
    "  0xD0 , 0x2C , 0x1E , 0x8F , 0xCA , 0x3F , 0x0F , 0x02 , 0xC1 , 0xAF , 0xBD , 0x03 , 0x01 , 0x13 , 0x8A , 0x6B ,\n",
    "  0x3A , 0x91 , 0x11 , 0x41 , 0x4F , 0x67 , 0xDC , 0xEA , 0x97 , 0xF2 , 0xCF , 0xCE , 0xF0 , 0xB4 , 0xE6 , 0x73 ,\n",
    "  0x96 , 0xAC , 0x74 , 0x22 , 0xE7 , 0xAD , 0x35 , 0x85 , 0xE2 , 0xF9 , 0x37 , 0xE8 , 0x1C , 0x75 , 0xDF , 0x6E ,\n",
    "  0x47 , 0xF1 , 0x1A , 0x71 , 0x1D , 0x29 , 0xC5 , 0x89 , 0x6F , 0xB7 , 0x62 , 0x0E , 0xAA , 0x18 , 0xBE , 0x1B ,\n",
    "  0xFC , 0x56 , 0x3E , 0x4B , 0xC6 , 0xD2 , 0x79 , 0x20 , 0x9A , 0xDB , 0xC0 , 0xFE , 0x78 , 0xCD , 0x5A , 0xF4 ,\n",
    "  0x1F , 0xDD , 0xA8 , 0x33 , 0x88 , 0x07 , 0xC7 , 0x31 , 0xB1 , 0x12 , 0x10 , 0x59 , 0x27 , 0x80 , 0xEC , 0x5F ,\n",
    "  0x60 , 0x51 , 0x7F , 0xA9 , 0x19 , 0xB5 , 0x4A , 0x0D , 0x2D , 0xE5 , 0x7A , 0x9F , 0x93 , 0xC9 , 0x9C , 0xEF ,\n",
    "  0xA0 , 0xE0 , 0x3B , 0x4D , 0xAE , 0x2A , 0xF5 , 0xB0 , 0xC8 , 0xEB , 0xBB , 0x3C , 0x83 , 0x53 , 0x99 , 0x61 ,\n",
    "  0x17 , 0x2B , 0x04 , 0x7E , 0xBA , 0x77 , 0xD6 , 0x26 , 0xE1 , 0x69 , 0x14 , 0x63 , 0x55 , 0x21 , 0x0C , 0x7D ,\n",
    ")"
   ]
  },
  {
   "cell_type": "markdown",
   "metadata": {},
   "source": [
    " <a href=\"https://en.wikipedia.org/wiki/Rijndael_S-box\" title=\"Rijndael S-box - Wikipedia\">Source des tableau Sbox et InvSBox  ...</a>"
   ]
  },
  {
   "cell_type": "markdown",
   "metadata": {},
   "source": [
    "Definition des sous_fonctions pour l'implementation de DES"
   ]
  },
  {
   "cell_type": "code",
   "execution_count": 16,
   "metadata": {},
   "outputs": [],
   "source": [
    "#conversion binaire decimal\n",
    "def conversionBinaire(binaire):\n",
    "    nombre=0;\n",
    "    longueur=len(binaire)\n",
    "    for i in range(0,longueur):\n",
    "        if(binaire[i] !=0 and binaire[i] !=1):\n",
    "            nombre=0;\n",
    "            break;\n",
    "        nombre+=binaire[longueur-1-i]*(2**i)\n",
    "    return nombre;\n",
    "\n",
    "def LeftShift(co,n):\n",
    "    n=n%len(co)\n",
    "    head=co[:n]\n",
    "    co[:n]=[]\n",
    "    co.extend(head)\n",
    "    return co\n",
    "\n",
    "def XOR(bits1,bits2):\n",
    "    xor_result = \"\"\n",
    "    for i in range(len(bits1)):\n",
    "        if bits1[i] == bits2[i]:\n",
    "            xor_result += '0'\n",
    "        else:\n",
    "            xor_result += '1'\n",
    "    return xor_result\n",
    "\n",
    "def permute_message(k):\n",
    "    tab_mess=[]\n",
    "    for i in pc1:\n",
    "        tab_mess.append(k[i-1])\n",
    "    return tab_mess\n",
    "\n",
    "def co_do(tab_mess):\n",
    "    co,do=tab_mess[:28],tab_mess[28:]\n",
    "    return co,do\n",
    "\n",
    "def perm_choice2(keys_56bits):\n",
    "    keys_48bits = []\n",
    "    for i in range(len(perm_choice)):\n",
    "        keys_48bits.append(keys_56bits[perm_choice[i]-1])\n",
    "    return keys_48bits\n",
    "\n"
   ]
  },
  {
   "cell_type": "markdown",
   "metadata": {},
   "source": [
    "<h5>fonction d'expansion de la clef 32bits</h5>"
   ]
  },
  {
   "cell_type": "code",
   "execution_count": 17,
   "metadata": {},
   "outputs": [
    {
     "name": "stdout",
     "output_type": "stream",
     "text": [
      "Expansion clef:  011110100001010101010101011110100001010101010101\n"
     ]
    }
   ],
   "source": [
    "def Expansion(bits32):\n",
    "    bits48 = \"\"\n",
    "    for i in E:\n",
    "        bits48 += bits32[i-1]\n",
    "    return bits48\n",
    "#exemple\n",
    "bits32 = '11110000101010101111000010101010'\n",
    "result_48 = Expansion(bits32)\n",
    "print (\"Expansion clef: \",result_48)"
   ]
  },
  {
   "cell_type": "markdown",
   "metadata": {},
   "source": [
    "<h5>separation en bloc de 6 </h5>"
   ]
  },
  {
   "cell_type": "code",
   "execution_count": 18,
   "metadata": {},
   "outputs": [],
   "source": [
    "def separer_en_6bits(XOR_48bits):\n",
    "    list_of_6bits = textwrap.wrap(XOR_48bits,6)\n",
    "    return list_of_6bits"
   ]
  },
  {
   "cell_type": "markdown",
   "metadata": {},
   "source": [
    "<h5>recuperation du Premier et Dernier bits et les 4 bits du Milieu</h5>  "
   ]
  },
  {
   "cell_type": "code",
   "execution_count": 19,
   "metadata": {},
   "outputs": [],
   "source": [
    " def premier_dernier_bits(bits6):\n",
    "    twobits = bits6[0] + bits6[-1] \n",
    "    return twobits\n",
    "\n",
    "def middle(bits6):\n",
    "    fourbits = bits6[1:5] \n",
    "    return fourbits"
   ]
  },
  {
   "cell_type": "markdown",
   "metadata": {},
   "source": [
    "<h5>Conversion binaire - decimal et decimal - binaire</h5>"
   ]
  },
  {
   "cell_type": "code",
   "execution_count": 20,
   "metadata": {},
   "outputs": [],
   "source": [
    "\n",
    "def binary_to_decimal(binarybits):\n",
    "    decimal = int(binarybits,2)\n",
    "    return decimal\n",
    "\n",
    "def decimal_to_binary(decimal):\n",
    "    table_conver_binaire=((6-len(bin(decimal)))*'0'+bin(decimal)[2:])\n",
    "    return table_conver_binaire"
   ]
  },
  {
   "cell_type": "markdown",
   "metadata": {},
   "source": [
    "<h5> sbox et somme binaire</h5>"
   ]
  },
  {
   "cell_type": "code",
   "execution_count": 21,
   "metadata": {},
   "outputs": [],
   "source": [
    "def sbox(nb,f_l,mid):\n",
    "    p_d = binary_to_decimal(f_l)\n",
    "    midd = binary_to_decimal(mid)\n",
    "    result= SBOX[nb][p_d][midd]\n",
    "    return decimal_to_binary(result)\n",
    "\n",
    "def som(b1,b2):\n",
    "    xor_result = \"\"\n",
    "    for i in range(len(b1)):\n",
    "        if b1[i] == b2[i]: \n",
    "            xor_result += '0'\n",
    "        else:\n",
    "            xor_result += '1'\n",
    "    return xor_result"
   ]
  },
  {
   "cell_type": "markdown",
   "metadata": {},
   "source": [
    "<h5>la fonction f</h5>"
   ]
  },
  {
   "cell_type": "code",
   "execution_count": 22,
   "metadata": {},
   "outputs": [],
   "source": [
    "def Permutation(sbox_result):\n",
    "    final_32bits = \"\"\n",
    "    for i in p:\n",
    "        final_32bits += sbox_result[i-1]\n",
    "    return final_32bits\n",
    "\n",
    "def fonction_F(r, k):\t\n",
    "    result = \"\"\n",
    "    expan = Expansion(r)\n",
    "    xor_result = som(expan,k)\n",
    "    bloc_6 = separer_en_6bits(xor_result)\n",
    "    for nb, i in enumerate(bloc_6):\n",
    "        first_last = premier_dernier_bits(i)\n",
    "        middle4 = middle(i)\n",
    "        sboxvalue = sbox(nb,first_last,middle4)\n",
    "        result += sboxvalue\n",
    "    final32bits = Permutation(result)\t\n",
    "    return final32bits"
   ]
  },
  {
   "cell_type": "markdown",
   "metadata": {},
   "source": [
    "<h5>conversion hexadecimal-binaire</h5>"
   ]
  },
  {
   "cell_type": "code",
   "execution_count": 23,
   "metadata": {},
   "outputs": [],
   "source": [
    "def hexa_binair(hex):\n",
    "    binaire = \"\"\n",
    "    for hexdigit in hex:\n",
    "        binaire += bin(int(hex,16))[2:].zfill(4)\n",
    "    return binaire"
   ]
  },
  {
   "cell_type": "markdown",
   "metadata": {},
   "source": [
    "<h5>fonction left shift </h5>"
   ]
  },
  {
   "cell_type": "code",
   "execution_count": 24,
   "metadata": {},
   "outputs": [],
   "source": [
    "def spliHalf(binarybits):\n",
    "    return binarybits[:32],binarybits[32:]\n"
   ]
  },
  {
   "cell_type": "code",
   "execution_count": 25,
   "metadata": {},
   "outputs": [],
   "source": [
    "def permut_mess(m):\n",
    "    permutated_M = \"\"\n",
    "    for i in perm:\n",
    "        permutated_M += m[int(i)-1]\n",
    "    return permutated_M\n",
    "\n",
    "def permut_inv(ROUND_OUT):\n",
    "    cipher = \"\"\n",
    "    for i in INVERSE_PERMUTATION:\n",
    "        cipher += ROUND_OUT[int(i)-1]\n",
    "    return cipher"
   ]
  },
  {
   "cell_type": "markdown",
   "metadata": {},
   "source": [
    "Definition des sous_fonctions pour l'implementation de AES"
   ]
  },
  {
   "cell_type": "code",
   "execution_count": null,
   "metadata": {},
   "outputs": [],
   "source": [
    "def SubBytes(state):\n",
    "    for i in range(4):\n",
    "        for j in range(4):\n",
    "            state[i][j] = Sbox[state[i][j]]\n",
    "    return state\n",
    "\n",
    "B=SubBytes(A)\n",
    "InvSubBytes(B)\n",
    "#InvSubBytes(B)=A"
   ]
  },
  {
   "cell_type": "code",
   "execution_count": null,
   "metadata": {},
   "outputs": [],
   "source": [
    "def ShiftRows(s):\n",
    "    s[0][1]=s[1][1]\n",
    "    s[1][1]=s[2][1]\n",
    "    s[2][1]=s[3][1]\n",
    "    s[3][1]=s[0][1]\n",
    "    \n",
    "    s[0][2]=s[2][2]\n",
    "    s[1][2]=s[3][2]\n",
    "    s[2][2]=s[0][2]\n",
    "    s[3][2]=s[1][2]\n",
    "    \n",
    "    s[0][3]=s[3][3]\n",
    "    s[1][3]=s[0][3] \n",
    "    s[3][3]=s[2][3]\n",
    "    return s\n",
    "print(ShiftRows(A))"
   ]
  },
  {
   "cell_type": "code",
   "execution_count": null,
   "metadata": {},
   "outputs": [],
   "source": [
    "from numpy import matrix\n",
    "#np.matrix(np.arange(9).reshape((3,3)))\n",
    "A=([[2,3,1,1],[1,2,3,1],[1,1,2,3],[3,1,1,2]])\n",
    "\n",
    "xtime = lambda a:(((a << 1) ^ 0x1B) & 0xFF) if (a & 0x80) else (a << 1)"
   ]
  },
  {
   "cell_type": "code",
   "execution_count": null,
   "metadata": {},
   "outputs": [],
   "source": [
    "def MixSingleColumn(m):\n",
    "    \n",
    "    t = m[0] ^ m[1] ^ m[2] ^ m[3]\n",
    "    u = m[0]\n",
    "    m[0] ^= t ^ xtime(m[0] ^ m[1])\n",
    "    m[1] ^= t ^ xtime(m[1] ^ m[2])\n",
    "    m[2] ^= t ^ xtime(m[2] ^ m[3])\n",
    "    m[3] ^= t ^ xtime(m[3] ^ u)\n",
    "    return m\n"
   ]
  },
  {
   "cell_type": "markdown",
   "metadata": {},
   "source": [
    "- $MixColumns()$\n",
    "\n",
    "\n",
    "$GF(2^8)$ : L'origine de la matrice $A$"
   ]
  },
  {
   "cell_type": "code",
   "execution_count": null,
   "metadata": {},
   "outputs": [],
   "source": [
    "\n",
    "def MixColumns(s):\n",
    "    for i in range(4):\n",
    "            S=MixSingleColumn(s[i])\n",
    "    return S\n",
    "MixColumns(A)"
   ]
  },
  {
   "cell_type": "code",
   "execution_count": null,
   "metadata": {},
   "outputs": [],
   "source": [
    "def AddRoundKey(s,k):\n",
    "    for i in range(4):\n",
    "        for j in range(4):\n",
    "            s[i][j]^=(k[i][j])\n",
    "    return s"
   ]
  },
  {
   "cell_type": "code",
   "execution_count": null,
   "metadata": {},
   "outputs": [],
   "source": [
    "def xor(t1, t2):\n",
    "    result = ''\n",
    "    for i in range(len(t1)):\n",
    "        result += str(int(t1[i])^int(t2[i]))\n",
    "    return int(result)"
   ]
  },
  {
   "cell_type": "code",
   "execution_count": null,
   "metadata": {},
   "outputs": [],
   "source": [
    "def InvShiftSows(s):\n",
    "    s[0][1]=s[3][1]\n",
    "    s[1][1]=s[0][1]\n",
    "    s[2][1]=s[1][1]\n",
    "    s[3][1]=s[2][1]\n",
    "    \n",
    "    s[0][2]=s[2][2]\n",
    "    s[1][2]=s[3][2]\n",
    "    s[2][2]=s[0][2]\n",
    "    s[3][2]=s[1][2]\n",
    "    \n",
    "    s[0][3]=s[1][3]\n",
    "    s[1][3]=s[2][3]\n",
    "    s[2][3]=s[3][3]\n",
    "    s[3][3]=s[0][3]\n",
    "    return s\n",
    "\n",
    "def InvSubBytes(s):\n",
    "    for i in range(4):\n",
    "        for j in range(4):\n",
    "            s[i][j] = InvSBox[s[i][j]]\n",
    "    return s\n",
    "\n",
    "def InvMixColumns(s):\n",
    "    for i in range(4):\n",
    "        u = xtime(xtime(s[i][0] ^ s[i][2]))\n",
    "        v = xtime(xtime(s[i][1] ^ s[i][3]))\n",
    "        s[i][0] ^= u\n",
    "        s[i][1] ^= v\n",
    "        s[i][2] ^= u\n",
    "        s[i][3] ^= v\n",
    "    return MixColumns(s)\n",
    "\n",
    "def matrix2bytes(M):\n",
    "    return bytes(sum(M,[]))"
   ]
  },
  {
   "cell_type": "markdown",
   "metadata": {},
   "source": [
    "# ---> DES"
   ]
  },
  {
   "cell_type": "markdown",
   "metadata": {},
   "source": [
    "1.L’algorithme de génération de clefs genkey_system qui prend en entrée si necessaire la taille\n",
    "de la clef et retourne une clef."
   ]
  },
  {
   "cell_type": "code",
   "execution_count": 26,
   "metadata": {},
   "outputs": [],
   "source": [
    "def genkey_system(clef):\n",
    "     clef=([(random.randint(0,1)) for i in range(64)])    \n",
    "     return clef\n",
    "k=0\n",
    "k=genkey_system(k)\n",
    "#print(\"la clef est:\",k)"
   ]
  },
  {
   "cell_type": "markdown",
   "metadata": {},
   "source": [
    "2.L’algorithme de génération de sous-clefs genkey_subkeys_system qui prend en entrée une\n",
    "clef K et retourne des sous- clefs K.\n"
   ]
  },
  {
   "cell_type": "code",
   "execution_count": 27,
   "metadata": {},
   "outputs": [],
   "source": [
    "def genkey_subkeys_system(key_64bits):\n",
    "    round_keys =[]\n",
    "    pc1_out = permute_message(key_64bits) \n",
    "    C0,D0 = co_do(pc1_out)\n",
    "    for i in range(0,len(tab_left_shift)):\n",
    "        a=LeftShift(C0,tab_left_shift[i])\n",
    "        b=LeftShift(D0,tab_left_shift[i])\n",
    "        roundkey = perm_choice2(a+b)\n",
    "        round_keys.append(roundkey)\n",
    "        C0 = a\n",
    "        D0 = b\n",
    "    return round_keys\n",
    "\n",
    "#print(genkey_subkeys_system(k))"
   ]
  },
  {
   "cell_type": "markdown",
   "metadata": {},
   "source": [
    "3.L’algorithme de chiffrement cipher_system qui prend en entrée un message M (64 bits pour le DES, 128,\n",
    "192, 256 bits pour l’AES) et une clef K et retourne son chiffré C. Vous pourriez faire appel à \n",
    "l’algorithme genkey_subkeys_system."
   ]
  },
  {
   "cell_type": "code",
   "execution_count": 28,
   "metadata": {},
   "outputs": [],
   "source": [
    "def cipher_system(message,key):\n",
    "    cipher = \"\"\n",
    "    msg = hexa_binair(message)\n",
    "    key_bits = hexa_binair(key)\n",
    "    sous_keys = genkey_subkeys_system(key_bits)\n",
    "    permut_msg = permut_mess(msg)\n",
    "    L,R = spliHalf(permut_msg)\n",
    "    for i in range(16):\n",
    "        newR = XOR(L,fonction_F(R, sous_keys[i]))\n",
    "        newL = R\n",
    "        R = newR\n",
    "        L = newL\n",
    "    cipher = permut_inv(R+L)\n",
    "    return cipher"
   ]
  },
  {
   "cell_type": "markdown",
   "metadata": {},
   "source": [
    "4.L’algorithme de déchiffrement decipher_system qui prend en entrée un ciphré C (64 bits\n",
    "pour le DES, 128, 192, 256 bits pour l’AES) et une clef K et retourne son déchiffré M. Vous\n",
    "pourriez faire appel à l’algorithme genkey_subkeys_system."
   ]
  },
  {
   "cell_type": "code",
   "execution_count": 29,
   "metadata": {},
   "outputs": [],
   "source": [
    "def decipher_system(C, K):\n",
    "    cipher = \"\"\n",
    "    #msg = hexa_binair(C)\n",
    "    key_bits = hexa_binair(key)\n",
    "    sous_keys = genkey_subkeys_system(key_bits)\n",
    "    permut_msg = permut_inv(C)\n",
    "    R,L = spliHalf(permut_msg)\n",
    "    for i in range(-15,0):\n",
    "        newL = XOR(R,fonction_F(L, sous_keys[i]))\n",
    "        newR = L\n",
    "        L = newL\n",
    "        R = newR\n",
    "    M = permut_mess(L+R)\n",
    "    return M"
   ]
  },
  {
   "cell_type": "markdown",
   "metadata": {},
   "source": [
    "# ---> AES"
   ]
  },
  {
   "cell_type": "markdown",
   "metadata": {},
   "source": [
    "1.L’algorithme de génération de clefs genkey_system qui prend en entrée si necessaire la taille\n",
    "de la clef et retourne une clef."
   ]
  },
  {
   "cell_type": "code",
   "execution_count": 118,
   "metadata": {},
   "outputs": [
    {
     "data": {
      "text/plain": [
       "'0xc7c9b03c4013ec0c6512d3d40dda0607'"
      ]
     },
     "execution_count": 118,
     "metadata": {},
     "output_type": "execute_result"
    }
   ],
   "source": [
    "def genkey_system(key,):\n",
    "    clef=hex( random . randrange (2**128))\n",
    "    return clef\n",
    "k=\"\"\n",
    "genkey_system(k)"
   ]
  },
  {
   "cell_type": "markdown",
   "metadata": {},
   "source": [
    "2.L’algorithme de génération de sous-clefs genkey_subkeys_system qui prend en entrée une\n",
    "clef K et retourne des sous- clefs K."
   ]
  },
  {
   "cell_type": "code",
   "execution_count": 121,
   "metadata": {},
   "outputs": [],
   "source": [
    "def genkey_subkeys_system_AES(key, Nk=4, Nb=4, Nr=10):\n",
    "    w=[0]*Nb*(Nr+1)\n",
    "    kw=keyToWords(key, Nk)\n",
    "    for i in xrange(Nk):\n",
    "        w[i]=kw[i]\n",
    "        for i in xrange(Nk, Nb*(Nr+1)):\n",
    "            tmp=w[i-1]\n",
    "            if (i%Nk==0):\n",
    "                tmp=int2hex(int(subWord(rotWord(tmp)),16)^\n",
    "                int(rcon((i/Nk)-1),16))\n",
    "            elif ((Nk>6) and (i%Nk==4)):\n",
    "                tmp=subWord(tmp)\n",
    "                w[i]=int2hex(int(w[i-Nk],16)^int(tmp,16))\n",
    "    return w"
   ]
  },
  {
   "cell_type": "markdown",
   "metadata": {},
   "source": [
    "3.L’algorithme de chiffrement cipher_system qui prend en entrée un message M (64 bits pour le DES, 128,\n",
    "192, 256 bits pour l’AES) et une clef K et retourne son chiffré C. Vous pourriez faire appel à \n",
    "l’algorithme genkey_subkeys_system."
   ]
  },
  {
   "cell_type": "code",
   "execution_count": 31,
   "metadata": {},
   "outputs": [],
   "source": [
    "def cipher(block, key, Nb=4, Nr=10):\n",
    "    state = createState(block, Nb)\n",
    "    roundKey = \"\".join(key[0:Nb])\n",
    "    state = AddRoundKey(state, createState(roundKey, Nb), Nb)\n",
    "    for round in xrange(1,Nr):\n",
    "        state = SubBytes(state, Nb)\n",
    "        state = ShiftRows(state, Nb)\n",
    "        state = MixColumns(state, Nb)\n",
    "        roundKey = \"\".join(key[round*Nb:(round*Nb)+Nb])\n",
    "        state = AddRoundKey(state, createState(roundKey, Nb), Nb)\n",
    "        state = SubBytes(state, Nb)\n",
    "        state = ShiftRows(state, Nb)\n",
    "        roundKey = \"\".join(key[Nr*Nb:(Nr*Nb)+Nb])\n",
    "        state = AddRoundKey(state, createState(roundKey, Nb), Nb)\n",
    "    return createBlock(state, Nb)"
   ]
  },
  {
   "cell_type": "markdown",
   "metadata": {},
   "source": [
    "4.L’algorithme de déchiffrement decipher_system qui prend en entrée un ciphré C (64 bits\n",
    "pour le DES, 128, 192, 256 bits pour l’AES) et une clef K et retourne son déchiffré M. Vous\n",
    "pourriez faire appel à l’algorithme genkey_subkeys_system."
   ]
  },
  {
   "cell_type": "code",
   "execution_count": null,
   "metadata": {},
   "outputs": [],
   "source": [
    "def decipher_system_AES(chipher_text):\n",
    "    assert len(chipher_text) == 16\n",
    "\n",
    "    cipher_state = bytes2matrix(chipher_text)\n",
    "\n",
    "    (cipher_state, key_matrices[-1])\n",
    "    InvShiftSows(cipher_state)\n",
    "    InvSubBytes(cipher_state)\n",
    "\n",
    "    for i in range(round-1, 0, -1):\n",
    "        add_round_key(cipher_state,key_matrices[i])\n",
    "        InvMixColumns(cipher_state)\n",
    "        InvShiftSows(cipher_state)\n",
    "        InvSubBytes(cipher_state)\n",
    "\n",
    "        AddRoundKey(cipher_state, self._key_matrices[0])\n",
    "\n",
    "    return matrix2bytes(cipher_state)"
   ]
  },
  {
   "cell_type": "markdown",
   "metadata": {},
   "source": [
    "# 3 Partie III : Modes d’opérations et DES, AES"
   ]
  },
  {
   "cell_type": "markdown",
   "metadata": {},
   "source": [
    "Faire une implémentation plus générale du DES et de l’AES en tenant compte des modes de chiffrement.\n",
    "Le message en entrée maintenant est de taille quelconque. On fera du Padding si nécessaire.\n",
    "Reprener donc les question 3. et 4. de la partie II."
   ]
  },
  {
   "cell_type": "markdown",
   "metadata": {},
   "source": [
    "DES"
   ]
  },
  {
   "cell_type": "code",
   "execution_count": 117,
   "metadata": {},
   "outputs": [
    {
     "name": "stdout",
     "output_type": "stream",
     "text": [
      "chiffrer de M:  [0, 1, 1, 1, 0, 0, 1, 0, 1, 0, 0, 0, 0, 1, 0, 1]\n"
     ]
    }
   ],
   "source": [
    "#ECB\n",
    "def LeftShift(co,n):\n",
    "    n=n%len(co)\n",
    "    head=co[:n]\n",
    "    co[:n]=[]\n",
    "    co.extend(head)\n",
    "    return co\n",
    "def div_bloc_six(tabl,n):\n",
    "    l,fin,h=[],[],[]\n",
    "    for i in range(0,len(tabl),n):\n",
    "        l.append(tabl[i:i+n])\n",
    "    #print(\"msg separer en bloc\", l)\n",
    "    for i in range(len(l)):\n",
    "        fin.append(LeftShift(l[i],1))\n",
    "        for i in fin[i]:\n",
    "            h.append(i)\n",
    "    return h\n",
    "M = [1,0,1,1,0,0,0,1,0,1,0,0,1,0,1,0]\n",
    "print(\"chiffrer de M: \",div_bloc_six(M,4))\n"
   ]
  },
  {
   "cell_type": "code",
   "execution_count": null,
   "metadata": {},
   "outputs": [],
   "source": [
    "M = '0123456789ABCDEF'\n",
    "key ='12345678ABCEDFF9'\n",
    "chiffrer= cipher_system(M,key)\n",
    "print(\"chiffrer: \", chiffrer)\n",
    "\n",
    "C = '0010001101101001011000110101111011110101000100000110111110111101'\n",
    "key ='12345678ABCEDFF9'\n",
    "message= decipher_system(C,key)\n",
    "print(\"message claire: \", message)"
   ]
  },
  {
   "cell_type": "markdown",
   "metadata": {},
   "source": [
    "AES"
   ]
  },
  {
   "cell_type": "code",
   "execution_count": null,
   "metadata": {},
   "outputs": [],
   "source": []
  },
  {
   "cell_type": "markdown",
   "metadata": {},
   "source": [
    "# 4 Partie IV : Implementation d’algorithmes sur Z et Z/nZ"
   ]
  },
  {
   "cell_type": "markdown",
   "metadata": {},
   "source": [
    "1.l’agorithme d’Euclide pour le calcul du PGCD,"
   ]
  },
  {
   "cell_type": "code",
   "execution_count": 10,
   "metadata": {},
   "outputs": [],
   "source": [
    "def algo_euclide_pgcd(a,b):\n",
    "    while(b!=0):\n",
    "        r=a%b\n",
    "        a,b=b,r\n",
    "    return a\n",
    "\n",
    "#a= int(input(\"entrer un entier a=\" ))\n",
    "#b= int(input(\"entrer un entier b=\" ))\n",
    "#print(algo_euclide_pgcd(a,b))"
   ]
  },
  {
   "cell_type": "markdown",
   "metadata": {},
   "source": [
    "2.l’agorithme d’Euclide étendu"
   ]
  },
  {
   "cell_type": "code",
   "execution_count": 11,
   "metadata": {},
   "outputs": [],
   "source": [
    "def euclid_etendu(a,b):\n",
    "    d,u,v=a,1,0\n",
    "    rp,up,vp=b,0,1\n",
    "    while(rp!=0):\n",
    "        q=d//rp\n",
    "        rs,us,vs=d,u,v\n",
    "        d,u,v=rp,up,vp\n",
    "        rp,up,vp=(rs-q*rp), (us-q*up), (vs-q*vp)\n",
    "    return u,v,d\n",
    "\n",
    "#print(euclid_etendu(142,27))"
   ]
  },
  {
   "cell_type": "markdown",
   "metadata": {},
   "source": [
    "3.l’algorithme de calcul d’inverse modulo"
   ]
  },
  {
   "cell_type": "code",
   "execution_count": 12,
   "metadata": {},
   "outputs": [],
   "source": [
    "def inverse(a,n):\n",
    "\tu,v,d=euclid_etendu(a,n)\n",
    "\treturn u%n\n",
    "\n",
    "#print(inverse(2,3))"
   ]
  },
  {
   "cell_type": "markdown",
   "metadata": {},
   "source": [
    "4.l’algorithme de puissance (modulaire) rapide"
   ]
  },
  {
   "cell_type": "code",
   "execution_count": 45,
   "metadata": {},
   "outputs": [],
   "source": [
    "def conversion_decim_binaire(decim):\n",
    "    binaire=\"\"\n",
    "    decimal=int(decim)\n",
    "    while decimal !=0:\n",
    "        r= decimal%2\n",
    "        binaire=str(r)+binaire\n",
    "        decimal=decimal//2\n",
    "    return binaire\n",
    "\n",
    "def algo_cacul_puissance(a,m,n):\n",
    "    m=conversion_decim_binaire(m)\n",
    "    b=1\n",
    "    if(m==0):\n",
    "        return b\n",
    "    A=a\n",
    "    if(m==1):\n",
    "        b=a\n",
    "    for i in range(1,n):\n",
    "        A=A**2 % n\n",
    "        if(m==1):\n",
    "            b=A*b\n",
    "    return b\n",
    "\n",
    "#print(algo_cacul_puissance(5,20,23))"
   ]
  },
  {
   "cell_type": "code",
   "execution_count": null,
   "metadata": {},
   "outputs": [],
   "source": []
  },
  {
   "cell_type": "code",
   "execution_count": null,
   "metadata": {},
   "outputs": [],
   "source": []
  }
 ],
 "metadata": {
  "kernelspec": {
   "display_name": "Python 3",
   "language": "python",
   "name": "python3"
  },
  "language_info": {
   "codemirror_mode": {
    "name": "ipython",
    "version": 3
   },
   "file_extension": ".py",
   "mimetype": "text/x-python",
   "name": "python",
   "nbconvert_exporter": "python",
   "pygments_lexer": "ipython3",
   "version": "3.7.6"
  }
 },
 "nbformat": 4,
 "nbformat_minor": 2
}
