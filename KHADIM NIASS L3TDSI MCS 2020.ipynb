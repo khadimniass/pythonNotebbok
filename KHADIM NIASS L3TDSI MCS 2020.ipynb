{
 "cells": [
  {
   "cell_type": "markdown",
   "metadata": {},
   "source": [
    "### Algorithme de ***Newton-Raphson*** pour  determiner le  ***l'EMV*** de $\\alpha$ de la loi gamma\n",
    "\n",
    "$\\Gamma(x) := \\int^{\\infty}_{0} t^{x-1} e^{-t} \\mathrm{d}t$"
   ]
  },
  {
   "cell_type": "code",
   "execution_count": null,
   "metadata": {},
   "outputs": [],
   "source": [
    "import numpy,sympy,random\n",
    "x=sympy.Symbol(\"x\")\n",
    "\n",
    "def newton_raphson(a,ltx):\n",
    "    i=0\n",
    "    while(True):\n",
    "        if(numpy.abs(a-i)<0.0001 ):\n",
    "            break\n",
    "        a=a-funcinipri(a,ltx)/funcini(a,ltx)\n",
    "        i=a\n",
    "    return a\n",
    "\n",
    "#Listx=Lstx\n",
    "def sommeln(Lstx):    \n",
    "    return float(sum([sympy.ln(i) for i in (Lstx)]))\n",
    "\n",
    "def sommexi(Lstx):\n",
    "    \n",
    "    return sum(Lstx)/len(Lstx)\n",
    "\n",
    "def derivative(func):\n",
    "    fp=sympy.diff(func,x)\n",
    "    fla=sympy.lambdify(x,fp)\n",
    "    return fla\n",
    "#Listx=Listx\n",
    "def funcini(a,Listx):\n",
    "    return float(-len(Listx)*(derivative(sympy.gamma(x))(a)/sympy.gamma(a)) -sommeln(Listx)*len(Listx) +len(Listx)*sympy.ln(a)+sommeln(Listx))\n",
    "\n",
    "\n",
    "def funcinipri(a,Listx):\n",
    "    return float(-len(Listx)*sympy.trigamma(a) + len(Listx)*(1/a))           "
   ]
  },
  {
   "cell_type": "code",
   "execution_count": null,
   "metadata": {},
   "outputs": [],
   "source": [
    "echantillon = [ 4.9715277,2.3950684,6.9276035,9.8178890,8.8592062,3.6318223\n",
    "  8.2100328,2.4059565,0.3542640,3.8746461,5.5771696,4.5065179\n",
    "  0.9084919,3.7921954,1.0863522,6.7619878,2.4788662,4.1752563\n",
    "  2.2037817,9.2142301,4.2471287,4.2027407,2.5067747,2.7854016\n",
    "  4.6291707,5.3205667,4.2967073,6.0430255,2.3958655,8.5496704\n",
    "  7.2022812,1.6872423,2.2993789,2.3954743,4.5859868,1.3977662\n",
    "  4.9985051,2.3576235,11.3064630,5.2523982,5.2992748,3.7987439\n",
    "  2.2967666,7.7092264,6.8806153,3.4035323,3.7402224,4.7458975\n",
    "  2.8234112,1.0495046,3.5277914,6.0443621,3.6217245,8.9109427\n",
    "  5.4037658,6.7881035,4.5993294,7.1773837,4.6333468,3.6381851\n",
    "  3.2721471,1.0378773,4.1546943,8.5143052,1.7815878,2.6005386\n",
    "  3.5153600,4.7998715,5.6354831,10.7489601,2.9337384,0.7787420\n",
    "  2.8308490,5.7262069,2.4334167,4.1679139,7.4558313,1.1213301\n",
    "  8.4678003,1.6146869,5.3897647,7.9084252,6.5060000,9.5796112\n",
    "  8.0392609,5.3504714,2.2807428,7.6524203,7.2802571,4.6570637\n",
    "  5.0210393,1.9201287,6.7524730,11.4284631,4.7644799,2.0647705\n",
    "  2.0586914,1.7462533,9.7993866,10.6600198]"
   ]
  },
  {
   "cell_type": "code",
   "execution_count": null,
   "metadata": {},
   "outputs": [],
   "source": [
    "print(funcini(6,ech))\n",
    "print(funcinipri(6,ech))\n",
    "print(newton_raphson(6,ech)) "
   ]
  },
  {
   "cell_type": "code",
   "execution_count": null,
   "metadata": {},
   "outputs": [],
   "source": [
    "X=[ 4.2447893  4.2830497  2.0603168  3.9334899  3.5169662  7.6112976\n",
    "    3.8335827  5.1230217 15.9882702  2.5215912  2.3784191  2.3282276\n",
    "   4.8472980  2.0261051  1.2061114  3.5011387  4.9253774  1.4680982\n",
    "   1.1876043  6.8756836  6.8311320  6.7654024  2.3271762  4.9157231\n",
    "   6.6702648  2.0398406  0.9786235  5.6254607  0.4778502  4.8420302\n",
    "   4.4396239  1.7944357  4.4708915  2.0921305  7.2004631  3.5355366\n",
    "   3.1092457  5.4241363  4.8907554  1.5044328  1.9859348  1.8783623\n",
    "   3.2947313  1.9120886  7.4987368  2.3667501  3.4493769  3.2175975\n",
    "  7.1379388  0.6226063 12.9087301  2.4751741  5.0202225  4.2468529\n",
    "   2.5796491  7.1407554  4.6357890  2.4678669 16.6335254  3.5388995\n",
    "   2.6612642  3.6482101  3.1514017  4.2839855  1.1247442  3.9406172\n",
    "  5.3105451  2.8904607  1.2756063  1.8589899  1.4725715  7.2706597\n",
    "  12.2235597  2.7740830  6.4814779  0.9934340  4.8223044  3.1678902\n",
    "   1.7527557  2.9833641  6.3443925  3.9644725 14.5471192  5.3443978\n",
    "   2.6988327  6.3316748  4.0778820  0.3749494  1.6351525  3.4210456\n",
    " 3.2436252  7.6526047  7.1344904  3.3977348  5.1119813  3.0308592\n",
    "  6.0452808  8.1023481  2.2548215  4.6340650]"
   ]
  },
  {
   "cell_type": "code",
   "execution_count": null,
   "metadata": {},
   "outputs": [],
   "source": [
    "z = sympy.Symbol('z')\n",
    "b=sympy.diff(sympy.gamma(z))/sympy.gamma(z)\n",
    "b"
   ]
  },
  {
   "cell_type": "code",
   "execution_count": null,
   "metadata": {},
   "outputs": [],
   "source": []
  }
 ],
 "metadata": {
  "kernelspec": {
   "display_name": "Python 3",
   "language": "python",
   "name": "python3"
  },
  "language_info": {
   "codemirror_mode": {
    "name": "ipython",
    "version": 3
   },
   "file_extension": ".py",
   "mimetype": "text/x-python",
   "name": "python",
   "nbconvert_exporter": "python",
   "pygments_lexer": "ipython3",
   "version": "3.7.4"
  }
 },
 "nbformat": 4,
 "nbformat_minor": 4
}
