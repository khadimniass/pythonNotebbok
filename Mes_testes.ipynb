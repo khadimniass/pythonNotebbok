{
 "cells": [
  {
   "cell_type": "code",
   "execution_count": 16,
   "metadata": {
    "scrolled": false
   },
   "outputs": [
    {
     "name": "stdout",
     "output_type": "stream",
     "text": [
      "A B C D E F G H I J K L M N O P Q R S T U V W X Y Z "
     ]
    }
   ],
   "source": [
    "import string\n",
    "for i in string.ascii_uppercase:\n",
    "    print(i,end=' ')"
   ]
  },
  {
   "cell_type": "code",
   "execution_count": 4,
   "metadata": {},
   "outputs": [],
   "source": [
    "dico={\"A\":0,\"B\":1,\"C\":2,\"D\":3,\"E\":4,\"F\":5,\"G\":6,\"H\":7,\"I\":8,\"J\":9,\"K\":10,\"L\":11,\"M\":12,\"N\":13,\"O\":14,\"P\":15,\"Q\":16,\"R\":17,\"S\":18,\"T\":19,\"U\":20,\"V\":21,\"W\":22,\"X\":23,\"Y\":24,\"Z\":25}"
   ]
  },
  {
   "cell_type": "code",
   "execution_count": 80,
   "metadata": {},
   "outputs": [
    {
     "name": "stdout",
     "output_type": "stream",
     "text": [
      "0 1 2 3 4 5 6 7 8 9 10 11 12 13 14 15 16 17 18 19 20 21 22 23 24 25 "
     ]
    }
   ],
   "source": [
    "for k in range(26):\n",
    "    print(k, end=' ')"
   ]
  },
  {
   "cell_type": "markdown",
   "metadata": {},
   "source": [
    "#  PGCD(k1,26)"
   ]
  },
  {
   "cell_type": "code",
   "execution_count": 33,
   "metadata": {},
   "outputs": [
    {
     "name": "stdout",
     "output_type": "stream",
     "text": [
      "1\n"
     ]
    }
   ],
   "source": [
    "def pgcd(a,b):\n",
    "    \"\"\"pgcd(a,b): calcul du 'Plus Grand Commun Diviseur' entre les 2 nombres entiers a et b\"\"\"\n",
    "    if b==0:\n",
    "        return a\n",
    "    else:\n",
    "        r=a%b\n",
    "        return pgcd(b,r)\n",
    " \n",
    "# Exemple d'utilisation:\n",
    "print(pgcd(26,1))"
   ]
  },
  {
   "cell_type": "code",
   "execution_count": 173,
   "metadata": {},
   "outputs": [
    {
     "name": "stdout",
     "output_type": "stream",
     "text": [
      "[1, 3, 5, 7, 9, 11, 15, 17, 19, 21, 23, 25]\n"
     ]
    },
    {
     "data": {
      "text/plain": [
       "12"
      ]
     },
     "execution_count": 173,
     "metadata": {},
     "output_type": "execute_result"
    }
   ],
   "source": [
    "L=[i for i in range(26) if pgcd(i,26)==1]\n",
    "print(L)\n",
    "len(L)"
   ]
  },
  {
   "cell_type": "code",
   "execution_count": 6,
   "metadata": {},
   "outputs": [],
   "source": [
    "import numpy\n",
    "import random \n",
    "import math\n",
    "import unidecode\n",
    "def genkey_affine():\n",
    "    #generation de k1\n",
    "    espace_key_k1=[1,3,5,7,9,11,15,17,19,21,23,25]\n",
    "    k1=random.choice(espace_key_k1)\n",
    "    #generation de k2\n",
    "    k2=random.randint(0,25)\n",
    "    print(\"(k1,k2)={},{}\".format(k1,k2))"
   ]
  },
  {
   "cell_type": "code",
   "execution_count": 175,
   "metadata": {},
   "outputs": [],
   "source": [
    "dico={\"A\":0,\"B\":1,\"C\":2,\"D\":3,\"E\":4,\"F\":5,\"G\":6,\"H\":7,\"I\":8,\"J\":9,\"K\":10,\"L\":11,\"M\":12,\"N\":13,\"O\":14,\"P\":15,\"Q\":16,\"R\":17,\"S\":18,\"T\":19,\"U\":20,\"V\":21,\"W\":22,\"X\":23,\"Y\":24,\"Z\":25}"
   ]
  },
  {
   "cell_type": "code",
   "execution_count": 240,
   "metadata": {},
   "outputs": [],
   "source": [
    "def cipher_affine(k1,k2,message):\n",
    "    message=str(message)\n",
    "    message=unidecode.unidecode(message)\n",
    "    caract_message=list(message.upper())\n",
    "    # 4\n",
    "    chiffre=[]\n",
    "#    print('----------CHIFFRE----------')\n",
    "    for i in caract_message:\n",
    "        c=(k1*dico.get(i,i)+k2)%26\n",
    "        chiffre.append(list(dico.keys())[list(dico.values()).index(c)])\n",
    "        chiffre=\"\".join(chiffre)\n",
    "    return chiffre"
   ]
  },
  {
   "cell_type": "code",
   "execution_count": 257,
   "metadata": {},
   "outputs": [],
   "source": [
    "def genkey_affine():\n",
    "    k1=random.choice(espace_key_k1)\n",
    "    #generation de k2\n",
    "    k2=random.randint(0,25)\n",
    "    return(k1,k2)\n",
    "key1,key2=genkey_affine()\n"
   ]
  },
  {
   "cell_type": "code",
   "execution_count": 260,
   "metadata": {},
   "outputs": [
    {
     "name": "stdout",
     "output_type": "stream",
     "text": [
      "17\n"
     ]
    },
    {
     "data": {
      "text/plain": [
       "[23]"
      ]
     },
     "execution_count": 260,
     "metadata": {},
     "output_type": "execute_result"
    }
   ],
   "source": [
    "print(key1)\n",
    "#L=[1, 3, 5, 7, 9, 11, 15, 17, 19, 21, 23, 25]\n",
    "def inverseK1(key1):\n",
    "    invk1=[i for i in L if key1*i%26==1]\n",
    "    return invk1\n",
    "inverseK1(int(key1))"
   ]
  },
  {
   "cell_type": "code",
   "execution_count": 261,
   "metadata": {},
   "outputs": [
    {
     "name": "stdout",
     "output_type": "stream",
     "text": [
      "(k1,k2)=(11,12)\n"
     ]
    }
   ],
   "source": [
    "#generation de cles\n",
    "#generation de k1\n",
    "espace_key_k1=[1,3,5,7,9,11,15,17,19,21,23,25]\n",
    "k1=random.choice(espace_key_k1)\n",
    "#generation de k2\n",
    "k2=random.randint(0,25)\n",
    "print(\"(k1,k2)=({},{})\".format(k1,k2))"
   ]
  },
  {
   "cell_type": "code",
   "execution_count": 7,
   "metadata": {},
   "outputs": [
    {
     "ename": "NameError",
     "evalue": "name 'genkey_affine' is not defined",
     "output_type": "error",
     "traceback": [
      "\u001b[1;31m---------------------------------------------------------------------------\u001b[0m",
      "\u001b[1;31mNameError\u001b[0m                                 Traceback (most recent call last)",
      "\u001b[1;32m<ipython-input-7-efa7c3b5fb6e>\u001b[0m in \u001b[0;36m<module>\u001b[1;34m\u001b[0m\n\u001b[1;32m----> 1\u001b[1;33m \u001b[0mkey1\u001b[0m\u001b[1;33m,\u001b[0m\u001b[0mkey2\u001b[0m\u001b[1;33m=\u001b[0m\u001b[0mgenkey_affine\u001b[0m\u001b[1;33m(\u001b[0m\u001b[1;33m)\u001b[0m\u001b[1;33m\u001b[0m\u001b[1;33m\u001b[0m\u001b[0m\n\u001b[0m\u001b[0;32m      2\u001b[0m \u001b[0mprint\u001b[0m\u001b[1;33m(\u001b[0m\u001b[0mkey1\u001b[0m\u001b[1;33m,\u001b[0m\u001b[0mkey2\u001b[0m\u001b[1;33m)\u001b[0m\u001b[1;33m\u001b[0m\u001b[1;33m\u001b[0m\u001b[0m\n",
      "\u001b[1;31mNameError\u001b[0m: name 'genkey_affine' is not defined"
     ]
    }
   ],
   "source": [
    "key1,key2=genkey_affine()\n",
    "print(key1,key2)"
   ]
  },
  {
   "cell_type": "code",
   "execution_count": 5,
   "metadata": {},
   "outputs": [],
   "source": [
    "def cipher_affine(invk1,k2,chiffre):\n",
    "    chiffre=str(chiffre)\n",
    "    caract_chiffre=list(chiffre)\n",
    "    message=[]\n",
    "    print('----------MESSAGE EN CLAIR----------')\n",
    "    for i in caract_chiffre:\n",
    "        m=(invk1*dico.get(i,i)-k2)%26\n",
    "        message.append(list(dico.keys())[list(dico.values()).index(m)])\n",
    "        message=\"\".join(chiffre)\n",
    "    return message"
   ]
  },
  {
   "cell_type": "code",
   "execution_count": 5,
   "metadata": {},
   "outputs": [
    {
     "ename": "NameError",
     "evalue": "name 'random' is not defined",
     "output_type": "error",
     "traceback": [
      "\u001b[1;31m---------------------------------------------------------------------------\u001b[0m",
      "\u001b[1;31mNameError\u001b[0m                                 Traceback (most recent call last)",
      "\u001b[1;32m<ipython-input-5-d8849beaa2b5>\u001b[0m in \u001b[0;36m<module>\u001b[1;34m\u001b[0m\n\u001b[1;32m----> 1\u001b[1;33m \u001b[0mk\u001b[0m\u001b[1;33m=\u001b[0m\u001b[0mrandom\u001b[0m\u001b[1;33m.\u001b[0m\u001b[0mrandint\u001b[0m\u001b[1;33m(\u001b[0m\u001b[1;36m0\u001b[0m\u001b[1;33m,\u001b[0m\u001b[1;36m25\u001b[0m\u001b[1;33m)\u001b[0m\u001b[1;33m\u001b[0m\u001b[1;33m\u001b[0m\u001b[0m\n\u001b[0m",
      "\u001b[1;31mNameError\u001b[0m: name 'random' is not defined"
     ]
    }
   ],
   "source": [
    "k=random.randint(0,25)"
   ]
  },
  {
   "cell_type": "code",
   "execution_count": null,
   "metadata": {},
   "outputs": [],
   "source": [
    "1"
   ]
  },
  {
   "cell_type": "code",
   "execution_count": 167,
   "metadata": {},
   "outputs": [
    {
     "name": "stdout",
     "output_type": "stream",
     "text": [
      "['M', 'G', 'J', 'A', 'Z', 'D', 'P', 'C', 'O', 'N', 'T', 'Q', 'I', 'S', 'E', 'F', 'Y', 'K', 'R', 'U', 'H', 'X', 'V', 'L', 'B', 'W']\n"
     ]
    }
   ],
   "source": [
    "import random\n",
    "alphabet=\"ABCDEFGHIJKLMNOPQRSTUVWXYZ\"\n",
    "alphabet=list(alphabet)\n",
    "random.shuffle(alphabet)\n",
    "print(alphabet)"
   ]
  },
  {
   "cell_type": "code",
   "execution_count": 150,
   "metadata": {},
   "outputs": [
    {
     "name": "stdout",
     "output_type": "stream",
     "text": [
      "{'A': 'P', 'B': 'M', 'C': 'E', 'D': 'V', 'E': 'L', 'F': 'J', 'G': 'B', 'H': 'Z', 'I': 'O', 'J': 'Y', 'K': 'X', 'L': 'A', 'M': 'Q', 'N': 'W', 'O': 'I', 'P': 'N', 'Q': 'C', 'R': 'U', 'S': 'G', 'T': 'H', 'U': 'K', 'V': 'D', 'W': 'R', 'X': 'F', 'Y': 'S', 'Z': 'T'}\n"
     ]
    }
   ],
   "source": [
    "dic=dico.copy()\n",
    "for i,j in enumerate(dic.keys()):\n",
    "    dic[j]=alphabet[i]\n",
    "print(dic)"
   ]
  },
  {
   "cell_type": "code",
   "execution_count": 163,
   "metadata": {},
   "outputs": [
    {
     "name": "stdout",
     "output_type": "stream",
     "text": [
      "message  :-) astou la tetu \n"
     ]
    },
    {
     "data": {
      "text/plain": [
       "'PGHIKAPHLHK'"
      ]
     },
     "execution_count": 163,
     "metadata": {},
     "output_type": "execute_result"
    }
   ],
   "source": [
    "message=str(input((\"message  :-) \")))\n",
    "message=message.replace(\" \",\"\")\n",
    "message=unidecode.unidecode(message)\n",
    "caract_message=list(message.upper())\n",
    "#cle=str(input(\"votre clé\"))\n",
    "chiffre=[]\n",
    "for lettre in caract_message:\n",
    "    chiffre.append(dic[lettre])\n",
    "chiffre=\"\".join(chiffre)\n",
    "chiffre"
   ]
  },
  {
   "cell_type": "markdown",
   "metadata": {},
   "source": [
    "# vigener"
   ]
  },
  {
   "cell_type": "code",
   "execution_count": 84,
   "metadata": {},
   "outputs": [
    {
     "ename": "SyntaxError",
     "evalue": "unexpected EOF while parsing (<ipython-input-84-e54e25911af5>, line 8)",
     "output_type": "error",
     "traceback": [
      "\u001b[1;36m  File \u001b[1;32m\"<ipython-input-84-e54e25911af5>\"\u001b[1;36m, line \u001b[1;32m8\u001b[0m\n\u001b[1;33m    \u001b[0m\n\u001b[1;37m    ^\u001b[0m\n\u001b[1;31mSyntaxError\u001b[0m\u001b[1;31m:\u001b[0m unexpected EOF while parsing\n"
     ]
    }
   ],
   "source": [
    "mes=str(input(\"entre le message\"))\n",
    "mes=mes.replace(\" \",\"\")\n",
    "mes=unidecode.unidecode(mes)\n",
    "car_mes=list(mes.upper())\n",
    "chif=[]\n",
    "iterator=0\n",
    "for let in car_mes:\n",
    "    "
   ]
  },
  {
   "cell_type": "code",
   "execution_count": 117,
   "metadata": {},
   "outputs": [],
   "source": [
    "M=\"\"\"DKR XKPGWKR MPIKUPKR WJPRIMIQKPI QP ZKR HDQR VUJR UMRSQKR HJQU\n",
    "IJQIKR DKR JUVGPMRGIMJPR N WJXHUMR WKDDKR GQ RKPKVGD DKR KXHDJNKR ZKR\n",
    "JUVGPMRGIMJPR GNGPI GWWKR GQY RNRIKXKR KI GQY ZJPPKKR WUMIMSQKR RJPI \n",
    "KQYXKXKR QPK XKPGWK WGU HJQAGPI WGQRKU ZKR\n",
    "ZJXXGVKR BMPGPWMKUR KI ZKR ZJXXGVKR G DG UKHQIGIMJP G IUGAKUR DK\n",
    "AJD ZK ZJPPKKR RKPRMODKR WKR KXHDJNKR HKQAKPI KVGDKXKPI QIMDMRKU\n",
    "DKQU WJPPGMRRGPWK ZK DJUVGPMRGIMJP ZGPR DK OQI ZK HKUXKIIUK JQ ZK\n",
    "HKUHKIUKU QPK GIIGSQK AMRGPI G HKUIQUOKU DK OJP BJPWIMJPPKXKPI ZK\n",
    "DKQU JUVGPMRGIMJP JQIUK WKR GWIKR ZKDMOKUKR DKR\n",
    "KXHDJNKR HKQAKPI WGQRKU ZKR ZJXXGVKR HGU MPGZAKUIGPWK ZQ BGMI\n",
    "ZK DKQU MVPJUGPWK ZKR HUJWKZQUKR ZK RKWQUMIK ZK DJUVGPMRGIMJP\n",
    "PJIGXXKPI HGU DK IKDKWFGUVKXKPI ZKR WJPIKPQR PJP RQUR DQRGVK ZK\n",
    "HKUMHFKUMSQKR MPBKWIKR JQ KP JQAUGPI ZQ WJQUUMKD ZFGXKWJPPGVK\n",
    "WKR KXHDJNKR HKQAKPI KVGDKXKPI ZKAKPMU ZKR AMWIMXKR ZGWIKR\n",
    "ZMPVKPMKUMK RJWMGDK G IUGAKUR DKRSQKDR MDR ZJPPKPI GDJUR HGU\n",
    "MVPJUGPWK GWWKR G DKQUR UKRKGQY JQ KYKWQIKPI ZKR MPRIUQWIMJPR\n",
    "GQY GHHGUKPWKR MPJBBKPRMAKR XGMR HUJBMIGPI GQY WNOKUWUMXMPKDR G WKI KVGUZ DG HUKRMZKPWK ZK DG UKHQODMSQK GVMRRGPI HGU\n",
    "DMPIKUXKZMGMUK ZK DG WJXXMRRMJP PGIMJPGDK ZK WUNHIJDJVMK WPW G\n",
    "HUMR DKR ZKAGPIR KI G HUKRWUMI ZKR XKRQUKR ZKIGMDDKKR UKDGIMAKR\n",
    "G DG HJDMIMSQK ZK RKWQUMIK ZKR RNRIKXKR ZMPBJUXGIMJP ZK DKIGI ZQ\n",
    "RKPKVGD HRRMKR\n",
    "\"\"\""
   ]
  },
  {
   "cell_type": "code",
   "execution_count": 121,
   "metadata": {},
   "outputs": [
    {
     "data": {
      "text/plain": [
       "'DKR XKPGWKR MPIKUPKR WJPRIMIQKPI QP ZKR HDQR VUJR UMRSQKR HJQU\\nIJQIKR DKR JUVGPMRGIMJPR N WJXHUMR WKDDKR GQ RKPKVGD DKR KXHDJNKR ZKR\\nJUVGPMRGIMJPR GNGPI GWWKR GQY RNRIKXKR KI GQY ZJPPKKR WUMIMSQKR RJPI \\nKQYXKXKR QPK XKPGWK WGU HJQAGPI WGQRKU ZKR\\nZJXXGVKR BMPGPWMKUR KI ZKR ZJXXGVKR G DG UKHQIGIMJP G IUGAKUR DK\\nAJD ZK ZJPPKKR RKPRMODKR WKR KXHDJNKR HKQAKPI KVGDKXKPI QIMDMRKU\\nDKQU WJPPGMRRGPWK ZK DJUVGPMRGIMJP ZGPR DK OQI ZK HKUXKIIUK JQ ZK\\nHKUHKIUKU QPK GIIGSQK AMRGPI G HKUIQUOKU DK OJP BJPWIMJPPKXKPI ZK\\nDKQU JUVGPMRGIMJP JQIUK WKR GWIKR ZKDMOKUKR DKR\\nKXHDJNKR HKQAKPI WGQRKU ZKR ZJXXGVKR HGU MPGZAKUIGPWK ZQ BGMI\\nZK DKQU MVPJUGPWK ZKR HUJWKZQUKR ZK RKWQUMIK ZK DJUVGPMRGIMJP\\nPJIGXXKPI HGU DK IKDKWFGUVKXKPI ZKR WJPIKPQR PJP RQUR DQRGVK ZK\\nHKUMHFKUMSQKR MPBKWIKR JQ KP JQAUGPI ZQ WJQUUMKD ZFGXKWJPPGVK\\nWKR KXHDJNKR HKQAKPI KVGDKXKPI ZKAKPMU ZKR AMWIMXKR ZGWIKR\\nZMPVKPMKUMK RJWMGDK G IUGAKUR DKRSQKDR MDR ZJPPKPI GDJUR HGU\\nMVPJUGPWK GWWKR G DKQUR UKRKGQY JQ KYKWQIKPI ZKR MPRIUQWIMJPR\\nGQY GHHGUKPWKR MPJBBKPRMAKR XGMR HUJBMIGPI GQY WNOKUWUMXMPKDR G WKI KVGUZ DG HUKRMZKPWK ZK DG UKHQODMSQK GVMRRGPI HGU\\nDMPIKUXKZMGMUK ZK DG WJXXMRRMJP PGIMJPGDK ZK WUNHIJDJVMK WPW G\\nHUMR DKR ZKAGPIR KI G HUKRWUMI ZKR XKRQUKR ZKIGMDDKKR UKDGIMAKR\\nG DG HJDMIMSQK ZK RKWQUMIK ZKR RNRIKXKR ZMPBJUXGIMJP ZK DKIGI ZQ\\nRKPKVGD HRRMKR\\n'"
      ]
     },
     "execution_count": 121,
     "metadata": {},
     "output_type": "execute_result"
    }
   ],
   "source": [
    "l=len(M)\n",
    "M"
   ]
  },
  {
   "cell_type": "code",
   "execution_count": 122,
   "metadata": {},
   "outputs": [
    {
     "name": "stdout",
     "output_type": "stream",
     "text": [
      "--------------------FREQUENCE DE CHAQUE LETTRE-------------------- en %\n",
      "\n",
      "A : > 1.1424219345011426 %\n",
      "B : > 0.6092916984006093 %\n",
      "C : > 0.0 %\n",
      "D : > 4.036557501904037 %\n",
      "E : > 0.0 %\n",
      "F : > 0.2284843869002285 %\n",
      "G : > 6.9306930693069315 %\n",
      "H : > 2.513328255902513 %\n",
      "I : > 5.712109672505712 %\n",
      "J : > 4.493526275704494 %\n",
      "K : > 14.927646610814927 %\n",
      "L : > 0.0 %\n",
      "M : > 5.407463823305408 %\n",
      "N : > 0.7616146230007617 %\n",
      "I : > 0.5331302361005331 %\n",
      "P : > 6.778370144706779 %\n",
      "Q : > 4.112718964204113 %\n",
      "R : > 8.606245239908606 %\n",
      "S : > 0.5331302361005331 %\n",
      "T : > 0.0 %\n",
      "U : > 5.635948210205636 %\n",
      "V : > 1.6755521706016754 %\n",
      "W : > 3.57958872810358 %\n",
      "X : > 2.513328255902513 %\n",
      "Y : > 0.5331302361005331 %\n",
      "Z : > 3.655750190403656 %\n",
      "None\n"
     ]
    }
   ],
   "source": [
    "iA,iB,iC,iD,iE,iF,iG,iH,iI,iJ,iK,iL,iM,iN,iO,iP,iQ,iR,iS,iT,iU,iV,iW,iX,iY,iZ=0,0,0,0,0,0,0,0,0,0,0,0,0,0,0,0,0,0,0,0,0,0,0,0,0,0\n",
    "for i in M:\n",
    "    if i==\"A\":\n",
    "        iA+=1\n",
    "    elif i==\"B\":\n",
    "        iB+=1\n",
    "    elif i==\"C\":\n",
    "        iC+=1\n",
    "    elif i==\"D\":\n",
    "        iD+=1\n",
    "    elif i==\"E\":\n",
    "        iE+=1\n",
    "    elif i==\"F\":\n",
    "        iF+=1\n",
    "    elif i==\"G\":\n",
    "        iG+=1\n",
    "    elif i==\"H\":\n",
    "        iH+=1\n",
    "    elif i==\"I\":\n",
    "        iI+=1\n",
    "    elif i==\"J\":\n",
    "        iJ+=1\n",
    "    elif i==\"K\":\n",
    "        iK+=1\n",
    "    elif i==\"L\":\n",
    "        iL+=1\n",
    "    elif i==\"M\":\n",
    "        iM+=1\n",
    "    elif i==\"N\":\n",
    "        iN+=1\n",
    "    elif i==\"O\":\n",
    "        iO+=1\n",
    "    elif i==\"P\":\n",
    "        iP+=1\n",
    "    elif i==\"Q\":\n",
    "        iQ+=1\n",
    "    elif i==\"R\":\n",
    "        iR+=1\n",
    "    elif i==\"S\":\n",
    "        iS+=1\n",
    "    elif i==\"T\":\n",
    "        iI+=1\n",
    "    elif i==\"U\":\n",
    "        iU+=1\n",
    "    elif i==\"V\":\n",
    "        iV+=1\n",
    "    elif i==\"W\":\n",
    "        iW+=1\n",
    "    elif i==\"X\":\n",
    "        iX+=1\n",
    "    elif i==\"Y\":\n",
    "        iY+=1\n",
    "    elif i==\"Z\":\n",
    "        iZ+=1\n",
    "print(\"--------------------FREQUENCE DE CHAQUE LETTRE-------------------- en %\\n\")\n",
    "print(\"A : >\",(iA/l)*100,\"%\")\n",
    "print(\"B : >\",(iB/l)*100,\"%\")\n",
    "print(\"C : >\",(iC/l)*100,\"%\")\n",
    "print(\"D : >\",(iD/l)*100,\"%\")\n",
    "print(\"E : >\",(iE/l)*100,\"%\")\n",
    "print(\"F : >\",(iF/l)*100,\"%\")\n",
    "print(\"G : >\",(iG/l)*100,\"%\")\n",
    "print(\"H : >\",(iH/l)*100,\"%\")\n",
    "print(\"I : >\",(iI/l)*100,\"%\")\n",
    "print(\"J : >\",(iJ/l)*100,\"%\")\n",
    "print(\"K : >\",(iK/l)*100,\"%\")\n",
    "print(\"L : >\",(iL/l)*100,\"%\")\n",
    "print(\"M : >\",(iM/l)*100,\"%\")\n",
    "print(\"N : >\",(iN/l)*100,\"%\")\n",
    "print(\"I : >\",(iO/l)*100,\"%\")\n",
    "print(\"P : >\",(iP/l)*100,\"%\")\n",
    "print(\"Q : >\",(iQ/l)*100,\"%\")\n",
    "print(\"R : >\",(iR/l)*100,\"%\")\n",
    "print(\"S : >\",(iS/l)*100,\"%\")\n",
    "print(\"T : >\",(iT/l)*100,\"%\")\n",
    "print(\"U : >\",(iU/l)*100,\"%\")\n",
    "print(\"V : >\",(iV/l)*100,\"%\")\n",
    "print(\"W : >\",(iW/l)*100,\"%\")\n",
    "print(\"X : >\",(iX/l)*100,\"%\")\n",
    "print(\"Y : >\",(iY/l)*100,\"%\")\n",
    "print(\"Z : >\",(iZ/l)*100,\"%\")\n",
    "L=[iA,iB,iC,iD,iE,iF,iG,iH,iI,iJ,iK,iL,iM,iN,iO,iP,iQ,iR,iS,iT,iU,iV,iW,iX,iY,iZ]\n",
    "print(L.sort())"
   ]
  },
  {
   "cell_type": "code",
   "execution_count": 142,
   "metadata": {},
   "outputs": [
    {
     "data": {
      "text/plain": [
       "'WJARIMIQKAI'"
      ]
     },
     "execution_count": 142,
     "metadata": {},
     "output_type": "execute_result"
    }
   ],
   "source": [
    "#M=M.replace(\"H\",\"C\")\n",
    "M"
   ]
  },
  {
   "cell_type": "code",
   "execution_count": 188,
   "metadata": {},
   "outputs": [
    {
     "data": {
      "text/plain": [
       "11"
      ]
     },
     "execution_count": 188,
     "metadata": {},
     "output_type": "execute_result"
    }
   ],
   "source": [
    "len('WJPRIMIQKPI')"
   ]
  },
  {
   "cell_type": "markdown",
   "metadata": {},
   "source": [
    "## les lettres dominantes sont qppqrues dqns cette ordre:\n",
    "# k>r>g>p>i>u>m>j>q>d>z>w>x>h>v>a>n>b>(i=s=y)>f>\n",
    "### Donc essayons de remplacer lettre par lettre suivant les fréquence d'apprution\n",
    "# e>a>s>i>n>t>r>l>u>o>d>p>m>c>b>v>g>f>"
   ]
  },
  {
   "cell_type": "code",
   "execution_count": 10,
   "metadata": {},
   "outputs": [
    {
     "ename": "NameError",
     "evalue": "name 'M' is not defined",
     "output_type": "error",
     "traceback": [
      "\u001b[1;31m---------------------------------------------------------------------------\u001b[0m",
      "\u001b[1;31mNameError\u001b[0m                                 Traceback (most recent call last)",
      "\u001b[1;32m<ipython-input-10-f3e8788da83b>\u001b[0m in \u001b[0;36m<module>\u001b[1;34m\u001b[0m\n\u001b[1;32m----> 1\u001b[1;33m \u001b[0mM\u001b[0m\u001b[1;33m\u001b[0m\u001b[1;33m\u001b[0m\u001b[0m\n\u001b[0m",
      "\u001b[1;31mNameError\u001b[0m: name 'M' is not defined"
     ]
    }
   ],
   "source": [
    "M"
   ]
  },
  {
   "cell_type": "code",
   "execution_count": 9,
   "metadata": {},
   "outputs": [
    {
     "ename": "NameError",
     "evalue": "name 'M' is not defined",
     "output_type": "error",
     "traceback": [
      "\u001b[1;31m---------------------------------------------------------------------------\u001b[0m",
      "\u001b[1;31mNameError\u001b[0m                                 Traceback (most recent call last)",
      "\u001b[1;32m<ipython-input-9-f3e8788da83b>\u001b[0m in \u001b[0;36m<module>\u001b[1;34m\u001b[0m\n\u001b[1;32m----> 1\u001b[1;33m \u001b[0mM\u001b[0m\u001b[1;33m\u001b[0m\u001b[1;33m\u001b[0m\u001b[0m\n\u001b[0m",
      "\u001b[1;31mNameError\u001b[0m: name 'M' is not defined"
     ]
    }
   ],
   "source": [
    "M"
   ]
  },
  {
   "cell_type": "code",
   "execution_count": 32,
   "metadata": {},
   "outputs": [],
   "source": [
    "M=M.replace(\"R\",\"A\")"
   ]
  },
  {
   "cell_type": "code",
   "execution_count": 33,
   "metadata": {},
   "outputs": [],
   "source": [
    "M=M.replace(\"G\",\"S\")"
   ]
  },
  {
   "cell_type": "code",
   "execution_count": 34,
   "metadata": {},
   "outputs": [],
   "source": [
    "M=M.replace(\"P\",\"I\")"
   ]
  },
  {
   "cell_type": "code",
   "execution_count": 35,
   "metadata": {},
   "outputs": [],
   "source": [
    "M=M.replace(\"I\",\"N\")"
   ]
  },
  {
   "cell_type": "code",
   "execution_count": 36,
   "metadata": {},
   "outputs": [],
   "source": [
    "M=M.replace(\"U\",\"T\")"
   ]
  },
  {
   "cell_type": "code",
   "execution_count": 37,
   "metadata": {},
   "outputs": [],
   "source": [
    "M=M.replace(\"M\",\"R\")"
   ]
  },
  {
   "cell_type": "code",
   "execution_count": 38,
   "metadata": {},
   "outputs": [],
   "source": [
    "M=M.replace(\"J\",\"L\")"
   ]
  },
  {
   "cell_type": "code",
   "execution_count": 39,
   "metadata": {},
   "outputs": [],
   "source": [
    "M=M.replace(\"Q\",\"U\")"
   ]
  },
  {
   "cell_type": "code",
   "execution_count": 40,
   "metadata": {},
   "outputs": [],
   "source": [
    "M=M.replace(\"D\",\"O\")"
   ]
  },
  {
   "cell_type": "code",
   "execution_count": 41,
   "metadata": {},
   "outputs": [],
   "source": [
    "M=M.replace(\"Z\",\"D\")"
   ]
  },
  {
   "cell_type": "code",
   "execution_count": 98,
   "metadata": {},
   "outputs": [
    {
     "data": {
      "text/plain": [
       "'DKR XKPGWKR MPIKUPKR WJPRIMIQKPI QP ZKR HDQR VUJR UMRSQKR HJQU\\nIJQIKR DKR JUVGPMRGIMJPR N WJXHUMR WKDDKR GQ RKPKVGD DKR KXHDJNKR ZKR JUVGPMRGIMJPR GNGPI GWWKR GQY RNRIKXKR KI GQY ZJPPKKR WUMIMSQKR RJPI KQYXKXKR QPK XKPGWK WGU HJQAGPI WGQRKU ZKR\\nZJXXGVKR BMPGPWMKUR KI ZKR ZJXXGVKR G DG UKHQIGIMJP G IUGAKUR DK\\nAJD ZK ZJPPKKR RKPRMODKR WKR KXHDJNKR HKQAKPI KVGDKXKPI QIMDMRKU DKQU WJPPGMRRGPWK ZK DJUVGPMRGIMJP ZGPR DK OQI ZK HKUXKIIUK JQ ZK HKUHKIUKU QPK GIIGSQK AMRGPI G HKUIQUOKU DK OJP BJPWIMJPPKXKPI ZK DKQU JUVGPMRGIMJP JQIUK WKR GWIKR ZKDMOKUKR DKR\\nKXHDJNKR HKQAKPI WGQRKU ZKR ZJXXGVKR HGU MPGZAKUIGPWK ZQ BGMI\\nZK DKQU MVPJUGPWK ZKR HUJWKZQUKR ZK RKWQUMIK ZK DJUVGPMRGIMJP\\nPJIGXXKPI HGU DK IKDKWFGUVKXKPI ZKR WJPIKPQR PJP RQUR DQRGVK ZK\\nHKUMHFKUMSQKR MPBKWIKR JQ KP JQAUGPI ZQ WJQUUMKD ZFGXKWJPPGVK\\nWKR KXHDJNKR HKQAKPI KVGDKXKPI ZKAKPMU ZKR AMWIMXKR ZGWIKR\\nZMPVKPMKUMK RJWMGDK G IUGAKUR DKRSQKDR MDR ZJPPKPI GDJUR HGU\\nMVPJUGPWK GWWKR G DKQUR UKRKGQY JQ KYKWQIKPI ZKR MPRIUQWIMJPR\\nGQY GHHGUKPWKR MPJBBKPRMAKR XGMR HUJBMIGPI GQY WNOKUWUMXMPKDR G WKI KVGUZ DG HUKRMZKPWK ZK DG UKHQODMSQK GVMRRGPI HGU\\nDMPIKUXKZMGMUK ZK DG WJXXMRRMJP PGIMJPGDK ZK WUNHIJDJVMK WPW G\\nHUMR DKR ZKAGPIR KI G HUKRWUMI ZKR XKRQUKR ZKIGMDDKKR UKDGIMAKR\\nG DG HJDMIMSQK ZK RKWQUMIK ZKR RNRIKXKR ZMPBJUXGIMJP ZK DKIGI ZQ\\nRKPKVGD HRRMKR'"
      ]
     },
     "execution_count": 98,
     "metadata": {},
     "output_type": "execute_result"
    }
   ],
   "source": [
    "M"
   ]
  },
  {
   "cell_type": "code",
   "execution_count": 43,
   "metadata": {},
   "outputs": [
    {
     "ename": "NameError",
     "evalue": "name 'caract_message_decalage' is not defined",
     "output_type": "error",
     "traceback": [
      "\u001b[1;31m---------------------------------------------------------------------------\u001b[0m",
      "\u001b[1;31mNameError\u001b[0m                                 Traceback (most recent call last)",
      "\u001b[1;32m<ipython-input-43-2a18a45da0da>\u001b[0m in \u001b[0;36m<module>\u001b[1;34m\u001b[0m\n\u001b[1;32m----> 1\u001b[1;33m \u001b[1;32mfor\u001b[0m \u001b[0mi\u001b[0m \u001b[1;32min\u001b[0m \u001b[0mcaract_message_decalage\u001b[0m\u001b[1;33m:\u001b[0m\u001b[1;33m\u001b[0m\u001b[1;33m\u001b[0m\u001b[0m\n\u001b[0m\u001b[0;32m      2\u001b[0m        \u001b[0mc\u001b[0m\u001b[1;33m=\u001b[0m\u001b[1;33m(\u001b[0m\u001b[0mk_deca\u001b[0m\u001b[1;33m+\u001b[0m\u001b[0mdico\u001b[0m\u001b[1;33m.\u001b[0m\u001b[0mget\u001b[0m\u001b[1;33m(\u001b[0m\u001b[0mi\u001b[0m\u001b[1;33m,\u001b[0m\u001b[0mi\u001b[0m\u001b[1;33m)\u001b[0m\u001b[1;33m)\u001b[0m\u001b[1;33m%\u001b[0m\u001b[1;36m26\u001b[0m\u001b[1;33m\u001b[0m\u001b[1;33m\u001b[0m\u001b[0m\n\u001b[0;32m      3\u001b[0m        \u001b[0mchiffre_decalage\u001b[0m\u001b[1;33m.\u001b[0m\u001b[0mappend\u001b[0m\u001b[1;33m(\u001b[0m\u001b[0mlist\u001b[0m\u001b[1;33m(\u001b[0m\u001b[0mdico\u001b[0m\u001b[1;33m.\u001b[0m\u001b[0mkeys\u001b[0m\u001b[1;33m(\u001b[0m\u001b[1;33m)\u001b[0m\u001b[1;33m)\u001b[0m\u001b[1;33m[\u001b[0m\u001b[0mlist\u001b[0m\u001b[1;33m(\u001b[0m\u001b[0mdico\u001b[0m\u001b[1;33m.\u001b[0m\u001b[0mvalues\u001b[0m\u001b[1;33m(\u001b[0m\u001b[1;33m)\u001b[0m\u001b[1;33m)\u001b[0m\u001b[1;33m.\u001b[0m\u001b[0mindex\u001b[0m\u001b[1;33m(\u001b[0m\u001b[0mc\u001b[0m\u001b[1;33m)\u001b[0m\u001b[1;33m]\u001b[0m\u001b[1;33m)\u001b[0m\u001b[1;33m\u001b[0m\u001b[1;33m\u001b[0m\u001b[0m\n",
      "\u001b[1;31mNameError\u001b[0m: name 'caract_message_decalage' is not defined"
     ]
    }
   ],
   "source": [
    " for i in caract_message_decalage:\n",
    "        c=(k_deca+dico.get(i,i))%26\n",
    "        chiffre_decalage.append(list(dico.keys())[list(dico.values()).index(c)])\n"
   ]
  },
  {
   "cell_type": "code",
   "execution_count": null,
   "metadata": {},
   "outputs": [],
   "source": [
    "def␣statistiques(phrase):\n",
    "␣␣␣␣liste_stat␣=␣[0␣for␣x␣in␣range(26)]␣␣␣␣␣#␣Une␣liste␣avec␣des␣0\n",
    "␣␣␣␣for␣lettre␣in␣phrase:␣␣␣␣␣␣␣␣␣␣␣␣␣␣␣␣␣␣␣#␣On␣parcourt␣la␣phrase\n",
    "␣␣␣␣␣␣␣␣i␣=␣ord(lettre)-65\n",
    "␣␣␣␣␣␣␣␣if␣0␣<=␣i␣<␣26:␣␣␣␣␣␣␣␣␣␣␣␣␣␣␣␣␣␣␣␣␣#␣Si␣c'est␣une␣vraie␣lettre\n",
    "␣␣␣␣␣␣␣␣␣␣liste_stat[i]␣=␣liste_stat[i]␣+␣1\n",
    "␣␣␣␣return(liste_stat"
   ]
  },
  {
   "cell_type": "markdown",
   "metadata": {},
   "source": [
    "## calcul de fréquence"
   ]
  },
  {
   "cell_type": "code",
   "execution_count": 90,
   "metadata": {},
   "outputs": [
    {
     "name": "stdout",
     "output_type": "stream",
     "text": [
      "entrez---::) x\n"
     ]
    },
    {
     "ename": "TypeError",
     "evalue": "can only concatenate str (not \"int\") to str",
     "output_type": "error",
     "traceback": [
      "\u001b[1;31m---------------------------------------------------------------------------\u001b[0m",
      "\u001b[1;31mTypeError\u001b[0m                                 Traceback (most recent call last)",
      "\u001b[1;32m<ipython-input-90-b5fe77f08142>\u001b[0m in \u001b[0;36m<module>\u001b[1;34m\u001b[0m\n\u001b[0;32m      6\u001b[0m     \u001b[0mi\u001b[0m\u001b[1;33m=\u001b[0m\u001b[0mord\u001b[0m\u001b[1;33m(\u001b[0m\u001b[0mlet\u001b[0m\u001b[1;33m)\u001b[0m\u001b[1;33m-\u001b[0m\u001b[1;36m65\u001b[0m\u001b[1;33m\u001b[0m\u001b[1;33m\u001b[0m\u001b[0m\n\u001b[0;32m      7\u001b[0m     \u001b[1;32mif\u001b[0m \u001b[1;36m0\u001b[0m\u001b[1;33m<=\u001b[0m\u001b[0mi\u001b[0m\u001b[1;33m<\u001b[0m\u001b[1;36m26\u001b[0m\u001b[1;33m:\u001b[0m\u001b[1;33m\u001b[0m\u001b[1;33m\u001b[0m\u001b[0m\n\u001b[1;32m----> 8\u001b[1;33m         \u001b[0mliste_stat\u001b[0m\u001b[1;33m[\u001b[0m\u001b[0mi\u001b[0m\u001b[1;33m]\u001b[0m\u001b[1;33m=\u001b[0m\u001b[0mliste_stat\u001b[0m\u001b[1;33m[\u001b[0m\u001b[0mi\u001b[0m\u001b[1;33m]\u001b[0m\u001b[1;33m+\u001b[0m\u001b[1;36m1\u001b[0m\u001b[1;33m\u001b[0m\u001b[1;33m\u001b[0m\u001b[0m\n\u001b[0m\u001b[0;32m      9\u001b[0m \u001b[0mprint\u001b[0m\u001b[1;33m(\u001b[0m\u001b[0mliste_stat\u001b[0m\u001b[1;33m)\u001b[0m\u001b[1;33m\u001b[0m\u001b[1;33m\u001b[0m\u001b[0m\n",
      "\u001b[1;31mTypeError\u001b[0m: can only concatenate str (not \"int\") to str"
     ]
    }
   ],
   "source": [
    "mes=str(input(\"entrez---::) \"))\n",
    "mes=mes.upper()\n",
    "mes=list(mes)\n",
    "liste_stat=[\"O\"*x for x in range(26)]\n",
    "for let in mes:\n",
    "    i=ord(let)-65\n",
    "    if 0<=i<26:\n",
    "        liste_stat[i]=liste_stat[i]+1\n",
    "print(liste_stat)"
   ]
  },
  {
   "cell_type": "code",
   "execution_count": 176,
   "metadata": {},
   "outputs": [],
   "source": [
    "import string\n",
    "def cesar(chaine,dec) :\n",
    "    alph=string.ascii_uppercase\n",
    "    s=chaine.upper()\n",
    "    return s.translate(str.maketrans(alph,alph[dec:]+alph[:dec]))"
   ]
  },
  {
   "cell_type": "code",
   "execution_count": 178,
   "metadata": {},
   "outputs": [
    {
     "data": {
      "text/plain": [
       "''"
      ]
     },
     "execution_count": 178,
     "metadata": {},
     "output_type": "execute_result"
    }
   ],
   "source": [
    "cesar(\"\",0)"
   ]
  },
  {
   "cell_type": "markdown",
   "metadata": {},
   "source": [
    "# windav"
   ]
  },
  {
   "cell_type": "code",
   "execution_count": 63,
   "metadata": {},
   "outputs": [
    {
     "data": {
      "text/plain": [
       "33"
      ]
     },
     "execution_count": 63,
     "metadata": {},
     "output_type": "execute_result"
    }
   ],
   "source": [
    "2630538516305%97"
   ]
  },
  {
   "cell_type": "markdown",
   "metadata": {},
   "source": [
    "### suite alternée"
   ]
  },
  {
   "cell_type": "code",
   "execution_count": 82,
   "metadata": {},
   "outputs": [
    {
     "name": "stdout",
     "output_type": "stream",
     "text": [
      "entrez un entier:::) 5\n",
      "1\n",
      "-2\n",
      "6\n",
      "-24\n",
      "120\n"
     ]
    }
   ],
   "source": [
    "n=int(input(\"entrez un entier:::) \"))\n",
    "f=1\n",
    "for i in range(1,n+1):\n",
    "   f*=i\n",
    "   if(i%2==0):\n",
    "        print(-f)\n",
    "   else:\n",
    "        print(f)"
   ]
  },
  {
   "cell_type": "code",
   "execution_count": 1,
   "metadata": {},
   "outputs": [
    {
     "name": "stdout",
     "output_type": "stream",
     "text": [
      "The Zen of Python, by Tim Peters\n",
      "\n",
      "Beautiful is better than ugly.\n",
      "Explicit is better than implicit.\n",
      "Simple is better than complex.\n",
      "Complex is better than complicated.\n",
      "Flat is better than nested.\n",
      "Sparse is better than dense.\n",
      "Readability counts.\n",
      "Special cases aren't special enough to break the rules.\n",
      "Although practicality beats purity.\n",
      "Errors should never pass silently.\n",
      "Unless explicitly silenced.\n",
      "In the face of ambiguity, refuse the temptation to guess.\n",
      "There should be one-- and preferably only one --obvious way to do it.\n",
      "Although that way may not be obvious at first unless you're Dutch.\n",
      "Now is better than never.\n",
      "Although never is often better than *right* now.\n",
      "If the implementation is hard to explain, it's a bad idea.\n",
      "If the implementation is easy to explain, it may be a good idea.\n",
      "Namespaces are one honking great idea -- let's do more of those!\n"
     ]
    }
   ],
   "source": [
    "import this"
   ]
  },
  {
   "cell_type": "code",
   "execution_count": 3,
   "metadata": {},
   "outputs": [
    {
     "name": "stdout",
     "output_type": "stream",
     "text": [
      "Entrez un nombre3\n"
     ]
    }
   ],
   "source": [
    "n=int(input(\"Entrez un nombre\"))\n",
    "m=n%10\n",
    "    "
   ]
  },
  {
   "cell_type": "markdown",
   "metadata": {},
   "source": [
    "## Algorithme de Newton Raphson"
   ]
  },
  {
   "cell_type": "code",
   "execution_count": null,
   "metadata": {},
   "outputs": [],
   "source": [
    "def f(x):\n",
    "    return x**3+3\n",
    "\n",
    "def df(x):\n",
    "    return 3*x**2\n",
    "a=9\n",
    "for i in range(15):\n",
    "    a=a-f(a)/df(a)\n",
    "    print(a,\"Pour i= \",i)"
   ]
  },
  {
   "cell_type": "code",
   "execution_count": null,
   "metadata": {},
   "outputs": [],
   "source": []
  },
  {
   "cell_type": "code",
   "execution_count": 114,
   "metadata": {},
   "outputs": [],
   "source": [
    "l=[i for i in range(5)]"
   ]
  },
  {
   "cell_type": "code",
   "execution_count": 115,
   "metadata": {
    "scrolled": true
   },
   "outputs": [
    {
     "data": {
      "text/plain": [
       "0.0"
      ]
     },
     "execution_count": 115,
     "metadata": {},
     "output_type": "execute_result"
    }
   ],
   "source": [
    "import math\n",
    "math.log(1)"
   ]
  },
  {
   "cell_type": "code",
   "execution_count": 121,
   "metadata": {
    "scrolled": true
   },
   "outputs": [
    {
     "data": {
      "text/plain": [
       "12.80182748008147"
      ]
     },
     "execution_count": 121,
     "metadata": {},
     "output_type": "execute_result"
    }
   ],
   "source": [
    "sum([math.log(i) for i in range(1,10)])"
   ]
  },
  {
   "cell_type": "code",
   "execution_count": 117,
   "metadata": {},
   "outputs": [
    {
     "data": {
      "text/plain": [
       "10"
      ]
     },
     "execution_count": 117,
     "metadata": {},
     "output_type": "execute_result"
    }
   ],
   "source": [
    "sum(l)"
   ]
  },
  {
   "cell_type": "code",
   "execution_count": 101,
   "metadata": {},
   "outputs": [
    {
     "data": {
      "text/plain": [
       "3"
      ]
     },
     "execution_count": 101,
     "metadata": {},
     "output_type": "execute_result"
    }
   ],
   "source": [
    "abs(-3)"
   ]
  },
  {
   "cell_type": "code",
   "execution_count": null,
   "metadata": {},
   "outputs": [],
   "source": [
    "import sympy\n",
    "help(sympy.gamma)"
   ]
  },
  {
   "cell_type": "code",
   "execution_count": 151,
   "metadata": {},
   "outputs": [
    {
     "data": {
      "text/latex": [
       "$\\displaystyle 1.5$"
      ],
      "text/plain": [
       "1.50000000000000"
      ]
     },
     "execution_count": 151,
     "metadata": {},
     "output_type": "execute_result"
    }
   ],
   "source": [
    "from sympy import S, I, pi, oo, gamma\n",
    "S((3)/2)"
   ]
  },
  {
   "cell_type": "code",
   "execution_count": 152,
   "metadata": {},
   "outputs": [
    {
     "data": {
      "text/plain": [
       "1.2533141373155001"
      ]
     },
     "execution_count": 152,
     "metadata": {},
     "output_type": "execute_result"
    }
   ],
   "source": [
    "math.sqrt(pi/2)"
   ]
  },
  {
   "cell_type": "code",
   "execution_count": 143,
   "metadata": {},
   "outputs": [
    {
     "data": {
      "text/latex": [
       "$\\displaystyle 2.50021926937022$"
      ],
      "text/plain": [
       "2.50021926937022"
      ]
     },
     "execution_count": 143,
     "metadata": {},
     "output_type": "execute_result"
    }
   ],
   "source": [
    "sympy.gamma(a)"
   ]
  },
  {
   "cell_type": "code",
   "execution_count": 144,
   "metadata": {},
   "outputs": [
    {
     "data": {
      "text/plain": [
       "-1.4422495703074083"
      ]
     },
     "execution_count": 144,
     "metadata": {},
     "output_type": "execute_result"
    }
   ],
   "source": [
    "a"
   ]
  },
  {
   "cell_type": "code",
   "execution_count": 155,
   "metadata": {},
   "outputs": [
    {
     "data": {
      "text/plain": [
       "6"
      ]
     },
     "execution_count": 155,
     "metadata": {},
     "output_type": "execute_result"
    }
   ],
   "source": [
    "math.factorial(3)\n"
   ]
  },
  {
   "cell_type": "markdown",
   "metadata": {},
   "source": [
    "$\\Gamma(z) = \\int_0^\\infty t^{z-1} e^{-t} dt$"
   ]
  }
 ],
 "metadata": {
  "kernelspec": {
   "display_name": "Python 3",
   "language": "python",
   "name": "python3"
  },
  "language_info": {
   "codemirror_mode": {
    "name": "ipython",
    "version": 3
   },
   "file_extension": ".py",
   "mimetype": "text/x-python",
   "name": "python",
   "nbconvert_exporter": "python",
   "pygments_lexer": "ipython3",
   "version": "3.7.4"
  }
 },
 "nbformat": 4,
 "nbformat_minor": 2
}
