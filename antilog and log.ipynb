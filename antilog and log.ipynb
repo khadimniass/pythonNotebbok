{
 "cells": [
  {
   "cell_type": "markdown",
   "metadata": {},
   "source": [
    "## IMPLEMENTATION DES TABLES LOGARITHMIQUES "
   ]
  },
  {
   "cell_type": "markdown",
   "metadata": {},
   "source": [
    "#### MULTIPLICATION DE DEUX POLYNOMES  DANS LA BASE 2 "
   ]
  },
  {
   "cell_type": "code",
   "execution_count": 3,
   "metadata": {},
   "outputs": [],
   "source": [
    "from sympy.polys.domains import ZZ\n",
    "import numpy as np\n",
    "from sympy.polys.galoistools import gf_mul, gf_div, gf_add_mul"
   ]
  },
  {
   "cell_type": "code",
   "execution_count": 4,
   "metadata": {},
   "outputs": [
    {
     "data": {
      "text/plain": [
       "[1, 1, 0]"
      ]
     },
     "execution_count": 4,
     "metadata": {},
     "output_type": "execute_result"
    }
   ],
   "source": [
    "#initialisation de deux polynome pour le test\n",
    "p1 = np.poly1d([1,1])\n",
    "x = np.poly1d([1,0])\n",
    "#cette fonction permet de multiplier deux fonctions dans la base 2 {0,1} la particularité de cette fonction\n",
    "#est que aprés le calcul le modulo(2) est appliquer a tous les coéfficients\n",
    "\n",
    "def mul_poly_mod2(p1,p2):\n",
    "    list_mpz = gf_mul(p1, p2, 2, ZZ)\n",
    "    list_int = [int(i) for i in list_mpz] #permet de convertir les éléments de la liste en entier \n",
    "    return list_int\n",
    "\n",
    "#test de la fonction\n",
    "mul_poly_mod2(p1.coeffs,x.coeffs)"
   ]
  },
  {
   "cell_type": "markdown",
   "metadata": {},
   "source": [
    "#### MODULO DE DEUX POLYNOME"
   ]
  },
  {
   "cell_type": "code",
   "execution_count": 7,
   "metadata": {},
   "outputs": [
    {
     "data": {
      "text/plain": [
       "[1, 0, 1, 1]"
      ]
     },
     "execution_count": 7,
     "metadata": {},
     "output_type": "execute_result"
    }
   ],
   "source": [
    "from sympy.polys.domains import ZZ\n",
    "from sympy.polys.galoistools import gf_div\n",
    "#initialisation de deux polynome pour le test\n",
    "p1 = [1,1, 0, 0, 0]#équivaut à x^4 + x^3\n",
    "p2 = [1, 0,0, 1, 1]#équivaut à x^4 + x + 1\n",
    "\n",
    "#cette fonction permet de calculer le modulo de deux polynomes dans la base 2 : f(x) mod(p(x))\n",
    "#exemple:  x^4 + x^3 mod (x^4 + x + 1)=x^3 + X + 1\n",
    "\n",
    "def poly_mod_poly(p1, p2): \n",
    "    f = gf_div(ZZ.map(p1), ZZ.map(p2), 2, ZZ)[1]#renvoi le reste et le modulo on recupère le modulo [1]\n",
    "    f = [int(i) for i in f] #permet de convertir les éléments de la liste en entier \n",
    "    return f\n",
    "\n",
    "#test de la fonction\n",
    "poly_mod_poly(p1, p2)\n"
   ]
  },
  {
   "cell_type": "markdown",
   "metadata": {},
   "source": [
    "### FONCTION TABLE EXPONENTIELLE(antilog) "
   ]
  },
  {
   "cell_type": "code",
   "execution_count": 8,
   "metadata": {
    "scrolled": false
   },
   "outputs": [
    {
     "data": {
      "text/plain": [
       "{0: 1,\n",
       " 1: 2,\n",
       " 2: 4,\n",
       " 3: 8,\n",
       " 4: 3,\n",
       " 5: 6,\n",
       " 6: 12,\n",
       " 7: 11,\n",
       " 8: 5,\n",
       " 9: 10,\n",
       " 10: 7,\n",
       " 11: 14,\n",
       " 12: 15,\n",
       " 13: 13,\n",
       " 14: 9}"
      ]
     },
     "execution_count": 8,
     "metadata": {},
     "output_type": "execute_result"
    }
   ],
   "source": [
    "#initialisation du polynome et des constante\n",
    "poly_ini = list(np.poly1d([1,1]).coeffs)\n",
    "poly = list(np.poly1d([1,0,0,1,1]).coeffs)\n",
    "poly = [int(i) for i in poly]\n",
    "p=4 #le plus grand exposant\n",
    "numeric_poly_value = list()\n",
    "\n",
    "\n",
    "def gf_antilog_all(poly_ini, poly, p):\n",
    "    x = list(np.poly1d([1, 0]).coeffs)\n",
    "    for i in range(p):\n",
    "        numeric_poly_value.append(2**i)\n",
    "    i=p\n",
    "    numeric_poly_value.append(np.poly1d(poly_ini)(2))\n",
    "    while i != 1:\n",
    "        prod = mul_poly_mod2(x, poly_ini)\n",
    "        if len(prod) >= 5:        \n",
    "            prod = poly_mod_poly(prod, poly)\n",
    "        prod = np.poly1d(prod)\n",
    "        i=prod(2)\n",
    "        numeric_poly_value.append(i)\n",
    "        poly_ini=list(prod.coeffs)\n",
    "    return {key: value for (key, value) in zip(range(15), numeric_poly_value)}\n",
    "\n",
    "\n",
    "gf_antilog_all(poly_ini, poly, p)"
   ]
  },
  {
   "cell_type": "code",
   "execution_count": 9,
   "metadata": {},
   "outputs": [
    {
     "data": {
      "text/plain": [
       "3"
      ]
     },
     "execution_count": 9,
     "metadata": {},
     "output_type": "execute_result"
    }
   ],
   "source": [
    "def gf_antilog(i):\n",
    "    return gf_antilog_all(poly_ini, poly, p)[i]\n",
    "gf_antilog(4)"
   ]
  },
  {
   "cell_type": "markdown",
   "metadata": {},
   "source": [
    "### FONCTION  TABLE LOG"
   ]
  },
  {
   "cell_type": "code",
   "execution_count": 10,
   "metadata": {
    "scrolled": true
   },
   "outputs": [
    {
     "data": {
      "text/plain": [
       "{1: 0,\n",
       " 2: 1,\n",
       " 4: 2,\n",
       " 8: 3,\n",
       " 3: 4,\n",
       " 6: 5,\n",
       " 12: 6,\n",
       " 11: 7,\n",
       " 5: 8,\n",
       " 10: 9,\n",
       " 7: 10,\n",
       " 14: 11,\n",
       " 15: 12,\n",
       " 13: 13,\n",
       " 9: 14}"
      ]
     },
     "execution_count": 10,
     "metadata": {},
     "output_type": "execute_result"
    }
   ],
   "source": [
    "def gf_log_all():\n",
    "    return {key: value for (key, value) in zip(gf_antilog_all(poly_ini, poly, p).values(), range(15))}\n",
    "gf_log_all()"
   ]
  },
  {
   "cell_type": "code",
   "execution_count": 11,
   "metadata": {
    "scrolled": true
   },
   "outputs": [
    {
     "ename": "TypeError",
     "evalue": "gf_antilog() takes 1 positional argument but 3 were given",
     "output_type": "error",
     "traceback": [
      "\u001b[1;31m---------------------------------------------------------------------------\u001b[0m",
      "\u001b[1;31mTypeError\u001b[0m                                 Traceback (most recent call last)",
      "\u001b[1;32m<ipython-input-11-825f8b82032f>\u001b[0m in \u001b[0;36m<module>\u001b[1;34m\u001b[0m\n\u001b[0;32m      1\u001b[0m \u001b[1;32mdef\u001b[0m \u001b[0mgf_log\u001b[0m\u001b[1;33m(\u001b[0m\u001b[0mi\u001b[0m\u001b[1;33m)\u001b[0m\u001b[1;33m:\u001b[0m\u001b[1;33m\u001b[0m\u001b[1;33m\u001b[0m\u001b[0m\n\u001b[0;32m      2\u001b[0m     \u001b[1;32mreturn\u001b[0m \u001b[1;33m{\u001b[0m\u001b[0mkey\u001b[0m\u001b[1;33m:\u001b[0m \u001b[0mvalue\u001b[0m \u001b[1;32mfor\u001b[0m \u001b[1;33m(\u001b[0m\u001b[0mkey\u001b[0m\u001b[1;33m,\u001b[0m \u001b[0mvalue\u001b[0m\u001b[1;33m)\u001b[0m \u001b[1;32min\u001b[0m \u001b[0mzip\u001b[0m\u001b[1;33m(\u001b[0m\u001b[0mgf_antilog\u001b[0m\u001b[1;33m(\u001b[0m\u001b[0mpoly_ini\u001b[0m\u001b[1;33m,\u001b[0m \u001b[0mpoly\u001b[0m\u001b[1;33m,\u001b[0m \u001b[0mp\u001b[0m\u001b[1;33m)\u001b[0m\u001b[1;33m,\u001b[0m \u001b[0mrange\u001b[0m\u001b[1;33m(\u001b[0m\u001b[1;36m15\u001b[0m\u001b[1;33m)\u001b[0m\u001b[1;33m)\u001b[0m\u001b[1;33m}\u001b[0m\u001b[1;33m[\u001b[0m\u001b[0mi\u001b[0m\u001b[1;33m]\u001b[0m\u001b[1;33m\u001b[0m\u001b[1;33m\u001b[0m\u001b[0m\n\u001b[1;32m----> 3\u001b[1;33m \u001b[0mgf_log\u001b[0m\u001b[1;33m(\u001b[0m\u001b[1;36m10\u001b[0m\u001b[1;33m)\u001b[0m\u001b[1;33m\u001b[0m\u001b[1;33m\u001b[0m\u001b[0m\n\u001b[0m",
      "\u001b[1;32m<ipython-input-11-825f8b82032f>\u001b[0m in \u001b[0;36mgf_log\u001b[1;34m(i)\u001b[0m\n\u001b[0;32m      1\u001b[0m \u001b[1;32mdef\u001b[0m \u001b[0mgf_log\u001b[0m\u001b[1;33m(\u001b[0m\u001b[0mi\u001b[0m\u001b[1;33m)\u001b[0m\u001b[1;33m:\u001b[0m\u001b[1;33m\u001b[0m\u001b[1;33m\u001b[0m\u001b[0m\n\u001b[1;32m----> 2\u001b[1;33m     \u001b[1;32mreturn\u001b[0m \u001b[1;33m{\u001b[0m\u001b[0mkey\u001b[0m\u001b[1;33m:\u001b[0m \u001b[0mvalue\u001b[0m \u001b[1;32mfor\u001b[0m \u001b[1;33m(\u001b[0m\u001b[0mkey\u001b[0m\u001b[1;33m,\u001b[0m \u001b[0mvalue\u001b[0m\u001b[1;33m)\u001b[0m \u001b[1;32min\u001b[0m \u001b[0mzip\u001b[0m\u001b[1;33m(\u001b[0m\u001b[0mgf_antilog\u001b[0m\u001b[1;33m(\u001b[0m\u001b[0mpoly_ini\u001b[0m\u001b[1;33m,\u001b[0m \u001b[0mpoly\u001b[0m\u001b[1;33m,\u001b[0m \u001b[0mp\u001b[0m\u001b[1;33m)\u001b[0m\u001b[1;33m,\u001b[0m \u001b[0mrange\u001b[0m\u001b[1;33m(\u001b[0m\u001b[1;36m15\u001b[0m\u001b[1;33m)\u001b[0m\u001b[1;33m)\u001b[0m\u001b[1;33m}\u001b[0m\u001b[1;33m[\u001b[0m\u001b[0mi\u001b[0m\u001b[1;33m]\u001b[0m\u001b[1;33m\u001b[0m\u001b[1;33m\u001b[0m\u001b[0m\n\u001b[0m\u001b[0;32m      3\u001b[0m \u001b[0mgf_log\u001b[0m\u001b[1;33m(\u001b[0m\u001b[1;36m10\u001b[0m\u001b[1;33m)\u001b[0m\u001b[1;33m\u001b[0m\u001b[1;33m\u001b[0m\u001b[0m\n",
      "\u001b[1;31mTypeError\u001b[0m: gf_antilog() takes 1 positional argument but 3 were given"
     ]
    }
   ],
   "source": [
    "def gf_log(i):\n",
    "    return {key: value for (key, value) in zip(gf_antilog(poly_ini, poly, p), range(15))}[i] \n",
    "gf_log(10)"
   ]
  }
 ],
 "metadata": {
  "kernelspec": {
   "display_name": "Python 3",
   "language": "python",
   "name": "python3"
  },
  "language_info": {
   "codemirror_mode": {
    "name": "ipython",
    "version": 3
   },
   "file_extension": ".py",
   "mimetype": "text/x-python",
   "name": "python",
   "nbconvert_exporter": "python",
   "pygments_lexer": "ipython3",
   "version": "3.7.6"
  }
 },
 "nbformat": 4,
 "nbformat_minor": 2
}
